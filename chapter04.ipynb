{
 "cells": [
  {
   "cell_type": "markdown",
   "metadata": {
    "id": "g_a9QvUFVCUR"
   },
   "source": [
    "<h1>4장 텍스트 분류</h1>\n",
    "<i>표현 모델과 생성 모델을 사용해 텍스트 분류하기</i>\n",
    "\n",
    "<a href=\"https://github.com/rickiepark/handson-llm\"><img src=\"https://img.shields.io/badge/GitHub%20Repository-black?logo=github\"></a>\n",
    "[![Open In Colab](https://colab.research.google.com/assets/colab-badge.svg)](https://colab.research.google.com/github/rickiepark/handson-llm/blob/main/chapter04.ipynb)\n",
    "\n",
    "---\n",
    "\n",
    "이 노트북은 <[핸즈온 LLM](https://tensorflow.blog/handson-llm/)> 책 4장의 코드를 담고 있습니다.\n",
    "\n",
    "---\n",
    "\n",
    "<a href=\"https://tensorflow.blog/handson-llm/\">\n",
    "<img src=\"https://tensorflow.blog/wp-content/uploads/2025/05/ed95b8eca688ec98a8_llm.jpg\" width=\"350\"/></a>"
   ]
  },
  {
   "cell_type": "markdown",
   "metadata": {
    "id": "wkgx7Ubhy0SL"
   },
   "source": [
    "### [선택사항] - <img src=\"https://colab.google/static/images/icons/colab.png\" width=100>에서 패키지 선택하기\n",
    "\n",
    "\n",
    "이 노트북을 구글 코랩에서 실행한다면 다음 코드 셀을 실행하여 이 노트북에서 필요한 패키지를  설치하세요.\n",
    "\n",
    "---\n",
    "\n",
    "💡 **NOTE**: 이 노트북의 코드를 실행하려면 GPU를 사용하는 것이 좋습니다. 구글 코랩에서는 **런타임 > 런타임 유형 변경 > 하드웨어 가속기 > T4 GPU**를 선택하세요.\n",
    "\n",
    "---\n"
   ]
  },
  {
   "cell_type": "code",
   "execution_count": 1,
   "metadata": {
    "id": "yvWiFESCy0SN"
   },
   "outputs": [],
   "source": [
    "%%capture\n",
    "!pip install datasets"
   ]
  },
  {
   "cell_type": "markdown",
   "metadata": {
    "id": "UBeVnXxQWy7-"
   },
   "source": [
    "# 영화 리뷰 데이터셋"
   ]
  },
  {
   "cell_type": "code",
   "execution_count": 2,
   "metadata": {
    "colab": {
     "base_uri": "https://localhost:8080/",
     "height": 497,
     "referenced_widgets": [
      "b892831e32ed43b296d3bdf6249fae54",
      "05091b0e90f14257b29c40f0b3f1e687",
      "adb0714a71cc4f18874fde15a59abdc4",
      "34777b69412e46f58622a4714e1c854a",
      "5f6df71c9b2f4539a168f1bbea653176",
      "af3e0ac141c846dba6bfd093e5438361",
      "2ff3fd21128e476e8fcfc716f85bdc92",
      "a090956c48604d63b992898cbc9345c8",
      "06f71ec24ca14eb984b21081836fd766",
      "237a3ec7c05b48c58b59850ca5af5b67",
      "beee9d83a53b41c0a76950f6b0d057af",
      "9bcb8d1d8c1044a78e595a3b64a8279d",
      "d63c5fcee12a47be82478ea3468c9a2e",
      "7eceec050570428db8225220123628b3",
      "cc02f14172e94394abf508c7c02baffd",
      "37d4f438a64b4a94ad56d2411f532d19",
      "b20e84a61b3246d48639665798362a7b",
      "2e5402f6da894997b7312f626ad2cbfe",
      "8bfc04f97086459692ab1f89c00b5d58",
      "668468b0446b4888a02d64dd6cf6aa8e",
      "f2437cc6fc424f16a422ffd20aef6958",
      "25c57f0aa5994c09909722ee2d3cf415",
      "aeda8e1adf3e40e9bc91ce62739e8499",
      "89bfd4d7e00c4f6d98bd02bd5e4c1a02",
      "fd21e9162e1d40348c78a8c4a1f58b5b",
      "9209c865c8494e98a96abecbccdeafd0",
      "0435092bb3f44243aa42231dde233d1c",
      "7b5d95ded9e24f41b5e1481f0ea5140d",
      "2d99f8e616fd436aa8339755552a388b",
      "4927a79f69694a31996c84a41badf9cb",
      "d7995a22bc3342abbee6cf5d61c91d59",
      "ef5fc1437bf64268a73961b1280f0afd",
      "d5a82537daf440bda719e9dc4b873ffe",
      "efda1129cf6f4961bcb0479a33d3e082",
      "e8943e22e12648f69eb1bf4202db22a6",
      "a2bf466514c94f21919d6666f8a28ba9",
      "9d0d27d247284af8ba7e05c96834999c",
      "5da39bba9e674288a3010554c36759a6",
      "fdfd4824acea4b688f4fba208a1849d2",
      "e19866f10f414b119908677c2e46c94b",
      "afa78a256a1c495d9ffd0c59adcf99bf",
      "598c3fbdf40e4b0aa4ee283720166896",
      "3ecf0cd7cddc412d830353926013b50b",
      "3d2bda5dbc3f480287223046af7755f9",
      "f4fe950adb4b41e9a2fac2ef312b8a49",
      "004c68ef472a41328046326d41ace13f",
      "72e0c32ccb90494f8a84d343b7551d09",
      "54ba481b11f342a69a71541850598697",
      "cab408435b174906b1c4c42033819f69",
      "83964bfed3d14c97b4d13225547140a3",
      "04e6e4e1d1e9495c928836cf729bc4b7",
      "05a5b7f890ed48c39b9384ab56d2b8cb",
      "d927f23fc0a849659966cebf139a139b",
      "99b8c24585d94d4fb923dd515c50674e",
      "db99af6e490a408a9325a568324cd778",
      "1b6966bdf73847648d61cee0059f0f06",
      "ac6f4cfd243b450fa5aff7eb58114ab7",
      "43013390abad4dd4a355794be0fe7bdb",
      "caf9deb22b4845d8ab4abaa2e3fe4547",
      "fe4ecc3c5f6d4d97823c093305cc9ea5",
      "27b2edb4ef4f44bf8dfda21d0ed3f717",
      "e0f32d7421704008a5685c83792f4cff",
      "2fa815c12a824dd993a2e5d1fc92f09b",
      "a3925c32646e4ca6a2386d43756eac61",
      "d3bb335e36354fc0b4d631772a297aba",
      "0bda59faa54a4500a3b628d57b663cfc",
      "b04c1401ad6b4ec490456a71f8a95c73",
      "896a289c8d3349f8b04d44a2c3aaa0f1",
      "3dad68a5526649c6a0d200cc8a618039",
      "669481bd39aa447a8c22d9b94a2aeeec",
      "8af484b3ed0045d9971ce3266144d565",
      "af8866c00c814f86bcc08c3f2e5e15cb",
      "36aa885f5bf84aaebc2a9c3ef0af3ece",
      "eae39649531c426383d1b069b37a45ea",
      "9d5a16f3b4c44ea5900901c094bdedf9",
      "f75170c9655d4a4faa82f846e9ef52a3",
      "cf28be0fb4e84589b0da7eb30611e66b"
     ]
    },
    "id": "5phRS_z2U_3T",
    "outputId": "28478b2b-8fca-4577-937d-87c322c0bbca"
   },
   "outputs": [
    {
     "data": {
      "application/vnd.jupyter.widget-view+json": {
       "model_id": "b892831e32ed43b296d3bdf6249fae54",
       "version_major": 2,
       "version_minor": 0
      },
      "text/plain": [
       "README.md:   0%|          | 0.00/7.46k [00:00<?, ?B/s]"
      ]
     },
     "metadata": {},
     "output_type": "display_data"
    },
    {
     "data": {
      "application/vnd.jupyter.widget-view+json": {
       "model_id": "9bcb8d1d8c1044a78e595a3b64a8279d",
       "version_major": 2,
       "version_minor": 0
      },
      "text/plain": [
       "train.parquet:   0%|          | 0.00/699k [00:00<?, ?B/s]"
      ]
     },
     "metadata": {},
     "output_type": "display_data"
    },
    {
     "data": {
      "application/vnd.jupyter.widget-view+json": {
       "model_id": "aeda8e1adf3e40e9bc91ce62739e8499",
       "version_major": 2,
       "version_minor": 0
      },
      "text/plain": [
       "validation.parquet:   0%|          | 0.00/90.0k [00:00<?, ?B/s]"
      ]
     },
     "metadata": {},
     "output_type": "display_data"
    },
    {
     "data": {
      "application/vnd.jupyter.widget-view+json": {
       "model_id": "efda1129cf6f4961bcb0479a33d3e082",
       "version_major": 2,
       "version_minor": 0
      },
      "text/plain": [
       "test.parquet:   0%|          | 0.00/92.2k [00:00<?, ?B/s]"
      ]
     },
     "metadata": {},
     "output_type": "display_data"
    },
    {
     "data": {
      "application/vnd.jupyter.widget-view+json": {
       "model_id": "f4fe950adb4b41e9a2fac2ef312b8a49",
       "version_major": 2,
       "version_minor": 0
      },
      "text/plain": [
       "Generating train split:   0%|          | 0/8530 [00:00<?, ? examples/s]"
      ]
     },
     "metadata": {},
     "output_type": "display_data"
    },
    {
     "data": {
      "application/vnd.jupyter.widget-view+json": {
       "model_id": "1b6966bdf73847648d61cee0059f0f06",
       "version_major": 2,
       "version_minor": 0
      },
      "text/plain": [
       "Generating validation split:   0%|          | 0/1066 [00:00<?, ? examples/s]"
      ]
     },
     "metadata": {},
     "output_type": "display_data"
    },
    {
     "data": {
      "application/vnd.jupyter.widget-view+json": {
       "model_id": "b04c1401ad6b4ec490456a71f8a95c73",
       "version_major": 2,
       "version_minor": 0
      },
      "text/plain": [
       "Generating test split:   0%|          | 0/1066 [00:00<?, ? examples/s]"
      ]
     },
     "metadata": {},
     "output_type": "display_data"
    },
    {
     "data": {
      "text/plain": [
       "DatasetDict({\n",
       "    train: Dataset({\n",
       "        features: ['text', 'label'],\n",
       "        num_rows: 8530\n",
       "    })\n",
       "    validation: Dataset({\n",
       "        features: ['text', 'label'],\n",
       "        num_rows: 1066\n",
       "    })\n",
       "    test: Dataset({\n",
       "        features: ['text', 'label'],\n",
       "        num_rows: 1066\n",
       "    })\n",
       "})"
      ]
     },
     "execution_count": 2,
     "metadata": {},
     "output_type": "execute_result"
    }
   ],
   "source": [
    "from datasets import load_dataset\n",
    "\n",
    "# 데이터를 로드합니다.\n",
    "data = load_dataset(\"rotten_tomatoes\")\n",
    "data"
   ]
  },
  {
   "cell_type": "code",
   "execution_count": 3,
   "metadata": {
    "colab": {
     "base_uri": "https://localhost:8080/"
    },
    "id": "xJJmaJzHDLZv",
    "outputId": "413ce17b-cf7c-4354-f5d5-5cd9dd382723"
   },
   "outputs": [
    {
     "data": {
      "text/plain": [
       "{'text': ['the rock is destined to be the 21st century\\'s new \" conan \" and that he\\'s going to make a splash even greater than arnold schwarzenegger , jean-claud van damme or steven segal .',\n",
       "  'things really get weird , though not particularly scary : the movie is all portent and no content .'],\n",
       " 'label': [1, 0]}"
      ]
     },
     "execution_count": 3,
     "metadata": {},
     "output_type": "execute_result"
    }
   ],
   "source": [
    "data[\"train\"][0, -1]"
   ]
  },
  {
   "cell_type": "markdown",
   "metadata": {
    "id": "xya5dfmVoR1R"
   },
   "source": [
    "# 표현 모델로 텍스트 분류하기"
   ]
  },
  {
   "cell_type": "markdown",
   "metadata": {
    "id": "co68g-Eloknf"
   },
   "source": [
    "# 작업에 특화된 모델 사용하기"
   ]
  },
  {
   "cell_type": "code",
   "execution_count": 4,
   "metadata": {
    "colab": {
     "base_uri": "https://localhost:8080/",
     "height": 339,
     "referenced_widgets": [
      "552d3ec6f4694d72847b77d54dee6e34",
      "e2aaaf47b04446488cba908531b0decb",
      "e1fe10ae6c2e4835a8b7b7ea42dbc082",
      "cf8a286145fc42b6a2cd35bebdeb6b4f",
      "8d47ecfbd768436ca66d62efcfd220b4",
      "736573317f204bc9aed670090c0725a3",
      "7dc2e9a2ef5340889c3324de9a49d765",
      "9fb118cd049f43a9a89de78687f6b40e",
      "e40643ab60f74c04b3c7c1e123d31300",
      "e696856b2ee8459ca2cfc73980c7da54",
      "e11f1d4e7c5c471b9380c894d68979e5",
      "0c3afc3faf8b4f86b7c3cdfbaddcf471",
      "096bcc10ee2b47ae8bd3322413b82f17",
      "919b44a978444b6d98604a8651e58335",
      "7d8575b0bc5149a989ff2793b65af352",
      "1238a74879ab4927a85f14fcaa751d7f",
      "3054f72060564e46b26c2e200dc28608",
      "ec1450f103e44074bd5d54f0f05155a6",
      "e15d02fcec9d4ce9b02da6d2206b5090",
      "e6dbd5e2f63d43ce9c1f1dab9de0a3e1",
      "c0ec342750f3468295885ac8b8e51058",
      "08a604051de04aa39d9cb98c32dd1fe1",
      "2e537484e0164cf692203f7551fc05f7",
      "29d458a268bd498fa727129a85db0c50",
      "bd841c9adb3a4ae5bb7f2a9de1f6837a",
      "9c3534ba4f9749a3b38770b527e1cfbb",
      "30b334d1d3a74008a1706cc2b9275f57",
      "930463c4a7c549e28052bfbda5ab12e2",
      "9214b3fd51734bcfad55d1a718883c92",
      "4f2bcfe158de463098cb8fdc1a1527e0",
      "ca8bc9cbc56346d996ca70c171965784",
      "faa22e30e31647a79b344893f86ef382",
      "b6bba421094541a396dfa514ccf3770f",
      "5390d431346f41b598f1022cb536a629",
      "a4888a2fdc534fb7b1ba64699bfd0795",
      "1a00a6b1b1644bb7a404b11628991c8c",
      "a5bfadf895844636878119143604800f",
      "92f97a7fe39e440cab04ed476d60e39d",
      "d0fa09bc8b35481597bcc8adc31b6c92",
      "1e45abab94f9400ea7fcdef2efe07f92",
      "346a4371ca0840e398dace5035d4e8df",
      "02c4b7a2eb3a4f21bf5cbd4011bd8e11",
      "10b816d992094472bd089f72ebe529f7",
      "56b2f21d611e48548f80287280da75e7",
      "ebef4dd15e35463384c3344a3e68c8eb",
      "b2b4e0ca3ad845868c7b251d7a59a2b1",
      "092b2660a0ae43fabcc136c3afd3cf89",
      "4e161ae289f44a2988fe995898b80365",
      "a8aed02b530a46f88c14b7bbf4c61f33",
      "d31c7305d1544202add9bd2c559561a4",
      "6483ca82e9074c2f9a3b90330050552d",
      "994b481686414cffb2f8cb3017182561",
      "a9a4089281614e8e87e7be7d4278e722",
      "8fd70b2048244c1782c14ccbb73880f8",
      "12594d08a34f45c282e91eafdb29be2a",
      "4d6b34b3d93944588f761655ac49e82f",
      "28b7e2fc94314660ae2baff2f70a6f43",
      "4fcb274f34814b088d84cd3b423da136",
      "c54ce02056884b16b15b4cb4b387cbc9",
      "b121750dc5aa4f85b1e276351047270c",
      "3c649fa4512145488aa57a4afff2f697",
      "5f42d16fcf43428eb06e4712d8c15675",
      "bd147ab98f3046218926d4e0e8cac634",
      "650f37556c3b4498bc84a6c950641fcd",
      "1d36d6eb1de644b0a87ba0566f0db7fd",
      "e724dee0cd624697be8a74037f58cd43"
     ]
    },
    "id": "ph-3T3XJopdN",
    "outputId": "5cc494f9-e5bd-4e33-eb61-4c93141cc48e"
   },
   "outputs": [
    {
     "name": "stderr",
     "output_type": "stream",
     "text": [
      "The cache for model files in Transformers v4.22.0 has been updated. Migrating your old cache. This is a one-time only operation. You can interrupt this and resume the migration later on by calling `transformers.utils.move_cache()`.\n"
     ]
    },
    {
     "data": {
      "application/vnd.jupyter.widget-view+json": {
       "model_id": "552d3ec6f4694d72847b77d54dee6e34",
       "version_major": 2,
       "version_minor": 0
      },
      "text/plain": [
       "0it [00:00, ?it/s]"
      ]
     },
     "metadata": {},
     "output_type": "display_data"
    },
    {
     "data": {
      "application/vnd.jupyter.widget-view+json": {
       "model_id": "0c3afc3faf8b4f86b7c3cdfbaddcf471",
       "version_major": 2,
       "version_minor": 0
      },
      "text/plain": [
       "config.json:   0%|          | 0.00/929 [00:00<?, ?B/s]"
      ]
     },
     "metadata": {},
     "output_type": "display_data"
    },
    {
     "data": {
      "application/vnd.jupyter.widget-view+json": {
       "model_id": "2e537484e0164cf692203f7551fc05f7",
       "version_major": 2,
       "version_minor": 0
      },
      "text/plain": [
       "pytorch_model.bin:   0%|          | 0.00/501M [00:00<?, ?B/s]"
      ]
     },
     "metadata": {},
     "output_type": "display_data"
    },
    {
     "name": "stderr",
     "output_type": "stream",
     "text": [
      "Some weights of the model checkpoint at cardiffnlp/twitter-roberta-base-sentiment-latest were not used when initializing RobertaForSequenceClassification: ['roberta.pooler.dense.bias', 'roberta.pooler.dense.weight']\n",
      "- This IS expected if you are initializing RobertaForSequenceClassification from the checkpoint of a model trained on another task or with another architecture (e.g. initializing a BertForSequenceClassification model from a BertForPreTraining model).\n",
      "- This IS NOT expected if you are initializing RobertaForSequenceClassification from the checkpoint of a model that you expect to be exactly identical (initializing a BertForSequenceClassification model from a BertForSequenceClassification model).\n"
     ]
    },
    {
     "data": {
      "application/vnd.jupyter.widget-view+json": {
       "model_id": "5390d431346f41b598f1022cb536a629",
       "version_major": 2,
       "version_minor": 0
      },
      "text/plain": [
       "vocab.json:   0%|          | 0.00/899k [00:00<?, ?B/s]"
      ]
     },
     "metadata": {},
     "output_type": "display_data"
    },
    {
     "data": {
      "application/vnd.jupyter.widget-view+json": {
       "model_id": "ebef4dd15e35463384c3344a3e68c8eb",
       "version_major": 2,
       "version_minor": 0
      },
      "text/plain": [
       "merges.txt:   0%|          | 0.00/456k [00:00<?, ?B/s]"
      ]
     },
     "metadata": {},
     "output_type": "display_data"
    },
    {
     "data": {
      "application/vnd.jupyter.widget-view+json": {
       "model_id": "4d6b34b3d93944588f761655ac49e82f",
       "version_major": 2,
       "version_minor": 0
      },
      "text/plain": [
       "special_tokens_map.json:   0%|          | 0.00/239 [00:00<?, ?B/s]"
      ]
     },
     "metadata": {},
     "output_type": "display_data"
    },
    {
     "name": "stderr",
     "output_type": "stream",
     "text": [
      "/usr/local/lib/python3.10/dist-packages/transformers/pipelines/text_classification.py:106: UserWarning: `return_all_scores` is now deprecated,  if want a similar functionality use `top_k=None` instead of `return_all_scores=True` or `top_k=1` instead of `return_all_scores=False`.\n",
      "  warnings.warn(\n"
     ]
    }
   ],
   "source": [
    "from transformers import pipeline\n",
    "\n",
    "# 허깅 페이스 모델 경로\n",
    "model_path = \"cardiffnlp/twitter-roberta-base-sentiment-latest\"\n",
    "\n",
    "# 파이프라인으로 모델을 로드합니다.\n",
    "pipe = pipeline(\n",
    "    model=model_path,\n",
    "    tokenizer=model_path,\n",
    "    return_all_scores=True,\n",
    "    device=\"cuda:0\"\n",
    ")"
   ]
  },
  {
   "cell_type": "code",
   "execution_count": 5,
   "metadata": {
    "colab": {
     "base_uri": "https://localhost:8080/"
    },
    "id": "B2gbnL5Q69Y5",
    "outputId": "af0957fd-10c7-4ddb-fffe-f0ac2b0e8ff1"
   },
   "outputs": [
    {
     "name": "stderr",
     "output_type": "stream",
     "text": [
      "100%|██████████| 1066/1066 [00:11<00:00, 88.92it/s] \n"
     ]
    }
   ],
   "source": [
    "import numpy as np\n",
    "from tqdm import tqdm\n",
    "from transformers.pipelines.pt_utils import KeyDataset\n",
    "\n",
    "# 추론을 실행합니다.\n",
    "y_pred = []\n",
    "for output in tqdm(pipe(KeyDataset(data[\"test\"], \"text\")), total=len(data[\"test\"])):\n",
    "    negative_score = output[0][\"score\"]\n",
    "    positive_score = output[2][\"score\"]\n",
    "    assignment = np.argmax([negative_score, positive_score])\n",
    "    y_pred.append(assignment)"
   ]
  },
  {
   "cell_type": "code",
   "execution_count": 6,
   "metadata": {
    "id": "X0KyKHtqyjn3"
   },
   "outputs": [],
   "source": [
    "from sklearn.metrics import classification_report\n",
    "\n",
    "def evaluate_performance(y_true, y_pred):\n",
    "    \"\"\"분류 리포트를 만들어 출력합니다.\"\"\"\n",
    "    performance = classification_report(\n",
    "        y_true, y_pred,\n",
    "        target_names=[\"Negative Review\", \"Positive Review\"]\n",
    "    )\n",
    "    print(performance)"
   ]
  },
  {
   "cell_type": "code",
   "execution_count": 7,
   "metadata": {
    "colab": {
     "base_uri": "https://localhost:8080/"
    },
    "id": "fum3MTSyymlW",
    "outputId": "aec9c199-c7f1-43d3-b065-abc6b01088cd"
   },
   "outputs": [
    {
     "name": "stdout",
     "output_type": "stream",
     "text": [
      "                 precision    recall  f1-score   support\n",
      "\n",
      "Negative Review       0.76      0.88      0.81       533\n",
      "Positive Review       0.86      0.72      0.78       533\n",
      "\n",
      "       accuracy                           0.80      1066\n",
      "      macro avg       0.81      0.80      0.80      1066\n",
      "   weighted avg       0.81      0.80      0.80      1066\n",
      "\n"
     ]
    }
   ],
   "source": [
    "evaluate_performance(data[\"test\"][\"label\"], y_pred)"
   ]
  },
  {
   "cell_type": "markdown",
   "metadata": {
    "id": "Wr3WT4jzoNZE"
   },
   "source": [
    "# 임베딩을 활용하여 분류 작업 수행하기"
   ]
  },
  {
   "cell_type": "markdown",
   "metadata": {
    "id": "l8yuSP3heMzT"
   },
   "source": [
    "## 지도 학습 분류"
   ]
  },
  {
   "cell_type": "code",
   "execution_count": 8,
   "metadata": {
    "colab": {
     "base_uri": "https://localhost:8080/",
     "height": 433,
     "referenced_widgets": [
      "e470df17057f4db8b129e7d8cfbb6ad1",
      "bdfd67f8ec6d4219b45aad05ab32d7e6",
      "60e0d7ccdc3946bc9d3790883fbfe7bc",
      "f13ed040e08842d5b8a478cdc8c2d158",
      "b418f53acc994ebc90eb8d55178322d0",
      "74a2775df65a412193a8a9eb226b3149",
      "a964b85de17e439187515995e1cdc831",
      "72e6ed23be1c45698fc1829127e9cfd5",
      "699f199e533b47aabb8ebecb947a8729",
      "0eaa282d35e247b393eadb3e4418aa72",
      "f8f6ee9cadb946fa85b610e5ea2bd310",
      "12ef40f5ba6f44b98561ae06a31f0d26",
      "33db5c05ec2a432dba62c937e0eb0e82",
      "cd396668c0224eee89f6e2edd24022f3",
      "34188af087944e449877befcdeb279b9",
      "bf574bf8afcc473aaea834b828716be0",
      "8938628b64d44ddda31b2b9087aac62a",
      "6d07f54ec0984de891c39b1caae2c72f",
      "0aa1a042efae4f708e278c1e08c95a5c",
      "86b0c4ea355a419889a6bc53d65472d7",
      "0fe486c0f0ba4ad4b554df1c90af9470",
      "af1658183d1d48328fef6ffb2b5503b9",
      "35010ea071474cad80dda6e20724f893",
      "b34405c9443649fa8732b2e841e3ef95",
      "ef688f2441224a888a5447f0f09e0e7a",
      "c8b1570f8b274e7d8a5eff149adc4a1a",
      "d25652f7d64e4064985a175baa3ef9ee",
      "64cd8b40da134fea8d15222e78d70046",
      "c5f635f4ca494fd9ae772c8590411b1d",
      "8d4d31ed973e4b19aa290bdf8e3a9c32",
      "be991776c7374fc5b4b92c061b764f6a",
      "6efa0809fa7044639292d1f021db6d9b",
      "4bd116fcfb1942afa5f0a92ad3a6c042",
      "0b8e889c89574e59a87beb0104332389",
      "a3a8a01e79ce41d6b918994beecabf73",
      "5902af4dd5a54119996895ee154976c0",
      "04c043aa5bde4ac48a7c6b007d25fe1a",
      "54f9291663ea4bbaa244c7466f81bd56",
      "6018c4194d8b4adeb0adfd30749d84ab",
      "703a7539e7424b7a89f6f781aef46793",
      "ae0a6d90638146aaa477cc37ad4c15e1",
      "35d01d0427a84c8c8afcb0ba7ab90fcc",
      "5f59af0c6e58434ba123862a746642f5",
      "1e8b2e29b58548c191597b3b6abcf711",
      "6bc58b73112444e5931f055a90bba5f4",
      "a3504eb4ed2d4a4eadb7f3e36df50f8f",
      "1b54ab1eaf0e447bb9c2055676c9725e",
      "957d227f5d7a437d84b337eb8538fa46",
      "3bf43dac3a7e49c3aa2de70f30729103",
      "0dfed4408c8a4101b330608b4b5327d1",
      "73a36ccf08914b059b32768b501bea9e",
      "0cdfaa3ccc5944efbb12511a0efefd6c",
      "8c2b480bf8e94684a238ed0825f3eeaf",
      "0b19587cb81743e39fcc787fdaa808b7",
      "5085659bbaa64db89be8aa791d0b03a9",
      "f56e38115e5f402997e905e6273bded4",
      "f744d4e60c6a41919ca404af3789ad95",
      "2d6582451acb4a7d9a9ea13c25a6b621",
      "253c889c860d4d439ed525db554792ba",
      "94ee0daaaf3340a08d172ff62ee8f558",
      "e47879983f3a43409c97d97808c3e176",
      "b973b196e0694a55b1be63b41078afe8",
      "9f5721fdf2df458a825ca098e0bfedf1",
      "977ffd388840470b91b0991e0d14248e",
      "fa79f9fe29f14ccfb0bc165f72dd79ee",
      "58192737a4cf41b3b2d625fbd3cb5e87",
      "1e8833e2c66749409efbc86a7c95af20",
      "ee7065b183bf4c97a67e735055f8bafb",
      "8f750d0fcb3a43c7a3a376dc2639fd20",
      "1a8eebbfd04a4030b952cb1dddd51878",
      "2d60e066bb9e4c248a4fe36af2d5ca66",
      "7a1d84c43b7f4d65b2d073e01768ca60",
      "c1b71b10327940e393eb556f112ed96f",
      "6ed9c04e72d549c2a902a6bd60fb80f8",
      "5c7144525e9649b1b63dcd4207edf042",
      "5a65e0b453264ae1a2e4b795eae43336",
      "7a4f40b2ca8d44c9b5f235f5a59a5254",
      "4e4ae1526d1a4d0f9986ffc6da3bdd42",
      "b38a4a64bcda496ca81ff6476d8e335b",
      "49700e0373a84679b9374e2d0b9674e2",
      "142b159150354df0a67223b652934193",
      "6776da9424dc48a497918fa24836ed7b",
      "78a49750c35341a38e4030f9fa534dde",
      "1e4233a9c21c44e8a60647f048d0d142",
      "ba4629de5ede45f8869ec03f4a2bbd0e",
      "e00281e6683f4d25beca4beb6fc5667c",
      "979d516f52204317a3edda9253458f27",
      "8526b6eb13664e4498d3d2e4bf185654",
      "33fc98b456a144b9862fdf4712dff0df",
      "dc1fa258a46e47eeb62e4445fd80e85a",
      "1ba5f449d4c34268ac0e86ef561fd016",
      "9d13406369b744aabcebf06a68825450",
      "c51aecce897d4a52b6b7270265babf63",
      "6f58686362f94a719114bde0825e0c34",
      "60076e98003f445cb7af4940ea47f6e6",
      "e496f845521f4952ae42637e98a243b4",
      "ccd7d7d3f775412983a1b25f8721e40f",
      "da391209aa0645629bcdfef9c7627be9",
      "03daa1d2e5af42a7a791834acff60602",
      "267cf80267b149e7972d307e290ca092",
      "83a5d6e001a0444ea1ea14c1d25be4dd",
      "15604d6d4f044b67b1b52ea3fe21f9d0",
      "a95efdfd4a5d4e7caf613b41ec3bfd1f",
      "9464088e25c344eba43ad5c35c2d470f",
      "5afbe0043bb847128c89ae61e9846da8",
      "d76ef670759b4fc4a6e65e28cfb6c96d",
      "ad3efecb62084c50b0407a69f3fc014d",
      "5edcd69975474f3297d06d2ed46f898a",
      "0165a732a062440eba7ea66163f3d2c8",
      "34666d683c2a451b9bd1d44a025da32f",
      "0697d956dd89453699a109ba3f6ee8e2",
      "1acadf807ae5419184006b98be97840f",
      "cef6152de0c54621a2f8848ccdd0a858",
      "74952ee55cbd4de599bb693e8b42e697",
      "42d26037db9d4724b8c9192960fc1646",
      "f69b71425ce14f6aa8f0de8897e657c3",
      "ac43f5ff829842c294cceb0a576eedb0",
      "7ea8bc24a0174e18974cd27aab15ae5e",
      "945f91d476764cf9a77d1e7cd76a6466",
      "6131d88d8f61469fac0e76bb9223e850",
      "a023d6a2d6294bd5b064f9c677565dd9",
      "66b668f58bda4cb4b7a0f985f0cf8180",
      "924b4511e369487badb99154f12601bc",
      "ac94a7be7244413396c3cc37da78b8db",
      "16dfb2589bbf4d4790495f2abd04e585",
      "06ab65b2fe5c418bb0b7bf508a70d921",
      "ccdc9fc5959a40fc82c5b831d17e51e7",
      "c3b30f7ae8724f48bea13f0b564a3925",
      "a2a8a30cfaa94707844762a7d527f5f5",
      "ad6f9bb486124c1394f02050eeb7e148",
      "32926c30750f4cd4bdabc99b765f558a",
      "6b45c52f97b641f2b6b323a5c28384e2",
      "0c396428251e459d862f368bf621ec59",
      "bc05baa892e444a1999f7a3c43d390f7",
      "4050b9ca76eb48d6890cb4111f2f55d5",
      "7c7aedd1a5c14dfc8c7435dba178026a",
      "94ba38fc467c4f28bbe52b28999a9e5b",
      "4976771a0c3c4ae9b8bbc888c3998171",
      "5b8be6df0ee44c139101c61e31cb98c7",
      "97438438163b4d029162d20344ec5902",
      "1d4cb7eea6ec4c9eba0fddd6fe1b8341",
      "33ebe8ab0d3b4a3490cad177fdf2169e",
      "671e21c7c4684534a5bfa0e002addbd7"
     ]
    },
    "id": "jGV9VS4bhq7f",
    "outputId": "24e88365-7c01-4916-f6cc-34fc2d3b79b2"
   },
   "outputs": [
    {
     "data": {
      "application/vnd.jupyter.widget-view+json": {
       "model_id": "e470df17057f4db8b129e7d8cfbb6ad1",
       "version_major": 2,
       "version_minor": 0
      },
      "text/plain": [
       "modules.json:   0%|          | 0.00/349 [00:00<?, ?B/s]"
      ]
     },
     "metadata": {},
     "output_type": "display_data"
    },
    {
     "data": {
      "application/vnd.jupyter.widget-view+json": {
       "model_id": "12ef40f5ba6f44b98561ae06a31f0d26",
       "version_major": 2,
       "version_minor": 0
      },
      "text/plain": [
       "config_sentence_transformers.json:   0%|          | 0.00/116 [00:00<?, ?B/s]"
      ]
     },
     "metadata": {},
     "output_type": "display_data"
    },
    {
     "data": {
      "application/vnd.jupyter.widget-view+json": {
       "model_id": "35010ea071474cad80dda6e20724f893",
       "version_major": 2,
       "version_minor": 0
      },
      "text/plain": [
       "README.md:   0%|          | 0.00/10.6k [00:00<?, ?B/s]"
      ]
     },
     "metadata": {},
     "output_type": "display_data"
    },
    {
     "data": {
      "application/vnd.jupyter.widget-view+json": {
       "model_id": "0b8e889c89574e59a87beb0104332389",
       "version_major": 2,
       "version_minor": 0
      },
      "text/plain": [
       "sentence_bert_config.json:   0%|          | 0.00/53.0 [00:00<?, ?B/s]"
      ]
     },
     "metadata": {},
     "output_type": "display_data"
    },
    {
     "data": {
      "application/vnd.jupyter.widget-view+json": {
       "model_id": "6bc58b73112444e5931f055a90bba5f4",
       "version_major": 2,
       "version_minor": 0
      },
      "text/plain": [
       "config.json:   0%|          | 0.00/571 [00:00<?, ?B/s]"
      ]
     },
     "metadata": {},
     "output_type": "display_data"
    },
    {
     "data": {
      "application/vnd.jupyter.widget-view+json": {
       "model_id": "f56e38115e5f402997e905e6273bded4",
       "version_major": 2,
       "version_minor": 0
      },
      "text/plain": [
       "model.safetensors:   0%|          | 0.00/438M [00:00<?, ?B/s]"
      ]
     },
     "metadata": {},
     "output_type": "display_data"
    },
    {
     "data": {
      "application/vnd.jupyter.widget-view+json": {
       "model_id": "1e8833e2c66749409efbc86a7c95af20",
       "version_major": 2,
       "version_minor": 0
      },
      "text/plain": [
       "tokenizer_config.json:   0%|          | 0.00/363 [00:00<?, ?B/s]"
      ]
     },
     "metadata": {},
     "output_type": "display_data"
    },
    {
     "data": {
      "application/vnd.jupyter.widget-view+json": {
       "model_id": "4e4ae1526d1a4d0f9986ffc6da3bdd42",
       "version_major": 2,
       "version_minor": 0
      },
      "text/plain": [
       "vocab.txt:   0%|          | 0.00/232k [00:00<?, ?B/s]"
      ]
     },
     "metadata": {},
     "output_type": "display_data"
    },
    {
     "data": {
      "application/vnd.jupyter.widget-view+json": {
       "model_id": "33fc98b456a144b9862fdf4712dff0df",
       "version_major": 2,
       "version_minor": 0
      },
      "text/plain": [
       "tokenizer.json:   0%|          | 0.00/466k [00:00<?, ?B/s]"
      ]
     },
     "metadata": {},
     "output_type": "display_data"
    },
    {
     "data": {
      "application/vnd.jupyter.widget-view+json": {
       "model_id": "267cf80267b149e7972d307e290ca092",
       "version_major": 2,
       "version_minor": 0
      },
      "text/plain": [
       "special_tokens_map.json:   0%|          | 0.00/239 [00:00<?, ?B/s]"
      ]
     },
     "metadata": {},
     "output_type": "display_data"
    },
    {
     "data": {
      "application/vnd.jupyter.widget-view+json": {
       "model_id": "0697d956dd89453699a109ba3f6ee8e2",
       "version_major": 2,
       "version_minor": 0
      },
      "text/plain": [
       "1_Pooling/config.json:   0%|          | 0.00/190 [00:00<?, ?B/s]"
      ]
     },
     "metadata": {},
     "output_type": "display_data"
    },
    {
     "data": {
      "application/vnd.jupyter.widget-view+json": {
       "model_id": "66b668f58bda4cb4b7a0f985f0cf8180",
       "version_major": 2,
       "version_minor": 0
      },
      "text/plain": [
       "Batches:   0%|          | 0/267 [00:00<?, ?it/s]"
      ]
     },
     "metadata": {},
     "output_type": "display_data"
    },
    {
     "data": {
      "application/vnd.jupyter.widget-view+json": {
       "model_id": "0c396428251e459d862f368bf621ec59",
       "version_major": 2,
       "version_minor": 0
      },
      "text/plain": [
       "Batches:   0%|          | 0/34 [00:00<?, ?it/s]"
      ]
     },
     "metadata": {},
     "output_type": "display_data"
    }
   ],
   "source": [
    "from sentence_transformers import SentenceTransformer\n",
    "\n",
    "# 모델을 로드합니다.\n",
    "model = SentenceTransformer('sentence-transformers/all-mpnet-base-v2')\n",
    "\n",
    "# 텍스트를 임베딩으로 변환합니다.\n",
    "train_embeddings = model.encode(data[\"train\"][\"text\"], show_progress_bar=True)\n",
    "test_embeddings = model.encode(data[\"test\"][\"text\"], show_progress_bar=True)"
   ]
  },
  {
   "cell_type": "code",
   "execution_count": 9,
   "metadata": {
    "colab": {
     "base_uri": "https://localhost:8080/"
    },
    "id": "B5L5CLcOxIeA",
    "outputId": "2e5562b6-f2d3-4ac7-d162-329f8a76bb52"
   },
   "outputs": [
    {
     "data": {
      "text/plain": [
       "(8530, 768)"
      ]
     },
     "execution_count": 9,
     "metadata": {},
     "output_type": "execute_result"
    }
   ],
   "source": [
    "train_embeddings.shape"
   ]
  },
  {
   "cell_type": "code",
   "execution_count": 10,
   "metadata": {
    "colab": {
     "base_uri": "https://localhost:8080/",
     "height": 80
    },
    "id": "8A7oTxoph6bn",
    "outputId": "54e35d98-92a4-498e-a61f-98013ff7a2b1"
   },
   "outputs": [
    {
     "data": {
      "text/html": [
       "<style>#sk-container-id-1 {\n",
       "  /* Definition of color scheme common for light and dark mode */\n",
       "  --sklearn-color-text: black;\n",
       "  --sklearn-color-line: gray;\n",
       "  /* Definition of color scheme for unfitted estimators */\n",
       "  --sklearn-color-unfitted-level-0: #fff5e6;\n",
       "  --sklearn-color-unfitted-level-1: #f6e4d2;\n",
       "  --sklearn-color-unfitted-level-2: #ffe0b3;\n",
       "  --sklearn-color-unfitted-level-3: chocolate;\n",
       "  /* Definition of color scheme for fitted estimators */\n",
       "  --sklearn-color-fitted-level-0: #f0f8ff;\n",
       "  --sklearn-color-fitted-level-1: #d4ebff;\n",
       "  --sklearn-color-fitted-level-2: #b3dbfd;\n",
       "  --sklearn-color-fitted-level-3: cornflowerblue;\n",
       "\n",
       "  /* Specific color for light theme */\n",
       "  --sklearn-color-text-on-default-background: var(--sg-text-color, var(--theme-code-foreground, var(--jp-content-font-color1, black)));\n",
       "  --sklearn-color-background: var(--sg-background-color, var(--theme-background, var(--jp-layout-color0, white)));\n",
       "  --sklearn-color-border-box: var(--sg-text-color, var(--theme-code-foreground, var(--jp-content-font-color1, black)));\n",
       "  --sklearn-color-icon: #696969;\n",
       "\n",
       "  @media (prefers-color-scheme: dark) {\n",
       "    /* Redefinition of color scheme for dark theme */\n",
       "    --sklearn-color-text-on-default-background: var(--sg-text-color, var(--theme-code-foreground, var(--jp-content-font-color1, white)));\n",
       "    --sklearn-color-background: var(--sg-background-color, var(--theme-background, var(--jp-layout-color0, #111)));\n",
       "    --sklearn-color-border-box: var(--sg-text-color, var(--theme-code-foreground, var(--jp-content-font-color1, white)));\n",
       "    --sklearn-color-icon: #878787;\n",
       "  }\n",
       "}\n",
       "\n",
       "#sk-container-id-1 {\n",
       "  color: var(--sklearn-color-text);\n",
       "}\n",
       "\n",
       "#sk-container-id-1 pre {\n",
       "  padding: 0;\n",
       "}\n",
       "\n",
       "#sk-container-id-1 input.sk-hidden--visually {\n",
       "  border: 0;\n",
       "  clip: rect(1px 1px 1px 1px);\n",
       "  clip: rect(1px, 1px, 1px, 1px);\n",
       "  height: 1px;\n",
       "  margin: -1px;\n",
       "  overflow: hidden;\n",
       "  padding: 0;\n",
       "  position: absolute;\n",
       "  width: 1px;\n",
       "}\n",
       "\n",
       "#sk-container-id-1 div.sk-dashed-wrapped {\n",
       "  border: 1px dashed var(--sklearn-color-line);\n",
       "  margin: 0 0.4em 0.5em 0.4em;\n",
       "  box-sizing: border-box;\n",
       "  padding-bottom: 0.4em;\n",
       "  background-color: var(--sklearn-color-background);\n",
       "}\n",
       "\n",
       "#sk-container-id-1 div.sk-container {\n",
       "  /* jupyter's `normalize.less` sets `[hidden] { display: none; }`\n",
       "     but bootstrap.min.css set `[hidden] { display: none !important; }`\n",
       "     so we also need the `!important` here to be able to override the\n",
       "     default hidden behavior on the sphinx rendered scikit-learn.org.\n",
       "     See: https://github.com/scikit-learn/scikit-learn/issues/21755 */\n",
       "  display: inline-block !important;\n",
       "  position: relative;\n",
       "}\n",
       "\n",
       "#sk-container-id-1 div.sk-text-repr-fallback {\n",
       "  display: none;\n",
       "}\n",
       "\n",
       "div.sk-parallel-item,\n",
       "div.sk-serial,\n",
       "div.sk-item {\n",
       "  /* draw centered vertical line to link estimators */\n",
       "  background-image: linear-gradient(var(--sklearn-color-text-on-default-background), var(--sklearn-color-text-on-default-background));\n",
       "  background-size: 2px 100%;\n",
       "  background-repeat: no-repeat;\n",
       "  background-position: center center;\n",
       "}\n",
       "\n",
       "/* Parallel-specific style estimator block */\n",
       "\n",
       "#sk-container-id-1 div.sk-parallel-item::after {\n",
       "  content: \"\";\n",
       "  width: 100%;\n",
       "  border-bottom: 2px solid var(--sklearn-color-text-on-default-background);\n",
       "  flex-grow: 1;\n",
       "}\n",
       "\n",
       "#sk-container-id-1 div.sk-parallel {\n",
       "  display: flex;\n",
       "  align-items: stretch;\n",
       "  justify-content: center;\n",
       "  background-color: var(--sklearn-color-background);\n",
       "  position: relative;\n",
       "}\n",
       "\n",
       "#sk-container-id-1 div.sk-parallel-item {\n",
       "  display: flex;\n",
       "  flex-direction: column;\n",
       "}\n",
       "\n",
       "#sk-container-id-1 div.sk-parallel-item:first-child::after {\n",
       "  align-self: flex-end;\n",
       "  width: 50%;\n",
       "}\n",
       "\n",
       "#sk-container-id-1 div.sk-parallel-item:last-child::after {\n",
       "  align-self: flex-start;\n",
       "  width: 50%;\n",
       "}\n",
       "\n",
       "#sk-container-id-1 div.sk-parallel-item:only-child::after {\n",
       "  width: 0;\n",
       "}\n",
       "\n",
       "/* Serial-specific style estimator block */\n",
       "\n",
       "#sk-container-id-1 div.sk-serial {\n",
       "  display: flex;\n",
       "  flex-direction: column;\n",
       "  align-items: center;\n",
       "  background-color: var(--sklearn-color-background);\n",
       "  padding-right: 1em;\n",
       "  padding-left: 1em;\n",
       "}\n",
       "\n",
       "\n",
       "/* Toggleable style: style used for estimator/Pipeline/ColumnTransformer box that is\n",
       "clickable and can be expanded/collapsed.\n",
       "- Pipeline and ColumnTransformer use this feature and define the default style\n",
       "- Estimators will overwrite some part of the style using the `sk-estimator` class\n",
       "*/\n",
       "\n",
       "/* Pipeline and ColumnTransformer style (default) */\n",
       "\n",
       "#sk-container-id-1 div.sk-toggleable {\n",
       "  /* Default theme specific background. It is overwritten whether we have a\n",
       "  specific estimator or a Pipeline/ColumnTransformer */\n",
       "  background-color: var(--sklearn-color-background);\n",
       "}\n",
       "\n",
       "/* Toggleable label */\n",
       "#sk-container-id-1 label.sk-toggleable__label {\n",
       "  cursor: pointer;\n",
       "  display: block;\n",
       "  width: 100%;\n",
       "  margin-bottom: 0;\n",
       "  padding: 0.5em;\n",
       "  box-sizing: border-box;\n",
       "  text-align: center;\n",
       "}\n",
       "\n",
       "#sk-container-id-1 label.sk-toggleable__label-arrow:before {\n",
       "  /* Arrow on the left of the label */\n",
       "  content: \"▸\";\n",
       "  float: left;\n",
       "  margin-right: 0.25em;\n",
       "  color: var(--sklearn-color-icon);\n",
       "}\n",
       "\n",
       "#sk-container-id-1 label.sk-toggleable__label-arrow:hover:before {\n",
       "  color: var(--sklearn-color-text);\n",
       "}\n",
       "\n",
       "/* Toggleable content - dropdown */\n",
       "\n",
       "#sk-container-id-1 div.sk-toggleable__content {\n",
       "  max-height: 0;\n",
       "  max-width: 0;\n",
       "  overflow: hidden;\n",
       "  text-align: left;\n",
       "  /* unfitted */\n",
       "  background-color: var(--sklearn-color-unfitted-level-0);\n",
       "}\n",
       "\n",
       "#sk-container-id-1 div.sk-toggleable__content.fitted {\n",
       "  /* fitted */\n",
       "  background-color: var(--sklearn-color-fitted-level-0);\n",
       "}\n",
       "\n",
       "#sk-container-id-1 div.sk-toggleable__content pre {\n",
       "  margin: 0.2em;\n",
       "  border-radius: 0.25em;\n",
       "  color: var(--sklearn-color-text);\n",
       "  /* unfitted */\n",
       "  background-color: var(--sklearn-color-unfitted-level-0);\n",
       "}\n",
       "\n",
       "#sk-container-id-1 div.sk-toggleable__content.fitted pre {\n",
       "  /* unfitted */\n",
       "  background-color: var(--sklearn-color-fitted-level-0);\n",
       "}\n",
       "\n",
       "#sk-container-id-1 input.sk-toggleable__control:checked~div.sk-toggleable__content {\n",
       "  /* Expand drop-down */\n",
       "  max-height: 200px;\n",
       "  max-width: 100%;\n",
       "  overflow: auto;\n",
       "}\n",
       "\n",
       "#sk-container-id-1 input.sk-toggleable__control:checked~label.sk-toggleable__label-arrow:before {\n",
       "  content: \"▾\";\n",
       "}\n",
       "\n",
       "/* Pipeline/ColumnTransformer-specific style */\n",
       "\n",
       "#sk-container-id-1 div.sk-label input.sk-toggleable__control:checked~label.sk-toggleable__label {\n",
       "  color: var(--sklearn-color-text);\n",
       "  background-color: var(--sklearn-color-unfitted-level-2);\n",
       "}\n",
       "\n",
       "#sk-container-id-1 div.sk-label.fitted input.sk-toggleable__control:checked~label.sk-toggleable__label {\n",
       "  background-color: var(--sklearn-color-fitted-level-2);\n",
       "}\n",
       "\n",
       "/* Estimator-specific style */\n",
       "\n",
       "/* Colorize estimator box */\n",
       "#sk-container-id-1 div.sk-estimator input.sk-toggleable__control:checked~label.sk-toggleable__label {\n",
       "  /* unfitted */\n",
       "  background-color: var(--sklearn-color-unfitted-level-2);\n",
       "}\n",
       "\n",
       "#sk-container-id-1 div.sk-estimator.fitted input.sk-toggleable__control:checked~label.sk-toggleable__label {\n",
       "  /* fitted */\n",
       "  background-color: var(--sklearn-color-fitted-level-2);\n",
       "}\n",
       "\n",
       "#sk-container-id-1 div.sk-label label.sk-toggleable__label,\n",
       "#sk-container-id-1 div.sk-label label {\n",
       "  /* The background is the default theme color */\n",
       "  color: var(--sklearn-color-text-on-default-background);\n",
       "}\n",
       "\n",
       "/* On hover, darken the color of the background */\n",
       "#sk-container-id-1 div.sk-label:hover label.sk-toggleable__label {\n",
       "  color: var(--sklearn-color-text);\n",
       "  background-color: var(--sklearn-color-unfitted-level-2);\n",
       "}\n",
       "\n",
       "/* Label box, darken color on hover, fitted */\n",
       "#sk-container-id-1 div.sk-label.fitted:hover label.sk-toggleable__label.fitted {\n",
       "  color: var(--sklearn-color-text);\n",
       "  background-color: var(--sklearn-color-fitted-level-2);\n",
       "}\n",
       "\n",
       "/* Estimator label */\n",
       "\n",
       "#sk-container-id-1 div.sk-label label {\n",
       "  font-family: monospace;\n",
       "  font-weight: bold;\n",
       "  display: inline-block;\n",
       "  line-height: 1.2em;\n",
       "}\n",
       "\n",
       "#sk-container-id-1 div.sk-label-container {\n",
       "  text-align: center;\n",
       "}\n",
       "\n",
       "/* Estimator-specific */\n",
       "#sk-container-id-1 div.sk-estimator {\n",
       "  font-family: monospace;\n",
       "  border: 1px dotted var(--sklearn-color-border-box);\n",
       "  border-radius: 0.25em;\n",
       "  box-sizing: border-box;\n",
       "  margin-bottom: 0.5em;\n",
       "  /* unfitted */\n",
       "  background-color: var(--sklearn-color-unfitted-level-0);\n",
       "}\n",
       "\n",
       "#sk-container-id-1 div.sk-estimator.fitted {\n",
       "  /* fitted */\n",
       "  background-color: var(--sklearn-color-fitted-level-0);\n",
       "}\n",
       "\n",
       "/* on hover */\n",
       "#sk-container-id-1 div.sk-estimator:hover {\n",
       "  /* unfitted */\n",
       "  background-color: var(--sklearn-color-unfitted-level-2);\n",
       "}\n",
       "\n",
       "#sk-container-id-1 div.sk-estimator.fitted:hover {\n",
       "  /* fitted */\n",
       "  background-color: var(--sklearn-color-fitted-level-2);\n",
       "}\n",
       "\n",
       "/* Specification for estimator info (e.g. \"i\" and \"?\") */\n",
       "\n",
       "/* Common style for \"i\" and \"?\" */\n",
       "\n",
       ".sk-estimator-doc-link,\n",
       "a:link.sk-estimator-doc-link,\n",
       "a:visited.sk-estimator-doc-link {\n",
       "  float: right;\n",
       "  font-size: smaller;\n",
       "  line-height: 1em;\n",
       "  font-family: monospace;\n",
       "  background-color: var(--sklearn-color-background);\n",
       "  border-radius: 1em;\n",
       "  height: 1em;\n",
       "  width: 1em;\n",
       "  text-decoration: none !important;\n",
       "  margin-left: 1ex;\n",
       "  /* unfitted */\n",
       "  border: var(--sklearn-color-unfitted-level-1) 1pt solid;\n",
       "  color: var(--sklearn-color-unfitted-level-1);\n",
       "}\n",
       "\n",
       ".sk-estimator-doc-link.fitted,\n",
       "a:link.sk-estimator-doc-link.fitted,\n",
       "a:visited.sk-estimator-doc-link.fitted {\n",
       "  /* fitted */\n",
       "  border: var(--sklearn-color-fitted-level-1) 1pt solid;\n",
       "  color: var(--sklearn-color-fitted-level-1);\n",
       "}\n",
       "\n",
       "/* On hover */\n",
       "div.sk-estimator:hover .sk-estimator-doc-link:hover,\n",
       ".sk-estimator-doc-link:hover,\n",
       "div.sk-label-container:hover .sk-estimator-doc-link:hover,\n",
       ".sk-estimator-doc-link:hover {\n",
       "  /* unfitted */\n",
       "  background-color: var(--sklearn-color-unfitted-level-3);\n",
       "  color: var(--sklearn-color-background);\n",
       "  text-decoration: none;\n",
       "}\n",
       "\n",
       "div.sk-estimator.fitted:hover .sk-estimator-doc-link.fitted:hover,\n",
       ".sk-estimator-doc-link.fitted:hover,\n",
       "div.sk-label-container:hover .sk-estimator-doc-link.fitted:hover,\n",
       ".sk-estimator-doc-link.fitted:hover {\n",
       "  /* fitted */\n",
       "  background-color: var(--sklearn-color-fitted-level-3);\n",
       "  color: var(--sklearn-color-background);\n",
       "  text-decoration: none;\n",
       "}\n",
       "\n",
       "/* Span, style for the box shown on hovering the info icon */\n",
       ".sk-estimator-doc-link span {\n",
       "  display: none;\n",
       "  z-index: 9999;\n",
       "  position: relative;\n",
       "  font-weight: normal;\n",
       "  right: .2ex;\n",
       "  padding: .5ex;\n",
       "  margin: .5ex;\n",
       "  width: min-content;\n",
       "  min-width: 20ex;\n",
       "  max-width: 50ex;\n",
       "  color: var(--sklearn-color-text);\n",
       "  box-shadow: 2pt 2pt 4pt #999;\n",
       "  /* unfitted */\n",
       "  background: var(--sklearn-color-unfitted-level-0);\n",
       "  border: .5pt solid var(--sklearn-color-unfitted-level-3);\n",
       "}\n",
       "\n",
       ".sk-estimator-doc-link.fitted span {\n",
       "  /* fitted */\n",
       "  background: var(--sklearn-color-fitted-level-0);\n",
       "  border: var(--sklearn-color-fitted-level-3);\n",
       "}\n",
       "\n",
       ".sk-estimator-doc-link:hover span {\n",
       "  display: block;\n",
       "}\n",
       "\n",
       "/* \"?\"-specific style due to the `<a>` HTML tag */\n",
       "\n",
       "#sk-container-id-1 a.estimator_doc_link {\n",
       "  float: right;\n",
       "  font-size: 1rem;\n",
       "  line-height: 1em;\n",
       "  font-family: monospace;\n",
       "  background-color: var(--sklearn-color-background);\n",
       "  border-radius: 1rem;\n",
       "  height: 1rem;\n",
       "  width: 1rem;\n",
       "  text-decoration: none;\n",
       "  /* unfitted */\n",
       "  color: var(--sklearn-color-unfitted-level-1);\n",
       "  border: var(--sklearn-color-unfitted-level-1) 1pt solid;\n",
       "}\n",
       "\n",
       "#sk-container-id-1 a.estimator_doc_link.fitted {\n",
       "  /* fitted */\n",
       "  border: var(--sklearn-color-fitted-level-1) 1pt solid;\n",
       "  color: var(--sklearn-color-fitted-level-1);\n",
       "}\n",
       "\n",
       "/* On hover */\n",
       "#sk-container-id-1 a.estimator_doc_link:hover {\n",
       "  /* unfitted */\n",
       "  background-color: var(--sklearn-color-unfitted-level-3);\n",
       "  color: var(--sklearn-color-background);\n",
       "  text-decoration: none;\n",
       "}\n",
       "\n",
       "#sk-container-id-1 a.estimator_doc_link.fitted:hover {\n",
       "  /* fitted */\n",
       "  background-color: var(--sklearn-color-fitted-level-3);\n",
       "}\n",
       "</style><div id=\"sk-container-id-1\" class=\"sk-top-container\"><div class=\"sk-text-repr-fallback\"><pre>LogisticRegression(random_state=42)</pre><b>In a Jupyter environment, please rerun this cell to show the HTML representation or trust the notebook. <br />On GitHub, the HTML representation is unable to render, please try loading this page with nbviewer.org.</b></div><div class=\"sk-container\" hidden><div class=\"sk-item\"><div class=\"sk-estimator fitted sk-toggleable\"><input class=\"sk-toggleable__control sk-hidden--visually\" id=\"sk-estimator-id-1\" type=\"checkbox\" checked><label for=\"sk-estimator-id-1\" class=\"sk-toggleable__label fitted sk-toggleable__label-arrow fitted\">&nbsp;&nbsp;LogisticRegression<a class=\"sk-estimator-doc-link fitted\" rel=\"noreferrer\" target=\"_blank\" href=\"https://scikit-learn.org/1.5/modules/generated/sklearn.linear_model.LogisticRegression.html\">?<span>Documentation for LogisticRegression</span></a><span class=\"sk-estimator-doc-link fitted\">i<span>Fitted</span></span></label><div class=\"sk-toggleable__content fitted\"><pre>LogisticRegression(random_state=42)</pre></div> </div></div></div></div>"
      ],
      "text/plain": [
       "LogisticRegression(random_state=42)"
      ]
     },
     "execution_count": 10,
     "metadata": {},
     "output_type": "execute_result"
    }
   ],
   "source": [
    "from sklearn.linear_model import LogisticRegression\n",
    "\n",
    "# 훈련 세트의 임베딩으로 로지스틱 회귀 모델을 훈련합니다.\n",
    "clf = LogisticRegression(random_state=42)\n",
    "clf.fit(train_embeddings, data[\"train\"][\"label\"])"
   ]
  },
  {
   "cell_type": "code",
   "execution_count": 11,
   "metadata": {
    "colab": {
     "base_uri": "https://localhost:8080/"
    },
    "id": "tFvO9KhMokF7",
    "outputId": "080521b9-169d-4aba-a57f-7955e1ee0797"
   },
   "outputs": [
    {
     "name": "stdout",
     "output_type": "stream",
     "text": [
      "                 precision    recall  f1-score   support\n",
      "\n",
      "Negative Review       0.85      0.86      0.85       533\n",
      "Positive Review       0.86      0.85      0.85       533\n",
      "\n",
      "       accuracy                           0.85      1066\n",
      "      macro avg       0.85      0.85      0.85      1066\n",
      "   weighted avg       0.85      0.85      0.85      1066\n",
      "\n"
     ]
    }
   ],
   "source": [
    "# 테스트 세트 임베딩에 대해 예측을 수행합니다.\n",
    "y_pred = clf.predict(test_embeddings)\n",
    "evaluate_performance(data[\"test\"][\"label\"], y_pred)"
   ]
  },
  {
   "cell_type": "markdown",
   "metadata": {
    "id": "dwGIHxXpJgrC"
   },
   "source": [
    "**팁!**  \n",
    "\n",
    "분류기를 사용하지 않는다면 어떻게 할 수 있을까요? 분류기 대신 클래스별 임베딩을 평균하고 코사인 유사도를 적용하여 문서와 가장 잘 맞는 클래스를 예측할 수 있습니다."
   ]
  },
  {
   "cell_type": "code",
   "execution_count": 12,
   "metadata": {
    "colab": {
     "base_uri": "https://localhost:8080/"
    },
    "id": "3f_DnG1uJ7Sk",
    "outputId": "2a4ddefe-c4d3-4c08-e5bb-f1d969f027ff"
   },
   "outputs": [
    {
     "name": "stdout",
     "output_type": "stream",
     "text": [
      "                 precision    recall  f1-score   support\n",
      "\n",
      "Negative Review       0.85      0.84      0.84       533\n",
      "Positive Review       0.84      0.85      0.84       533\n",
      "\n",
      "       accuracy                           0.84      1066\n",
      "      macro avg       0.84      0.84      0.84      1066\n",
      "   weighted avg       0.84      0.84      0.84      1066\n",
      "\n"
     ]
    }
   ],
   "source": [
    "import numpy as np\n",
    "import pandas as pd\n",
    "from sklearn.metrics import classification_report\n",
    "from sklearn.metrics.pairwise import cosine_similarity\n",
    "\n",
    "# 타깃 레이블에 대한 문서의 임베딩을 모두 평균하여 타깃 임베딩을 만듭니다.\n",
    "df = pd.DataFrame(np.hstack([train_embeddings, np.array(data[\"train\"][\"label\"]).reshape(-1, 1)]))\n",
    "averaged_target_embeddings = df.groupby(768).mean().values\n",
    "\n",
    "# 테스트 임베딩과 가장 가까운 타깃 임베딩을 찾습니다.\n",
    "sim_matrix = cosine_similarity(test_embeddings, averaged_target_embeddings)\n",
    "y_pred = np.argmax(sim_matrix, axis=1)\n",
    "\n",
    "# 모델을 평가합니다.\n",
    "evaluate_performance(data[\"test\"][\"label\"], y_pred)"
   ]
  },
  {
   "cell_type": "markdown",
   "metadata": {
    "id": "wCWdzjMIjzx0"
   },
   "source": [
    "## 데이터에 레이블이 없는 경우"
   ]
  },
  {
   "cell_type": "code",
   "execution_count": 13,
   "metadata": {
    "id": "YSj6CdAetsNp"
   },
   "outputs": [],
   "source": [
    "# 레이블의 임베딩을 만듭니다.\n",
    "label_embeddings = model.encode([\"A negative review\",  \"A positive review\"])"
   ]
  },
  {
   "cell_type": "code",
   "execution_count": 14,
   "metadata": {
    "id": "ZEIN7XnbtsQJ"
   },
   "outputs": [],
   "source": [
    "from sklearn.metrics.pairwise import cosine_similarity\n",
    "\n",
    "# 각 문서와 가장 잘 맞는 레이블을 찾습니다.\n",
    "sim_matrix = cosine_similarity(test_embeddings, label_embeddings)\n",
    "y_pred = np.argmax(sim_matrix, axis=1)"
   ]
  },
  {
   "cell_type": "code",
   "execution_count": 15,
   "metadata": {
    "colab": {
     "base_uri": "https://localhost:8080/"
    },
    "id": "u6LyeuEUxIbW",
    "outputId": "d4798e1b-51a1-41eb-f84a-a4b5cc0fa216"
   },
   "outputs": [
    {
     "name": "stdout",
     "output_type": "stream",
     "text": [
      "                 precision    recall  f1-score   support\n",
      "\n",
      "Negative Review       0.78      0.77      0.78       533\n",
      "Positive Review       0.77      0.79      0.78       533\n",
      "\n",
      "       accuracy                           0.78      1066\n",
      "      macro avg       0.78      0.78      0.78      1066\n",
      "   weighted avg       0.78      0.78      0.78      1066\n",
      "\n"
     ]
    }
   ],
   "source": [
    "evaluate_performance(data[\"test\"][\"label\"], y_pred)"
   ]
  },
  {
   "cell_type": "markdown",
   "metadata": {
    "id": "Ox27Rg71zclg"
   },
   "source": [
    "**팁!**  \n",
    "\n",
    "설명을 다르게 하면 어떨까요? **\"A very negative movie review\"**와 **\"A very positive movie review\"**를 사용하면 어떻게 되는지 확인해 보세요!"
   ]
  },
  {
   "cell_type": "code",
   "execution_count": 16,
   "metadata": {
    "colab": {
     "base_uri": "https://localhost:8080/"
    },
    "id": "1OwdMqDnzuJ3",
    "outputId": "b21f1029-2cf5-49dc-a365-c2878451f930"
   },
   "outputs": [
    {
     "name": "stdout",
     "output_type": "stream",
     "text": [
      "                 precision    recall  f1-score   support\n",
      "\n",
      "Negative Review       0.86      0.73      0.79       533\n",
      "Positive Review       0.76      0.88      0.82       533\n",
      "\n",
      "       accuracy                           0.80      1066\n",
      "      macro avg       0.81      0.80      0.80      1066\n",
      "   weighted avg       0.81      0.80      0.80      1066\n",
      "\n"
     ]
    }
   ],
   "source": [
    "label_embeddings = model.encode([\"A very negative movie review\",\n",
    "                                 \"A very positive movie review\"])\n",
    "\n",
    "sim_matrix = cosine_similarity(test_embeddings, label_embeddings)\n",
    "y_pred = np.argmax(sim_matrix, axis=1)\n",
    "\n",
    "evaluate_performance(data[\"test\"][\"label\"], y_pred)"
   ]
  },
  {
   "cell_type": "markdown",
   "metadata": {
    "id": "4CC9iEGcuUit"
   },
   "source": [
    "# 생성 모델로 텍스트 분류하기"
   ]
  },
  {
   "cell_type": "markdown",
   "metadata": {
    "id": "qFPPzUHoEESB"
   },
   "source": [
    "## T5 모델 사용하기"
   ]
  },
  {
   "cell_type": "code",
   "execution_count": 17,
   "metadata": {
    "colab": {
     "base_uri": "https://localhost:8080/",
     "height": 241,
     "referenced_widgets": [
      "6e6031ec1f3f49598a2e1362aad99cd9",
      "9c007b580a114e90a5e476d3ecb9b62a",
      "077e3a74a8044fb8a91d5add4698a5a7",
      "5bf3743f524144e9a545a7444851c48e",
      "f0f6223142b3489cbbbbbe58436a47a5",
      "a17d850175b54bbc89d08dd6da9e8820",
      "aa117edb13a1479090bf62c7b5b4f3b5",
      "7927c5956f4b401ba590601df9836e6f",
      "25e88a85aa8c4f9ca4d8f0dccb78d0b9",
      "b4ace2edb8274b4bb11001af5dea8272",
      "95207c669a4d4d219b2d4606a43e608a",
      "0507899d81654ff19d9a75ec890c6b41",
      "1583b4b4b5b84e5bb08dbb93701900f4",
      "982a6c5ad02040e1951f6cfc9619bdd4",
      "ef92c323b82a489aafe998ac4aaa56de",
      "9cacafe130924c26bba512d729007b64",
      "e232cdbc76f0467aa382da0cd5276278",
      "2ebe7cb45e4d4368a482015a9a724f86",
      "92ac9f0dd74a4808ad50ff8f3b86fc8e",
      "4b5100dd67c44524948aa1a0dd49b199",
      "72b95f44a4db4c819d37b4aea589e4d6",
      "2fedf1ed07aa4be789ee932164e3dd21",
      "c0c82b283c3f45fa892468d2b77d895c",
      "0ece9095ece64d299b35887cc8a58e9b",
      "a9190ed5f6c249fca255a0af92da5679",
      "d18e223e98074e028c223e0e1f60f322",
      "c516d78220304b2ca744093c3cc0c595",
      "aaa8267bc3474325af79b8af70e51289",
      "fc2e009979094082adb89896ae3b56cf",
      "02fb4303051445cb94c49c949a937d30",
      "07ed719b8b6648719521b546dd6b5b87",
      "48b70a017b33441a881b47579dfb09d1",
      "a4faa22d57b240c9a9e94eda4f383d4e",
      "652c9fe2a498429fa5a780b0256b7c0f",
      "97b4bd8c8a6f4f0fbc31e4202cadd67d",
      "4601c24c3ea7436d90e987b24a245aca",
      "ec7a515ed1be4be89f6d324743b5c0c0",
      "e5f85dfdaa40475da01c755c7c849c63",
      "11fb3c85063043e3bf8e0db039b2ba9b",
      "d40e19ec9ce4428c969f9788fbeb1906",
      "43a79c7354ba48c0866342e6420effff",
      "b32a1716d1154131aa7fc49d3ef8eebb",
      "f5346e93d943437eb14f40a2207e6f10",
      "7690592447094b2f80cd527b8d2f3992",
      "863d38ffe3644f0ca22404eff696dd89",
      "7e8e03e8df7c4f9285bf00e2e93765ca",
      "228cfb84c9bc4d888f3057362774b8ed",
      "224f1684e23d4e938674d3341f179bec",
      "e347d698e249401e8ffc4b0785ea1de0",
      "e59c507cd9104dd095935435d28d6f94",
      "4ca69b1f581345bf9bb5dc7e7e7f7a83",
      "c1855f635bc140d3b7e2e9ffe0990e69",
      "ea4e0698d82a4e4d8a3baa0e8850e100",
      "27d7b6cb96ab4101952127462f9d5e20",
      "263bbdbed3b9430697ea31646528972a",
      "feb44cc24b5f4799a6aac8704d3173a6",
      "96caf64e062c46b78d1f4411d5f9083c",
      "fa4c8470ba0f48e6b81ef076620570ed",
      "b12d771cdfb440d0aa85a66730776c2b",
      "741f1f3fa89b4880ac3d441bf0f7dfa9",
      "07f138a647524a7bb33d7d5c462d0259",
      "eb94d6ad23ee41059991377ba12da1b3",
      "62cbea1a50c04471acc76c015db596d0",
      "8541b273024b4cda9125de27bd79bb96",
      "b5d2e2c9f65b44dcb356421cf6b849d8",
      "29d1237b966944dd9c658f75eeb5dcdb",
      "f3f79ecfaf534b919b754bac1c4e7d10",
      "336beb62e34c44b692798c67ba2e2f11",
      "f6fce8ccd03e4ef093032c64e53fbd1e",
      "31d65477c372497b9d11f7ee34b663fb",
      "f6b7e9cd374b4ea7aca84ceb18337aff",
      "181d0d597e5d45468ea5618020c51d7a",
      "bd60cb7032b44d389a27939237396f62",
      "5d7c39282dcd4260910e16f7f6bc87bf",
      "10457efe5dab4fd78dc29439c99df6db",
      "d51a9f16ad8149ac9535395896fed0e6",
      "d036de87f6ba4cee97b008a98f230cdd"
     ]
    },
    "id": "nVbTUMktEfJ3",
    "outputId": "536a6040-3d80-4544-db9a-0cff62f72bde"
   },
   "outputs": [
    {
     "data": {
      "application/vnd.jupyter.widget-view+json": {
       "model_id": "6e6031ec1f3f49598a2e1362aad99cd9",
       "version_major": 2,
       "version_minor": 0
      },
      "text/plain": [
       "config.json:   0%|          | 0.00/1.40k [00:00<?, ?B/s]"
      ]
     },
     "metadata": {},
     "output_type": "display_data"
    },
    {
     "data": {
      "application/vnd.jupyter.widget-view+json": {
       "model_id": "0507899d81654ff19d9a75ec890c6b41",
       "version_major": 2,
       "version_minor": 0
      },
      "text/plain": [
       "model.safetensors:   0%|          | 0.00/308M [00:00<?, ?B/s]"
      ]
     },
     "metadata": {},
     "output_type": "display_data"
    },
    {
     "data": {
      "application/vnd.jupyter.widget-view+json": {
       "model_id": "c0c82b283c3f45fa892468d2b77d895c",
       "version_major": 2,
       "version_minor": 0
      },
      "text/plain": [
       "generation_config.json:   0%|          | 0.00/147 [00:00<?, ?B/s]"
      ]
     },
     "metadata": {},
     "output_type": "display_data"
    },
    {
     "data": {
      "application/vnd.jupyter.widget-view+json": {
       "model_id": "652c9fe2a498429fa5a780b0256b7c0f",
       "version_major": 2,
       "version_minor": 0
      },
      "text/plain": [
       "tokenizer_config.json:   0%|          | 0.00/2.54k [00:00<?, ?B/s]"
      ]
     },
     "metadata": {},
     "output_type": "display_data"
    },
    {
     "data": {
      "application/vnd.jupyter.widget-view+json": {
       "model_id": "863d38ffe3644f0ca22404eff696dd89",
       "version_major": 2,
       "version_minor": 0
      },
      "text/plain": [
       "spiece.model:   0%|          | 0.00/792k [00:00<?, ?B/s]"
      ]
     },
     "metadata": {},
     "output_type": "display_data"
    },
    {
     "data": {
      "application/vnd.jupyter.widget-view+json": {
       "model_id": "feb44cc24b5f4799a6aac8704d3173a6",
       "version_major": 2,
       "version_minor": 0
      },
      "text/plain": [
       "tokenizer.json:   0%|          | 0.00/2.42M [00:00<?, ?B/s]"
      ]
     },
     "metadata": {},
     "output_type": "display_data"
    },
    {
     "data": {
      "application/vnd.jupyter.widget-view+json": {
       "model_id": "f3f79ecfaf534b919b754bac1c4e7d10",
       "version_major": 2,
       "version_minor": 0
      },
      "text/plain": [
       "special_tokens_map.json:   0%|          | 0.00/2.20k [00:00<?, ?B/s]"
      ]
     },
     "metadata": {},
     "output_type": "display_data"
    }
   ],
   "source": [
    "# 모델을 로드합니다.\n",
    "pipe = pipeline(\n",
    "    \"text2text-generation\",\n",
    "    model=\"google/flan-t5-small\",\n",
    "    device=\"cuda:0\"\n",
    ")"
   ]
  },
  {
   "cell_type": "code",
   "execution_count": 18,
   "metadata": {
    "colab": {
     "base_uri": "https://localhost:8080/",
     "height": 369,
     "referenced_widgets": [
      "e0281ea8fdae42b88ec824c87be9371c",
      "d30bcad1a4ca4cf48ca69bd4d681203f",
      "0ac70e9543244ebf9e0669b088cc1994",
      "b58ccd60b2fc4d478fb967bd38f3db34",
      "17007e10a88f4724a2e4df7090d04d43",
      "1a7f786512dd455da8fe08cea1df00d2",
      "9ab6a087adee43369fe9504f164d8b8e",
      "a6631eee22de4657ba2cc2d2beb1e90d",
      "010976788b15441c9ac74e082aee723c",
      "c97230ff40184a75b8f057f14a0dfb80",
      "704a028fc5924d81a42302cfbf989196",
      "5feba806078b40abad00045bc433facf",
      "1eb1843e008242fda70da91516a15956",
      "b6d5f6b5ad8743f191a90f57c4520193",
      "01a96656d665479e9c0abe7b795cc7a1",
      "cd8ec0ca4e9a41519b9526f499664fe5",
      "8bea49ccb82346b7b82729461ffee6cc",
      "ba54618c968e450aaaad3266756875ff",
      "9e11995f444b47078fa0708eec3ff0f9",
      "c502eb4832ba49f8bc62b30f665c2cbb",
      "ed60bbcf552e40f0877fdda4dde548c8",
      "4fffe15808f142e1ba4f850adffbd1bb",
      "ac9abf287bb847ff8465c18919841fc4",
      "a4ee13e20e534f66b075655f18c9e307",
      "00f384e60ea8437a8207799d4c83f837",
      "cd6f9318cb2d4e04ba2c676e1588c334",
      "f707be3bf4e3485885b83f9afc01dc0f",
      "80af316face64b238b6d86d5f3ac3729",
      "6831a5f0721d4dd5b8f66dff69441096",
      "16fc4cd87cbf4ca2aee04ecdf1766eb0",
      "dda8e64c6cbe419c989fc388f7ab507f",
      "2e0046da511f449cb3cb320c6436eaba",
      "097f4337fa3a4e57a28aeaa058d28c27"
     ]
    },
    "id": "o5nWQORcFlNn",
    "outputId": "89d088bc-7d61-43ed-f29e-67061cf6ee40"
   },
   "outputs": [
    {
     "data": {
      "application/vnd.jupyter.widget-view+json": {
       "model_id": "e0281ea8fdae42b88ec824c87be9371c",
       "version_major": 2,
       "version_minor": 0
      },
      "text/plain": [
       "Map:   0%|          | 0/8530 [00:00<?, ? examples/s]"
      ]
     },
     "metadata": {},
     "output_type": "display_data"
    },
    {
     "data": {
      "application/vnd.jupyter.widget-view+json": {
       "model_id": "5feba806078b40abad00045bc433facf",
       "version_major": 2,
       "version_minor": 0
      },
      "text/plain": [
       "Map:   0%|          | 0/1066 [00:00<?, ? examples/s]"
      ]
     },
     "metadata": {},
     "output_type": "display_data"
    },
    {
     "data": {
      "application/vnd.jupyter.widget-view+json": {
       "model_id": "ac9abf287bb847ff8465c18919841fc4",
       "version_major": 2,
       "version_minor": 0
      },
      "text/plain": [
       "Map:   0%|          | 0/1066 [00:00<?, ? examples/s]"
      ]
     },
     "metadata": {},
     "output_type": "display_data"
    },
    {
     "data": {
      "text/plain": [
       "DatasetDict({\n",
       "    train: Dataset({\n",
       "        features: ['text', 'label', 't5'],\n",
       "        num_rows: 8530\n",
       "    })\n",
       "    validation: Dataset({\n",
       "        features: ['text', 'label', 't5'],\n",
       "        num_rows: 1066\n",
       "    })\n",
       "    test: Dataset({\n",
       "        features: ['text', 'label', 't5'],\n",
       "        num_rows: 1066\n",
       "    })\n",
       "})"
      ]
     },
     "execution_count": 18,
     "metadata": {},
     "output_type": "execute_result"
    }
   ],
   "source": [
    "# 프롬프트를 추가합니다.\n",
    "prompt = \"Is the following sentence positive or negative? \"\n",
    "data = data.map(lambda example: {\"t5\": prompt + example['text']})\n",
    "data"
   ]
  },
  {
   "cell_type": "code",
   "execution_count": 19,
   "metadata": {
    "colab": {
     "base_uri": "https://localhost:8080/"
    },
    "id": "Nas574KFFSvR",
    "outputId": "665127df-f6a0-44aa-9ac4-a7d4f32ba297"
   },
   "outputs": [
    {
     "name": "stderr",
     "output_type": "stream",
     "text": [
      "\r",
      "  0%|          | 0/1066 [00:00<?, ?it/s]/usr/local/lib/python3.10/dist-packages/transformers/generation/utils.py:1375: UserWarning: Using the model-agnostic default `max_length` (=20) to control the generation length. We recommend setting `max_new_tokens` to control the maximum length of the generation.\n",
      "  warnings.warn(\n",
      "100%|██████████| 1066/1066 [00:45<00:00, 23.18it/s]\n"
     ]
    }
   ],
   "source": [
    "# 추론을 실행합니다.\n",
    "y_pred = []\n",
    "for output in tqdm(pipe(KeyDataset(data[\"test\"], \"t5\")), total=len(data[\"test\"])):\n",
    "    text = output[0][\"generated_text\"]\n",
    "    y_pred.append(0 if text == \"negative\" else 1)"
   ]
  },
  {
   "cell_type": "code",
   "execution_count": 20,
   "metadata": {
    "colab": {
     "base_uri": "https://localhost:8080/"
    },
    "id": "1Wk2i856GnCv",
    "outputId": "b79390b7-0d38-42f0-d628-175c3c5bd296"
   },
   "outputs": [
    {
     "name": "stdout",
     "output_type": "stream",
     "text": [
      "                 precision    recall  f1-score   support\n",
      "\n",
      "Negative Review       0.83      0.85      0.84       533\n",
      "Positive Review       0.85      0.83      0.84       533\n",
      "\n",
      "       accuracy                           0.84      1066\n",
      "      macro avg       0.84      0.84      0.84      1066\n",
      "   weighted avg       0.84      0.84      0.84      1066\n",
      "\n"
     ]
    }
   ],
   "source": [
    "evaluate_performance(data[\"test\"][\"label\"], y_pred)"
   ]
  },
  {
   "cell_type": "markdown",
   "metadata": {
    "id": "p4V9iq_EELWx"
   },
   "source": [
    "## ChatGPT로 분류하기"
   ]
  },
  {
   "cell_type": "code",
   "execution_count": 21,
   "metadata": {
    "colab": {
     "base_uri": "https://localhost:8080/"
    },
    "id": "fJU5_X573XIT",
    "outputId": "8fbf44fd-b791-4731-f9a7-028cb9e196cb"
   },
   "outputs": [
    {
     "name": "stdout",
     "output_type": "stream",
     "text": [
      "\u001b[2K     \u001b[90m━━━━━━━━━━━━━━━━━━━━━━━━━━━━━━━━━━━━━━━━\u001b[0m \u001b[32m172.0/172.0 kB\u001b[0m \u001b[31m12.3 MB/s\u001b[0m eta \u001b[36m0:00:00\u001b[0m\n",
      "\u001b[2K     \u001b[90m━━━━━━━━━━━━━━━━━━━━━━━━━━━━━━━━━━━━━━━━\u001b[0m \u001b[32m57.7/57.7 kB\u001b[0m \u001b[31m5.2 MB/s\u001b[0m eta \u001b[36m0:00:00\u001b[0m\n",
      "\u001b[2K   \u001b[90m━━━━━━━━━━━━━━━━━━━━━━━━━━━━━━━━━━━━━━━━\u001b[0m \u001b[32m389.6/389.6 kB\u001b[0m \u001b[31m27.6 MB/s\u001b[0m eta \u001b[36m0:00:00\u001b[0m\n",
      "\u001b[2K   \u001b[90m━━━━━━━━━━━━━━━━━━━━━━━━━━━━━━━━━━━━━━━━\u001b[0m \u001b[32m76.4/76.4 kB\u001b[0m \u001b[31m6.9 MB/s\u001b[0m eta \u001b[36m0:00:00\u001b[0m\n",
      "\u001b[2K   \u001b[90m━━━━━━━━━━━━━━━━━━━━━━━━━━━━━━━━━━━━━━━━\u001b[0m \u001b[32m78.6/78.6 kB\u001b[0m \u001b[31m7.0 MB/s\u001b[0m eta \u001b[36m0:00:00\u001b[0m\n",
      "\u001b[2K   \u001b[90m━━━━━━━━━━━━━━━━━━━━━━━━━━━━━━━━━━━━━━━━\u001b[0m \u001b[32m93.1/93.1 kB\u001b[0m \u001b[31m8.6 MB/s\u001b[0m eta \u001b[36m0:00:00\u001b[0m\n",
      "\u001b[2K   \u001b[90m━━━━━━━━━━━━━━━━━━━━━━━━━━━━━━━━━━━━━━━━\u001b[0m \u001b[32m70.4/70.4 kB\u001b[0m \u001b[31m7.3 MB/s\u001b[0m eta \u001b[36m0:00:00\u001b[0m\n",
      "\u001b[2K   \u001b[90m━━━━━━━━━━━━━━━━━━━━━━━━━━━━━━━━━━━━━━━━\u001b[0m \u001b[32m345.0/345.0 kB\u001b[0m \u001b[31m29.2 MB/s\u001b[0m eta \u001b[36m0:00:00\u001b[0m\n",
      "\u001b[2K   \u001b[90m━━━━━━━━━━━━━━━━━━━━━━━━━━━━━━━━━━━━━━━━\u001b[0m \u001b[32m457.0/457.0 kB\u001b[0m \u001b[31m34.1 MB/s\u001b[0m eta \u001b[36m0:00:00\u001b[0m\n",
      "\u001b[2K   \u001b[90m━━━━━━━━━━━━━━━━━━━━━━━━━━━━━━━━━━━━━━━━\u001b[0m \u001b[32m2.1/2.1 MB\u001b[0m \u001b[31m80.2 MB/s\u001b[0m eta \u001b[36m0:00:00\u001b[0m\n",
      "\u001b[2K   \u001b[90m━━━━━━━━━━━━━━━━━━━━━━━━━━━━━━━━━━━━━━━━\u001b[0m \u001b[32m78.5/78.5 kB\u001b[0m \u001b[31m6.3 MB/s\u001b[0m eta \u001b[36m0:00:00\u001b[0m\n",
      "\u001b[2K   \u001b[90m━━━━━━━━━━━━━━━━━━━━━━━━━━━━━━━━━━━━━━━━\u001b[0m \u001b[32m167.3/167.3 kB\u001b[0m \u001b[31m16.3 MB/s\u001b[0m eta \u001b[36m0:00:00\u001b[0m\n",
      "\u001b[2K   \u001b[90m━━━━━━━━━━━━━━━━━━━━━━━━━━━━━━━━━━━━━━━━\u001b[0m \u001b[32m58.3/58.3 kB\u001b[0m \u001b[31m5.5 MB/s\u001b[0m eta \u001b[36m0:00:00\u001b[0m\n",
      "\u001b[?25h\u001b[31mERROR: pip's dependency resolver does not currently take into account all the packages that are installed. This behaviour is the source of the following dependency conflicts.\n",
      "jupyter-server 1.24.0 requires anyio<4,>=3.1.0, but you have anyio 4.7.0 which is incompatible.\u001b[0m\u001b[31m\n",
      "\u001b[0m"
     ]
    }
   ],
   "source": [
    "# httpx 패키지의 proxies 매개변수 오류를 피하기 위해\n",
    "# https://community.openai.com/t/error-with-openai-1-56-0-client-init-got-an-unexpected-keyword-argument-proxies/\n",
    "!pip install openai==1.55.3 httpx==0.27.2 --force-reinstall --quiet"
   ]
  },
  {
   "cell_type": "code",
   "execution_count": 22,
   "metadata": {
    "id": "tES6HFOwNjF6"
   },
   "outputs": [],
   "source": [
    "import openai\n",
    "\n",
    "# 클라이언트를 만듭니다.\n",
    "client = openai.OpenAI(api_key=\"YOUR_KEY_HERE\")"
   ]
  },
  {
   "cell_type": "code",
   "execution_count": 23,
   "metadata": {
    "id": "dGiovm3wyCOz"
   },
   "outputs": [],
   "source": [
    "def chatgpt_generation(prompt, document, model=\"gpt-4o-mini\"):\n",
    "    \"\"\"프롬프트와 문서를 입력받아 출력을 생성합니다.\"\"\"\n",
    "    messages=[\n",
    "        {\n",
    "            \"role\": \"system\",\n",
    "            \"content\": \"You are a helpful assistant.\"\n",
    "            },\n",
    "        {\n",
    "            \"role\": \"user\",\n",
    "            \"content\":   prompt.replace(\"[DOCUMENT]\", document)\n",
    "            }\n",
    "    ]\n",
    "    chat_completion = client.chat.completions.create(\n",
    "      messages=messages,\n",
    "      model=model,\n",
    "      temperature=0\n",
    "    )\n",
    "    return chat_completion.choices[0].message.content"
   ]
  },
  {
   "cell_type": "code",
   "execution_count": 24,
   "metadata": {
    "colab": {
     "base_uri": "https://localhost:8080/",
     "height": 36
    },
    "id": "qL_kMwQEvMcd",
    "outputId": "d5dd7284-e60b-4971-d7f9-197627590e9d"
   },
   "outputs": [
    {
     "data": {
      "application/vnd.google.colaboratory.intrinsic+json": {
       "type": "string"
      },
      "text/plain": [
       "'1'"
      ]
     },
     "execution_count": 24,
     "metadata": {},
     "output_type": "execute_result"
    }
   ],
   "source": [
    "# 프롬프트 템플릿을 정의합니다.\n",
    "prompt = \"\"\"Predict whether the following document is a positive or negative movie review:\n",
    "\n",
    "[DOCUMENT]\n",
    "\n",
    "If it is positive return 1 and if it is negative return 0. Do not give any other answers.\n",
    "\"\"\"\n",
    "\n",
    "# Predict the target using GPT\n",
    "document = \"unpretentious , charming , quirky , original\"\n",
    "chatgpt_generation(prompt, document)"
   ]
  },
  {
   "cell_type": "markdown",
   "metadata": {
    "id": "Ea-8XYpY3jp6"
   },
   "source": [
    "다음 단계는 전체 테스트 데이터로 오픈AI 모델 중 하나를 실행하는 것입니다. 하지만 전체 테스트 데이터는 1,066개이므로 충분한 크레딧이 있을 때만 실행하세요."
   ]
  },
  {
   "cell_type": "code",
   "execution_count": 25,
   "metadata": {
    "colab": {
     "base_uri": "https://localhost:8080/"
    },
    "id": "gEyGElIv25Aq",
    "outputId": "45c2a4c3-e9d9-4bc2-de55-68e4f5659a9b"
   },
   "outputs": [
    {
     "name": "stderr",
     "output_type": "stream",
     "text": [
      "100%|██████████| 1066/1066 [07:16<00:00,  2.44it/s]\n"
     ]
    }
   ],
   "source": [
    "# 무료 크레딧을 아끼고 싶다면 이 코드를 건너 뛰세요.\n",
    "predictions = [chatgpt_generation(prompt, doc) for doc in tqdm(data[\"test\"][\"text\"])]"
   ]
  },
  {
   "cell_type": "code",
   "execution_count": 26,
   "metadata": {
    "colab": {
     "base_uri": "https://localhost:8080/"
    },
    "id": "B07O8wtZ05x1",
    "outputId": "e41b25a1-66bd-4b6e-c777-dcf4745e7bfa"
   },
   "outputs": [
    {
     "name": "stdout",
     "output_type": "stream",
     "text": [
      "                 precision    recall  f1-score   support\n",
      "\n",
      "Negative Review       0.88      0.96      0.92       533\n",
      "Positive Review       0.96      0.87      0.91       533\n",
      "\n",
      "       accuracy                           0.92      1066\n",
      "      macro avg       0.92      0.92      0.92      1066\n",
      "   weighted avg       0.92      0.92      0.92      1066\n",
      "\n"
     ]
    }
   ],
   "source": [
    "# 예측을 저장합니다.\n",
    "y_pred = [int(pred) for pred in predictions]\n",
    "\n",
    "# 성능을 평가합니다.\n",
    "evaluate_performance(data[\"test\"][\"label\"], y_pred)"
   ]
  }
 ],
 "metadata": {
  "accelerator": "GPU",
  "colab": {
   "gpuType": "T4",
   "provenance": []
  },
  "kernelspec": {
   "display_name": "Python 3 (ipykernel)",
   "language": "python",
   "name": "python3"
  },
  "language_info": {
   "codemirror_mode": {
    "name": "ipython",
    "version": 3
   },
   "file_extension": ".py",
   "mimetype": "text/x-python",
   "name": "python",
   "nbconvert_exporter": "python",
   "pygments_lexer": "ipython3",
   "version": "3.8.18"
  }
 },
 "nbformat": 4,
 "nbformat_minor": 4
}
