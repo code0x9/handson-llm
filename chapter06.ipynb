{
 "cells": [
  {
   "cell_type": "markdown",
   "metadata": {
    "id": "-ETtu9CvVMDR"
   },
   "source": [
    "<h1>6장 프롬프트 엔지니어링</h1>\n",
    "<i>프롬프트 엔지니어링으로 출력 품질을 향상시키는 방법</i>\n",
    "\n",
    "<a href=\"https://github.com/rickiepark/handson-llm\"><img src=\"https://img.shields.io/badge/GitHub%20Repository-black?logo=github\"></a>\n",
    "[![Open In Colab](https://colab.research.google.com/assets/colab-badge.svg)](https://colab.research.google.com/github/rickiepark/handson-llm/blob/main/chapter06.ipynb)\n",
    "\n",
    "---\n",
    "\n",
    "이 노트북은 <[핸즈온 LLM](https://tensorflow.blog/handson-llm/)> 책 6장의 코드를 담고 있습니다.\n",
    "\n",
    "---\n",
    "\n",
    "<a href=\"https://tensorflow.blog/handson-llm/\">\n",
    "<img src=\"https://tensorflow.blog/wp-content/uploads/2025/05/ed95b8eca688ec98a8_llm.jpg\" width=\"350\"/></a>"
   ]
  },
  {
   "cell_type": "markdown",
   "metadata": {
    "id": "0XFgi53L-yrn"
   },
   "source": [
    "### [선택사항] - <img src=\"https://colab.google/static/images/icons/colab.png\" width=100>에서 패키지 선택하기\n",
    "\n",
    "\n",
    "이 노트북을 구글 코랩에서 실행한다면 다음 코드 셀을 실행하여 이 노트북에서 필요한 패키지를  설치하세요.\n",
    "\n",
    "---\n",
    "\n",
    "💡 **NOTE**: 이 노트북의 코드를 실행하려면 GPU를 사용하는 것이 좋습니다. 구글 코랩에서는 **런타임 > 런타임 유형 변경 > 하드웨어 가속기 > T4 GPU**를 선택하세요.\n",
    "\n",
    "---"
   ]
  },
  {
   "cell_type": "code",
   "execution_count": 1,
   "metadata": {
    "id": "mRhw6oeA-yro"
   },
   "outputs": [],
   "source": [
    "%%capture\n",
    "# 사용하는 파이썬과 CUDA 버전에 맞는 llama-cpp-python 패키지를 설치하세요.\n",
    "# 현재 코랩의 파이썬 버전은 3.11이며 CUDA 버전은 12.4입니다.\n",
    "!pip install https://github.com/abetlen/llama-cpp-python/releases/download/v0.3.4-cu124/llama_cpp_python-0.3.4-cp311-cp311-linux_x86_64.whl"
   ]
  },
  {
   "cell_type": "code",
   "execution_count": 2,
   "metadata": {
    "colab": {
     "base_uri": "https://localhost:8080/"
    },
    "id": "RUKDSu2MLEKe",
    "outputId": "bf575061-5998-41ea-8daf-9c0957cae540"
   },
   "outputs": [
    {
     "name": "stdout",
     "output_type": "stream",
     "text": [
      "Collecting transformers==4.48.3\n",
      "  Downloading transformers-4.48.3-py3-none-any.whl.metadata (44 kB)\n",
      "\u001b[?25l     \u001b[90m━━━━━━━━━━━━━━━━━━━━━━━━━━━━━━━━━━━━━━━━\u001b[0m \u001b[32m0.0/44.4 kB\u001b[0m \u001b[31m?\u001b[0m eta \u001b[36m-:--:--\u001b[0m\r",
      "\u001b[2K     \u001b[90m━━━━━━━━━━━━━━━━━━━━━━━━━━━━━━━━━━━━━━━━\u001b[0m \u001b[32m44.4/44.4 kB\u001b[0m \u001b[31m3.4 MB/s\u001b[0m eta \u001b[36m0:00:00\u001b[0m\n",
      "\u001b[?25hRequirement already satisfied: filelock in /usr/local/lib/python3.11/dist-packages (from transformers==4.48.3) (3.18.0)\n",
      "Requirement already satisfied: huggingface-hub<1.0,>=0.24.0 in /usr/local/lib/python3.11/dist-packages (from transformers==4.48.3) (0.32.4)\n",
      "Requirement already satisfied: numpy>=1.17 in /usr/local/lib/python3.11/dist-packages (from transformers==4.48.3) (2.0.2)\n",
      "Requirement already satisfied: packaging>=20.0 in /usr/local/lib/python3.11/dist-packages (from transformers==4.48.3) (24.2)\n",
      "Requirement already satisfied: pyyaml>=5.1 in /usr/local/lib/python3.11/dist-packages (from transformers==4.48.3) (6.0.2)\n",
      "Requirement already satisfied: regex!=2019.12.17 in /usr/local/lib/python3.11/dist-packages (from transformers==4.48.3) (2024.11.6)\n",
      "Requirement already satisfied: requests in /usr/local/lib/python3.11/dist-packages (from transformers==4.48.3) (2.32.3)\n",
      "Requirement already satisfied: tokenizers<0.22,>=0.21 in /usr/local/lib/python3.11/dist-packages (from transformers==4.48.3) (0.21.1)\n",
      "Requirement already satisfied: safetensors>=0.4.1 in /usr/local/lib/python3.11/dist-packages (from transformers==4.48.3) (0.5.3)\n",
      "Requirement already satisfied: tqdm>=4.27 in /usr/local/lib/python3.11/dist-packages (from transformers==4.48.3) (4.67.1)\n",
      "Requirement already satisfied: fsspec>=2023.5.0 in /usr/local/lib/python3.11/dist-packages (from huggingface-hub<1.0,>=0.24.0->transformers==4.48.3) (2025.3.2)\n",
      "Requirement already satisfied: typing-extensions>=3.7.4.3 in /usr/local/lib/python3.11/dist-packages (from huggingface-hub<1.0,>=0.24.0->transformers==4.48.3) (4.14.0)\n",
      "Requirement already satisfied: hf-xet<2.0.0,>=1.1.2 in /usr/local/lib/python3.11/dist-packages (from huggingface-hub<1.0,>=0.24.0->transformers==4.48.3) (1.1.2)\n",
      "Requirement already satisfied: charset-normalizer<4,>=2 in /usr/local/lib/python3.11/dist-packages (from requests->transformers==4.48.3) (3.4.2)\n",
      "Requirement already satisfied: idna<4,>=2.5 in /usr/local/lib/python3.11/dist-packages (from requests->transformers==4.48.3) (3.10)\n",
      "Requirement already satisfied: urllib3<3,>=1.21.1 in /usr/local/lib/python3.11/dist-packages (from requests->transformers==4.48.3) (2.4.0)\n",
      "Requirement already satisfied: certifi>=2017.4.17 in /usr/local/lib/python3.11/dist-packages (from requests->transformers==4.48.3) (2025.4.26)\n",
      "Downloading transformers-4.48.3-py3-none-any.whl (9.7 MB)\n",
      "\u001b[2K   \u001b[90m━━━━━━━━━━━━━━━━━━━━━━━━━━━━━━━━━━━━━━━━\u001b[0m \u001b[32m9.7/9.7 MB\u001b[0m \u001b[31m79.2 MB/s\u001b[0m eta \u001b[36m0:00:00\u001b[0m\n",
      "\u001b[?25hInstalling collected packages: transformers\n",
      "  Attempting uninstall: transformers\n",
      "    Found existing installation: transformers 4.52.4\n",
      "    Uninstalling transformers-4.52.4:\n",
      "      Successfully uninstalled transformers-4.52.4\n",
      "Successfully installed transformers-4.48.3\n"
     ]
    }
   ],
   "source": [
    "# Phi-3 모델과 호환성 때문에 transformers 4.48.3 버전을 사용합니다.\n",
    "!pip install transformers==4.48.3"
   ]
  },
  {
   "cell_type": "markdown",
   "metadata": {
    "id": "KaB0B1LdMcPM"
   },
   "source": [
    "## 모델 로드하기"
   ]
  },
  {
   "cell_type": "code",
   "execution_count": 3,
   "metadata": {
    "colab": {
     "base_uri": "https://localhost:8080/",
     "height": 656,
     "referenced_widgets": [
      "a5892499c4464cfb8438d23483bd4bbf",
      "151abf98a47a44628d3fa7c855992793",
      "b6a9bc00396c4cbab670bf01395d42f0",
      "c20d9a062b8f4383865a6b73c1fe0c51",
      "5f2843eddd4e49d5be19f6c81573a2ee",
      "ae32be47fb7a4c4795823eb02d4fa5cf",
      "4f0ce5b29ce949b48d101c3076a9ce5f",
      "c8c02a606e294b35b1094ac998aa01d1",
      "d4197d9723a745ffbdc8b7a3e1fe59bf",
      "7e6980172373497587ca2aa614f182a4",
      "3fdb652244e64bd19eb711b71127be9b",
      "6dfa55acb3c4456ea354792f0ce94bd9",
      "407845b1c3844fa6b1f7a754feaf075c",
      "d0e7b3c1492b438da18c063a842dcc6b",
      "183484849e484eb7a74cae4056ea41fd",
      "b840557ad5d640a68148a51972828db3",
      "e5fa1dd078c94c97ad946e5e8935cb70",
      "a4f62e8cc14e461885c1f95c93d019c3",
      "b7f0863b79124b298159ec4864f3a21f",
      "13ddd9023527414e8d3b066ce7ecc385",
      "815171379b0949d3a0ff89edfb62d7f0",
      "b0705bdfbd0e4ae79416783ac56aa377",
      "c27df6a843124bfd996ef03222f3d552",
      "81b5839b30574ef3862e73776cab5dd2",
      "d596c876075c4ced917989c166305338",
      "3aac6f032b754ce380b33bd6a42ffb4f",
      "40320b2d23c94900aa401c525341e40a",
      "37fec078e674462ea972f83dd734ce1e",
      "1c7f1e3c88b24b039d4c017e97c76607",
      "c6c8a5ab1ebe4778923ed994be45d870",
      "4a1e9156187d488bad7967ee61a7a5bb",
      "5a52449c387c441593b4276d817a4b7f",
      "28a60afbc3db45aa96e11314c926835a",
      "7471f13bcf3347d0aa2645c62ac1925b",
      "da5a2e2cde134a1faf5364b413c01f01",
      "48f584cbeb0a464ca4553f1e7aefee49",
      "2ce6c2ecfb11496ea1f946f13f7c9852",
      "d34a5049e20c4d72aa8a477e5ebcfb46",
      "fda28590303e4db4a35c6862a5190f60",
      "cd6b312d671a41b1bd6e9684dd8625c4",
      "0e5515b0d2c34f2db64e5ca9ef5becb0",
      "6c41ac735b9643f1853ec6a1cbc7393a",
      "5e9d1a4a8be4409381b97508540f9cb1",
      "ad92d0ef2d004df19ab5ee2d436e693c",
      "4480083f1bdf47a39062481dbdf7e741",
      "a67729f670864b949d19ce78da0b9e1a",
      "5dde69e5733f41d397e92613909e70d8",
      "376356a51dac4344b27ac2a3d018de65",
      "e8e42a4c958b4338baba61abb9489f90",
      "cc0a078d9b2a41bbb12ba49206fc6314",
      "966310d422e744f6badd88324d7dda69",
      "7781c0c24dea491cad5b76582b9d0bd2",
      "b372d95f813e4ea8a2144d2492799c6a",
      "73c88de4341b4aebabeef79a0e0d95f3",
      "fc5ebcd33f8a496a8a24b2ac0a2755a6",
      "37d76f008c1342e1a9af97980d768711",
      "0b5a81c799bd4360986e3825da4e45ad",
      "8037b48e7ac44ecf8e2802b784e6c6a7",
      "845d3d01ab914c99b742d1a0a12bcb69",
      "805804e8009142d5af62a96196e303fe",
      "66dbbc2897fe4efc9a6fcaf77cf3074c",
      "78bc77ec2f4e4885a8174e8b763838b6",
      "fe904d28f33442e586eab745823c3808",
      "30fa75ad664749ff89ba904cd71fb484",
      "a385c52de77f42f581665961e51d6db7",
      "d774abc3874c4c90bc82fbe6e4583694",
      "bfe4aac026e541ac8be9e7e3bf77f2d1",
      "1628a26d47854f3493c3121b7ea43ddf",
      "f02e7d52c30e45b1bf9dca398037d989",
      "bed70e4087b44887828bbbe128431238",
      "a2786ca7d4ba4dda9ec306d2d2a3261a",
      "289cabb444e949b382f11435356a5cbd",
      "2c853d50e12a4349ae4bcbe0a43f8a21",
      "3b2446ffd5b6488c8172b78c0b177f7e",
      "fbf3dd349f9d450580da14db42bceb4d",
      "9904f81d17a1422da34382036a0e1723",
      "8e86cc1a7c704f6ba88af3afc5757cce",
      "8f59a17ed0d54fc29cba1f203b1de8d0",
      "b73957c158304be2ae070989a3db94dc",
      "74d528dfe14945dd9151b48393f80201",
      "9ab03baf9c9841cba85d82af75943a67",
      "f74ae3ecd0ea4f31bcc922044afce29d",
      "a7d46bb171724810a438f21e0e3a5398",
      "90eed514d8bc4d11ab8c60f9174cc948",
      "3d346c3846cb4d068a9033ee70b613c4",
      "df9d53500a72431bb3f9d77966fc9c83",
      "e50f7c256e5847bfbf7efa050411363a",
      "858061276dd54eff98dd459e1e83760d",
      "458ea0c239364d97a0fdf1f4711431d8",
      "a33daa167e994d13834c51e00740aaea",
      "09f108c0fda3473498664d4383d4db82",
      "e49debb5005c4dbc9f6b992d4625ed40",
      "986b17dc443742749263e8765726e613",
      "46b00440d07e45d8a7bbbca5614eba97",
      "14907caf78b34482af0b9c9662a92bf9",
      "f6c02d93fc8241c893bc04cede53f3cb",
      "e6769b929dda4bb89ca1fc40bddf8b84",
      "65e47c4aeec245f498748803b97d9513",
      "f638fb83a4654df1a9ba608abc361b48",
      "c99a3bbd5c6d47e8af774c742fd4d11c",
      "42e3ad5af532423c918051f3736d9571",
      "60325b35027348efa04e801a65bdf964",
      "7f2cf392d9b3451c8488278d863de465",
      "e490e0e46e304a4fa9061ac3dd404d24",
      "41619da28aa0467faccf742eae0805bc",
      "0fd26b96760342c2a0f34be052b6c4f5",
      "119966e9291f4c8f87185e238ecbcdfa",
      "97dee040d5864fe68b24c061d9dba3e0",
      "3606758739f34bbcaf38aae164002939",
      "00e8b75c77b4449088d25305ccac705e",
      "b8aef346b87d46fb90a349129c8d0e13",
      "b396f8fa740048c5890a489dba6f3948",
      "5638f84a2df94ebaacfa487c93a12f7b",
      "dfbcf89fe96047fdba1e7d530cfea46f",
      "8fffc115976342eba5a8979bef4056e6",
      "348aa2a35b814b7e839250a7adc0c3cb",
      "70c4c0ba144e4d8eb92d057f16d2c657",
      "37ace575e7db4bd8b333f5e2d4d84557",
      "dcd227b9d34842289b11d31f0b3e9768",
      "d2a6fa12255e4995be396eb3a9ee8274",
      "e7a65b7b103c4211a8d60919cbd2542e",
      "bd030815bca04b5caf12d7b5f5ba25c4",
      "2aab3075cf89419cad5f0b867feec4ae",
      "3512a541c6d84bfbb5271c6f9f6be3c1",
      "3ae4fa49d9374f2c8a35d91dde933a6e",
      "3ebd3d9320c04255ac38feac28ee2387",
      "5d1f7ec333ea4f4b8ccb39f27ca2d62b",
      "8b053863110d406585fd69bb5a2de649",
      "46d3c40358864e6c9342fb7268cef9a2",
      "f23f18c56e4e40bcbc6e71249f673203",
      "4d64bc12984646c6917fc741d59b69ed",
      "b5030bf748184b7eb8d7da384399d07b",
      "1fa7daa8851d48b4bd1bee42807a5a81",
      "47138bcbd4094917903da7377673f0a9",
      "945ab850c7634a8ba728f785adb64864",
      "8e831e9195df465f9241ca98ad131e0d",
      "cbaab67f920c4d50abf6c7810cd4a940",
      "48e2ca54882e4598bea3ef9491ba9697",
      "c4bc71193d7f45018b78428dcc97ed6c",
      "d2cd142c631244dab41388b490894323",
      "f087043b70d448f5abb40e32d01131cb",
      "8f25185cf23747a9bfd34ebd2b26a0b0",
      "0e1b10f8a2194c918fd2d6743ce37b53",
      "d29b0f8e69104c52afdd83ead2e52b1e",
      "1a23dd37c95343dfa2f1b6c560ff599a",
      "3b972ae37d0d4856a7c728561eb6f755",
      "33963ff6f07f416daeb7a1d3be2ca817",
      "acc891b447c44fb6a977f1d58e61250f",
      "6999d4aaf6a54ba887b592a8f141211c",
      "669a5762b1944073b4281bc4716380e5",
      "59c76f7dcaed48c7879f2a6e6e3e43b7",
      "bc30b3f6e3874377b53a87ed037d90dd",
      "813e0b64d05e4894a80c4465933c79fb",
      "599d6290a6ad41e8a31f82463989104d"
     ]
    },
    "id": "mNkbw28oMeAM",
    "outputId": "0050aee1-e7bd-48b7-fc9c-94b01dca5894"
   },
   "outputs": [
    {
     "data": {
      "application/vnd.jupyter.widget-view+json": {
       "model_id": "a5892499c4464cfb8438d23483bd4bbf",
       "version_major": 2,
       "version_minor": 0
      },
      "text/plain": [
       "config.json:   0%|          | 0.00/967 [00:00<?, ?B/s]"
      ]
     },
     "metadata": {},
     "output_type": "display_data"
    },
    {
     "data": {
      "application/vnd.jupyter.widget-view+json": {
       "model_id": "6dfa55acb3c4456ea354792f0ce94bd9",
       "version_major": 2,
       "version_minor": 0
      },
      "text/plain": [
       "configuration_phi3.py:   0%|          | 0.00/11.2k [00:00<?, ?B/s]"
      ]
     },
     "metadata": {},
     "output_type": "display_data"
    },
    {
     "name": "stderr",
     "output_type": "stream",
     "text": [
      "A new version of the following files was downloaded from https://huggingface.co/microsoft/Phi-3-mini-4k-instruct:\n",
      "- configuration_phi3.py\n",
      ". Make sure to double-check they do not contain any added malicious code. To avoid downloading new versions of the code file, you can pin a revision.\n"
     ]
    },
    {
     "data": {
      "application/vnd.jupyter.widget-view+json": {
       "model_id": "c27df6a843124bfd996ef03222f3d552",
       "version_major": 2,
       "version_minor": 0
      },
      "text/plain": [
       "modeling_phi3.py:   0%|          | 0.00/73.2k [00:00<?, ?B/s]"
      ]
     },
     "metadata": {},
     "output_type": "display_data"
    },
    {
     "name": "stderr",
     "output_type": "stream",
     "text": [
      "A new version of the following files was downloaded from https://huggingface.co/microsoft/Phi-3-mini-4k-instruct:\n",
      "- modeling_phi3.py\n",
      ". Make sure to double-check they do not contain any added malicious code. To avoid downloading new versions of the code file, you can pin a revision.\n",
      "WARNING:transformers_modules.microsoft.Phi-3-mini-4k-instruct.0a67737cc96d2554230f90338b163bc6380a2a85.modeling_phi3:`flash-attention` package not found, consider installing for better performance: No module named 'flash_attn'.\n",
      "WARNING:transformers_modules.microsoft.Phi-3-mini-4k-instruct.0a67737cc96d2554230f90338b163bc6380a2a85.modeling_phi3:Current `flash-attention` does not support `window_size`. Either upgrade or use `attn_implementation='eager'`.\n"
     ]
    },
    {
     "data": {
      "application/vnd.jupyter.widget-view+json": {
       "model_id": "7471f13bcf3347d0aa2645c62ac1925b",
       "version_major": 2,
       "version_minor": 0
      },
      "text/plain": [
       "model.safetensors.index.json:   0%|          | 0.00/16.5k [00:00<?, ?B/s]"
      ]
     },
     "metadata": {},
     "output_type": "display_data"
    },
    {
     "data": {
      "application/vnd.jupyter.widget-view+json": {
       "model_id": "4480083f1bdf47a39062481dbdf7e741",
       "version_major": 2,
       "version_minor": 0
      },
      "text/plain": [
       "Downloading shards:   0%|          | 0/2 [00:00<?, ?it/s]"
      ]
     },
     "metadata": {},
     "output_type": "display_data"
    },
    {
     "data": {
      "application/vnd.jupyter.widget-view+json": {
       "model_id": "37d76f008c1342e1a9af97980d768711",
       "version_major": 2,
       "version_minor": 0
      },
      "text/plain": [
       "model-00001-of-00002.safetensors:   0%|          | 0.00/4.97G [00:00<?, ?B/s]"
      ]
     },
     "metadata": {},
     "output_type": "display_data"
    },
    {
     "data": {
      "application/vnd.jupyter.widget-view+json": {
       "model_id": "bfe4aac026e541ac8be9e7e3bf77f2d1",
       "version_major": 2,
       "version_minor": 0
      },
      "text/plain": [
       "model-00002-of-00002.safetensors:   0%|          | 0.00/2.67G [00:00<?, ?B/s]"
      ]
     },
     "metadata": {},
     "output_type": "display_data"
    },
    {
     "data": {
      "application/vnd.jupyter.widget-view+json": {
       "model_id": "8f59a17ed0d54fc29cba1f203b1de8d0",
       "version_major": 2,
       "version_minor": 0
      },
      "text/plain": [
       "Loading checkpoint shards:   0%|          | 0/2 [00:00<?, ?it/s]"
      ]
     },
     "metadata": {},
     "output_type": "display_data"
    },
    {
     "data": {
      "application/vnd.jupyter.widget-view+json": {
       "model_id": "458ea0c239364d97a0fdf1f4711431d8",
       "version_major": 2,
       "version_minor": 0
      },
      "text/plain": [
       "generation_config.json:   0%|          | 0.00/181 [00:00<?, ?B/s]"
      ]
     },
     "metadata": {},
     "output_type": "display_data"
    },
    {
     "data": {
      "application/vnd.jupyter.widget-view+json": {
       "model_id": "c99a3bbd5c6d47e8af774c742fd4d11c",
       "version_major": 2,
       "version_minor": 0
      },
      "text/plain": [
       "tokenizer_config.json:   0%|          | 0.00/3.44k [00:00<?, ?B/s]"
      ]
     },
     "metadata": {},
     "output_type": "display_data"
    },
    {
     "data": {
      "application/vnd.jupyter.widget-view+json": {
       "model_id": "b8aef346b87d46fb90a349129c8d0e13",
       "version_major": 2,
       "version_minor": 0
      },
      "text/plain": [
       "tokenizer.model:   0%|          | 0.00/500k [00:00<?, ?B/s]"
      ]
     },
     "metadata": {},
     "output_type": "display_data"
    },
    {
     "data": {
      "application/vnd.jupyter.widget-view+json": {
       "model_id": "bd030815bca04b5caf12d7b5f5ba25c4",
       "version_major": 2,
       "version_minor": 0
      },
      "text/plain": [
       "tokenizer.json:   0%|          | 0.00/1.94M [00:00<?, ?B/s]"
      ]
     },
     "metadata": {},
     "output_type": "display_data"
    },
    {
     "data": {
      "application/vnd.jupyter.widget-view+json": {
       "model_id": "1fa7daa8851d48b4bd1bee42807a5a81",
       "version_major": 2,
       "version_minor": 0
      },
      "text/plain": [
       "added_tokens.json:   0%|          | 0.00/306 [00:00<?, ?B/s]"
      ]
     },
     "metadata": {},
     "output_type": "display_data"
    },
    {
     "data": {
      "application/vnd.jupyter.widget-view+json": {
       "model_id": "d29b0f8e69104c52afdd83ead2e52b1e",
       "version_major": 2,
       "version_minor": 0
      },
      "text/plain": [
       "special_tokens_map.json:   0%|          | 0.00/599 [00:00<?, ?B/s]"
      ]
     },
     "metadata": {},
     "output_type": "display_data"
    },
    {
     "name": "stderr",
     "output_type": "stream",
     "text": [
      "Device set to use cuda\n"
     ]
    }
   ],
   "source": [
    "import torch\n",
    "from transformers import AutoModelForCausalLM, AutoTokenizer, pipeline\n",
    "\n",
    "# 모델과 토크나이절르 로드합니다.\n",
    "model = AutoModelForCausalLM.from_pretrained(\n",
    "    \"microsoft/Phi-3-mini-4k-instruct\",\n",
    "    device_map=\"cuda\",\n",
    "    torch_dtype=\"auto\",\n",
    "    trust_remote_code=True,\n",
    ")\n",
    "tokenizer = AutoTokenizer.from_pretrained(\"microsoft/Phi-3-mini-4k-instruct\")\n",
    "\n",
    "# 파이프라인을 만듭니다.\n",
    "pipe = pipeline(\n",
    "    \"text-generation\",\n",
    "    model=model,\n",
    "    tokenizer=tokenizer,\n",
    "    return_full_text=False,\n",
    "    max_new_tokens=500,\n",
    "    do_sample=False,\n",
    ")"
   ]
  },
  {
   "cell_type": "code",
   "execution_count": 4,
   "metadata": {
    "colab": {
     "base_uri": "https://localhost:8080/"
    },
    "id": "uZIMVL0Q3g8P",
    "outputId": "165bd233-9fc3-41bb-e3b2-8dadfc29f9d8"
   },
   "outputs": [
    {
     "name": "stderr",
     "output_type": "stream",
     "text": [
      "The `seen_tokens` attribute is deprecated and will be removed in v4.41. Use the `cache_position` model input instead.\n",
      "`get_max_cache()` is deprecated for all Cache classes. Use `get_max_cache_shape()` instead. Calling `get_max_cache()` will raise error from v4.48\n",
      "WARNING:transformers_modules.microsoft.Phi-3-mini-4k-instruct.0a67737cc96d2554230f90338b163bc6380a2a85.modeling_phi3:You are not running the flash-attention implementation, expect numerical differences.\n"
     ]
    },
    {
     "name": "stdout",
     "output_type": "stream",
     "text": [
      " Why did the chicken join the band? Because it had the drumsticks!\n"
     ]
    }
   ],
   "source": [
    "# 프롬프트\n",
    "messages = [\n",
    "    {\"role\": \"user\", \"content\": \"Create a funny joke about chickens.\"}\n",
    "]\n",
    "\n",
    "# 출력을 생성합니다.\n",
    "output = pipe(messages)\n",
    "print(output[0][\"generated_text\"])"
   ]
  },
  {
   "cell_type": "code",
   "execution_count": 5,
   "metadata": {
    "colab": {
     "base_uri": "https://localhost:8080/"
    },
    "id": "YOGpAY8w4odt",
    "outputId": "bb57e7c6-cf55-43fe-b4d8-578b4c5c7733"
   },
   "outputs": [
    {
     "name": "stdout",
     "output_type": "stream",
     "text": [
      "<|user|>\n",
      "Create a funny joke about chickens.<|end|>\n",
      "<|endoftext|>\n"
     ]
    }
   ],
   "source": [
    "# 프롬프트 템플릿을 적용합니다.\n",
    "prompt = pipe.tokenizer.apply_chat_template(messages, tokenize=False)\n",
    "print(prompt)"
   ]
  },
  {
   "cell_type": "code",
   "execution_count": 6,
   "metadata": {
    "colab": {
     "base_uri": "https://localhost:8080/"
    },
    "id": "eLd_XXaR3i04",
    "outputId": "08b25364-81a7-431b-a61d-7e09a5e12fe7"
   },
   "outputs": [
    {
     "name": "stdout",
     "output_type": "stream",
     "text": [
      " Why don't you ever play hide and seek with chickens?\n",
      "\n",
      "Because good luck hiding when they can cluck out your location with any sense of decency!\n"
     ]
    }
   ],
   "source": [
    "# 높은 temperature를 사용합니다.\n",
    "output = pipe(messages, do_sample=True, temperature=1)\n",
    "print(output[0][\"generated_text\"])"
   ]
  },
  {
   "cell_type": "code",
   "execution_count": 7,
   "metadata": {
    "colab": {
     "base_uri": "https://localhost:8080/"
    },
    "id": "sz61Fvtk580U",
    "outputId": "db7caef6-bb75-499f-d119-ca321df58fb9"
   },
   "outputs": [
    {
     "name": "stdout",
     "output_type": "stream",
     "text": [
      " Why did the chicken join the circus as a magician? Because it had a trick or two up its feathers!\n"
     ]
    }
   ],
   "source": [
    "# 높은 top_p를 사용합니다.\n",
    "output = pipe(messages, do_sample=True, top_p=1)\n",
    "print(output[0][\"generated_text\"])"
   ]
  },
  {
   "cell_type": "markdown",
   "metadata": {
    "id": "lnojy54u2uQa"
   },
   "source": [
    "## 고급 프롬프트 엔지니어링\n"
   ]
  },
  {
   "cell_type": "markdown",
   "metadata": {
    "id": "NMF9p8qK58Ou"
   },
   "source": [
    "### 복잡한 프롬프트"
   ]
  },
  {
   "cell_type": "code",
   "execution_count": 8,
   "metadata": {
    "id": "uEQ9ZnSH73yP"
   },
   "outputs": [],
   "source": [
    "# https://jalammar.github.io/illustrated-transformer/에서 가져온 텍스트\n",
    "text = \"\"\"In the previous post, we looked at Attention – a ubiquitous method in modern deep learning models. Attention is a concept that helped improve the performance of neural machine translation applications. In this post, we will look at The Transformer – a model that uses attention to boost the speed with which these models can be trained. The Transformer outperforms the Google Neural Machine Translation model in specific tasks. The biggest benefit, however, comes from how The Transformer lends itself to parallelization. It is in fact Google Cloud’s recommendation to use The Transformer as a reference model to use their Cloud TPU offering. So let’s try to break the model apart and look at how it functions.\n",
    "The Transformer was proposed in the paper Attention is All You Need. A TensorFlow implementation of it is available as a part of the Tensor2Tensor package. Harvard’s NLP group created a guide annotating the paper with PyTorch implementation. In this post, we will attempt to oversimplify things a bit and introduce the concepts one by one to hopefully make it easier to understand to people without in-depth knowledge of the subject matter.\n",
    "Let’s begin by looking at the model as a single black box. In a machine translation application, it would take a sentence in one language, and output its translation in another.\n",
    "Popping open that Optimus Prime goodness, we see an encoding component, a decoding component, and connections between them.\n",
    "The encoding component is a stack of encoders (the paper stacks six of them on top of each other – there’s nothing magical about the number six, one can definitely experiment with other arrangements). The decoding component is a stack of decoders of the same number.\n",
    "The encoders are all identical in structure (yet they do not share weights). Each one is broken down into two sub-layers:\n",
    "The encoder’s inputs first flow through a self-attention layer – a layer that helps the encoder look at other words in the input sentence as it encodes a specific word. We’ll look closer at self-attention later in the post.\n",
    "The outputs of the self-attention layer are fed to a feed-forward neural network. The exact same feed-forward network is independently applied to each position.\n",
    "The decoder has both those layers, but between them is an attention layer that helps the decoder focus on relevant parts of the input sentence (similar what attention does in seq2seq models).\n",
    "Now that we’ve seen the major components of the model, let’s start to look at the various vectors/tensors and how they flow between these components to turn the input of a trained model into an output.\n",
    "As is the case in NLP applications in general, we begin by turning each input word into a vector using an embedding algorithm.\n",
    "Each word is embedded into a vector of size 512. We'll represent those vectors with these simple boxes.\n",
    "The embedding only happens in the bottom-most encoder. The abstraction that is common to all the encoders is that they receive a list of vectors each of the size 512 – In the bottom encoder that would be the word embeddings, but in other encoders, it would be the output of the encoder that’s directly below. The size of this list is hyperparameter we can set – basically it would be the length of the longest sentence in our training dataset.\n",
    "After embedding the words in our input sequence, each of them flows through each of the two layers of the encoder.\n",
    "Here we begin to see one key property of the Transformer, which is that the word in each position flows through its own path in the encoder. There are dependencies between these paths in the self-attention layer. The feed-forward layer does not have those dependencies, however, and thus the various paths can be executed in parallel while flowing through the feed-forward layer.\n",
    "Next, we’ll switch up the example to a shorter sentence and we’ll look at what happens in each sub-layer of the encoder.\n",
    "Now We’re Encoding!\n",
    "As we’ve mentioned already, an encoder receives a list of vectors as input. It processes this list by passing these vectors into a ‘self-attention’ layer, then into a feed-forward neural network, then sends out the output upwards to the next encoder.\n",
    "\"\"\"\n",
    "\n",
    "# 프롬프트 구성 요소\n",
    "persona = \"You are an expert in Large Language models. You excel at breaking down complex papers into digestible summaries.\\n\"\n",
    "instruction = \"Summarize the key findings of the paper provided.\\n\"\n",
    "context = \"Your summary should extract the most crucial points that can help researchers quickly understand the most vital information of the paper.\\n\"\n",
    "data_format = \"Create a bullet-point summary that outlines the method. Follow this up with a concise paragraph that encapsulates the main results.\\n\"\n",
    "audience = \"The summary is designed for busy researchers that quickly need to grasp the newest trends in Large Language Models.\\n\"\n",
    "tone = \"The tone should be professional and clear.\\n\"\n",
    "text = \"MY TEXT TO SUMMARIZE\"  # Replace with your own text to summarize\n",
    "data = f\"Text to summarize: {text}\"\n",
    "\n",
    "# 전체 프롬프트 - 요소를 삭제하거나 추가하여 생성된 출력에 미치는 영향을 관찰하세요.\n",
    "query = persona + instruction + context + data_format + audience + tone + data"
   ]
  },
  {
   "cell_type": "code",
   "execution_count": 9,
   "metadata": {
    "colab": {
     "base_uri": "https://localhost:8080/"
    },
    "id": "Y8hbXm9R-sr0",
    "outputId": "c618e451-7795-4231-97a9-96dd6ad99791"
   },
   "outputs": [
    {
     "name": "stdout",
     "output_type": "stream",
     "text": [
      "<|user|>\n",
      "You are an expert in Large Language models. You excel at breaking down complex papers into digestible summaries.\n",
      "Summarize the key findings of the paper provided.\n",
      "Your summary should extract the most crucial points that can help researchers quickly understand the most vital information of the paper.\n",
      "Create a bullet-point summary that outlines the method. Follow this up with a concise paragraph that encapsulates the main results.\n",
      "The summary is designed for busy researchers that quickly need to grasp the newest trends in Large Language Models.\n",
      "The tone should be professional and clear.\n",
      "Text to summarize: MY TEXT TO SUMMARIZE<|end|>\n",
      "<|endoftext|>\n"
     ]
    }
   ],
   "source": [
    "messages = [\n",
    "    {\"role\": \"user\", \"content\": query}\n",
    "]\n",
    "print(tokenizer.apply_chat_template(messages, tokenize=False))"
   ]
  },
  {
   "cell_type": "code",
   "execution_count": 10,
   "metadata": {
    "colab": {
     "base_uri": "https://localhost:8080/"
    },
    "id": "-jO_uqNMTiWv",
    "outputId": "146d888f-eeee-431e-a3c2-c4486c7822a7"
   },
   "outputs": [
    {
     "name": "stdout",
     "output_type": "stream",
     "text": [
      " - The paper investigates the impact of pre-training data size on the performance of Large Language Models (LLMs).\n",
      "\n",
      "- It compares models trained on different volumes of data, ranging from a few billion to over a trillion tokens.\n",
      "\n",
      "- The study finds that models trained on larger datasets generally perform better on a variety of tasks, including language understanding and generation.\n",
      "\n",
      "- However, the performance gains diminish after a certain point, indicating a potential plateau in the benefits of increasing data size.\n",
      "\n",
      "- The paper also discusses the diminishing returns in terms of computational resources and environmental impact.\n",
      "\n",
      "- It suggests that future research should focus on optimizing model architecture and training procedures to achieve better performance with less data.\n",
      "\n",
      "\n",
      "The paper presents a comprehensive analysis of how the size of pre-training data affects the capabilities of Large Language Models. It reveals that while larger datasets lead to improved performance across multiple tasks, there is a threshold beyond which additional data does not significantly enhance model effectiveness. This finding is crucial for the research community as it highlights the importance of optimizing model design and training strategies to balance performance gains with resource efficiency and environmental considerations.\n"
     ]
    }
   ],
   "source": [
    "# 출력을 생성합니다.\n",
    "outputs = pipe(messages)\n",
    "print(outputs[0][\"generated_text\"])"
   ]
  },
  {
   "cell_type": "markdown",
   "metadata": {
    "id": "Ol5aCUfM9bjM"
   },
   "source": [
    "### 문맥 내 학습: 예시 제공"
   ]
  },
  {
   "cell_type": "code",
   "execution_count": 11,
   "metadata": {
    "colab": {
     "base_uri": "https://localhost:8080/"
    },
    "id": "Ne92BtrXU8k8",
    "outputId": "13b9dacb-285c-46f5-b9fb-b6030aca48a4"
   },
   "outputs": [
    {
     "name": "stdout",
     "output_type": "stream",
     "text": [
      "<|user|>\n",
      "A 'Gigamuru' is a type of Japanese musical instrument. An example of a sentence that uses the word Gigamuru is:<|end|>\n",
      "<|assistant|>\n",
      "I have a Gigamuru that my uncle gave me as a gift. I love to play it at home.<|end|>\n",
      "<|user|>\n",
      "To 'screeg' something is to swing a sword at it. An example of a sentence that uses the word screeg is:<|end|>\n",
      "<|endoftext|>\n"
     ]
    }
   ],
   "source": [
    "# 문장에 가상의 단어가 포함된 예시를 사용합니다.\n",
    "one_shot_prompt = [\n",
    "    {\n",
    "        \"role\": \"user\",\n",
    "        \"content\": \"A 'Gigamuru' is a type of Japanese musical instrument. An example of a sentence that uses the word Gigamuru is:\"\n",
    "    },\n",
    "    {\n",
    "        \"role\": \"assistant\",\n",
    "        \"content\": \"I have a Gigamuru that my uncle gave me as a gift. I love to play it at home.\"\n",
    "    },\n",
    "    {\n",
    "        \"role\": \"user\",\n",
    "        \"content\": \"To 'screeg' something is to swing a sword at it. An example of a sentence that uses the word screeg is:\"\n",
    "    }\n",
    "]\n",
    "print(tokenizer.apply_chat_template(one_shot_prompt, tokenize=False))"
   ]
  },
  {
   "cell_type": "code",
   "execution_count": 12,
   "metadata": {
    "colab": {
     "base_uri": "https://localhost:8080/"
    },
    "id": "Ox3LeHW5JfaD",
    "outputId": "f599e4f0-b7dd-413f-af1e-91470cd91ca2"
   },
   "outputs": [
    {
     "name": "stdout",
     "output_type": "stream",
     "text": [
      " During the medieval reenactment, the knight skillfully screeged the wooden target, impressing the onlookers with his prowess.\n"
     ]
    }
   ],
   "source": [
    "# 출력을 생성합니다.\n",
    "outputs = pipe(one_shot_prompt)\n",
    "print(outputs[0][\"generated_text\"])"
   ]
  },
  {
   "cell_type": "markdown",
   "metadata": {
    "id": "cugB9temhHJ0"
   },
   "source": [
    "### 프롬프트 체인: 문제 쪼개기\n"
   ]
  },
  {
   "cell_type": "code",
   "execution_count": 13,
   "metadata": {
    "colab": {
     "base_uri": "https://localhost:8080/"
    },
    "id": "VXYuFn9eG2t4",
    "outputId": "1c526999-0746-4495-90fb-3aff719cd884"
   },
   "outputs": [
    {
     "name": "stdout",
     "output_type": "stream",
     "text": [
      " Name: ChatSage\n",
      "Slogan: \"Unleashing the power of AI to enhance your conversations.\"\n"
     ]
    }
   ],
   "source": [
    "# 제품 이름과 슬로건을 만듭니다.\n",
    "product_prompt = [\n",
    "    {\"role\": \"user\", \"content\": \"Create a name and slogan for a chatbot that leverages LLMs.\"}\n",
    "]\n",
    "outputs = pipe(product_prompt)\n",
    "product_description = outputs[0][\"generated_text\"]\n",
    "print(product_description)"
   ]
  },
  {
   "cell_type": "code",
   "execution_count": 14,
   "metadata": {
    "colab": {
     "base_uri": "https://localhost:8080/"
    },
    "id": "fNYi3eDRG9Sk",
    "outputId": "712399aa-7c36-4263-a007-71fb35f76179"
   },
   "outputs": [
    {
     "name": "stdout",
     "output_type": "stream",
     "text": [
      " Introducing ChatSage, the revolutionary AI-powered tool designed to elevate your conversations to new heights. With our cutting-edge technology, we unleash the power of AI to enhance your interactions, making every conversation more engaging, insightful, and meaningful. Experience the future of communication with ChatSage today!\n"
     ]
    }
   ],
   "source": [
    "# 제품 이름과 슬로건을 바탕으로 홍보 문구를 생성합니다.\n",
    "sales_prompt = [\n",
    "    {\"role\": \"user\", \"content\": f\"Generate a very short sales pitch for the following product: '{product_description}'\"}\n",
    "]\n",
    "outputs = pipe(sales_prompt)\n",
    "sales_pitch = outputs[0][\"generated_text\"]\n",
    "print(sales_pitch)"
   ]
  },
  {
   "cell_type": "markdown",
   "metadata": {
    "id": "IL1UpiV02V5O"
   },
   "source": [
    "## 생성 모델을 사용한 추론\n"
   ]
  },
  {
   "cell_type": "markdown",
   "metadata": {
    "id": "6lQJhAnY2W3O"
   },
   "source": [
    "### CoT: 응답하기 전에 생각하기\n"
   ]
  },
  {
   "cell_type": "code",
   "execution_count": 15,
   "metadata": {
    "colab": {
     "base_uri": "https://localhost:8080/"
    },
    "id": "TnkxKmLyHGuR",
    "outputId": "949f53fc-c661-4cc0-d8a2-173ecc35641e"
   },
   "outputs": [
    {
     "name": "stdout",
     "output_type": "stream",
     "text": [
      " The cafeteria started with 25 apples. They used 20 apples to make lunch, so they had 25 - 20 = 5 apples left. After buying 6 more apples, they now have 5 + 6 = 11 apples.\n"
     ]
    }
   ],
   "source": [
    "# 추론없이 답변하기\n",
    "standard_prompt = [\n",
    "    {\"role\": \"user\", \"content\": \"Roger has 5 tennis balls. He buys 2 more cans of tennis balls. Each can has 3 tennis balls. How many tennis balls does he have now?\"},\n",
    "    {\"role\": \"assistant\", \"content\": \"11\"},\n",
    "    {\"role\": \"user\", \"content\": \"The cafeteria had 25 apples. If they used 20 to make lunch and bought 6 more, how many apples do they have?\"}\n",
    "]\n",
    "\n",
    "# 출력을 생성합니다.\n",
    "outputs = pipe(standard_prompt)\n",
    "print(outputs[0][\"generated_text\"])"
   ]
  },
  {
   "cell_type": "code",
   "execution_count": 16,
   "metadata": {
    "colab": {
     "base_uri": "https://localhost:8080/"
    },
    "id": "X9jD3zPPEz_X",
    "outputId": "1590ad1b-43c6-4918-a8dd-a2ceeea42757"
   },
   "outputs": [
    {
     "name": "stdout",
     "output_type": "stream",
     "text": [
      " The cafeteria started with 23 apples. They used 20 apples for lunch, so they had 23 - 20 = 3 apples left. After buying 6 more apples, they now have 3 + 6 = 9 apples. The answer is 9.\n"
     ]
    }
   ],
   "source": [
    "# CoT로 대답하기\n",
    "cot_prompt = [\n",
    "    {\"role\": \"user\", \"content\": \"Roger has 5 tennis balls. He buys 2 more cans of tennis balls. Each can has 3 tennis balls. How many tennis balls does he have now?\"},\n",
    "    {\"role\": \"assistant\", \"content\": \"Roger started with 5 balls. 2 cans of 3 tennis balls each is 6 tennis balls. 5 + 6 = 11. The answer is 11.\"},\n",
    "    {\"role\": \"user\", \"content\": \"The cafeteria had 23 apples. If they used 20 to make lunch and bought 6 more, how many apples do they have?\"}\n",
    "]\n",
    "\n",
    "# 출력을 생성합니다.\n",
    "outputs = pipe(cot_prompt)\n",
    "print(outputs[0][\"generated_text\"])"
   ]
  },
  {
   "cell_type": "markdown",
   "metadata": {
    "id": "4jVOOib72Z0P"
   },
   "source": [
    "### 제로-샷 CoT\n"
   ]
  },
  {
   "cell_type": "code",
   "execution_count": 17,
   "metadata": {
    "colab": {
     "base_uri": "https://localhost:8080/"
    },
    "id": "iyHWAk2XKKGt",
    "outputId": "e269dcd4-0ffc-4664-f38e-1392b6472eb9"
   },
   "outputs": [
    {
     "name": "stdout",
     "output_type": "stream",
     "text": [
      " Step 1: Start with the initial number of apples in the cafeteria, which is 23.\n",
      "\n",
      "Step 2: Subtract the number of apples used to make lunch, which is 20.\n",
      "23 - 20 = 3 apples remaining.\n",
      "\n",
      "Step 3: Add the number of apples bought, which is 6.\n",
      "3 + 6 = 9 apples.\n",
      "\n",
      "So, the cafeteria now has 9 apples.\n"
     ]
    }
   ],
   "source": [
    "# 제로-샷 CoT\n",
    "zeroshot_cot_prompt = [\n",
    "    {\"role\": \"user\", \"content\": \"The cafeteria had 23 apples. If they used 20 to make lunch and bought 6 more, how many apples do they have? Let's think step-by-step.\"}\n",
    "]\n",
    "\n",
    "# 출력을 생성합니다.\n",
    "outputs = pipe(zeroshot_cot_prompt)\n",
    "print(outputs[0][\"generated_text\"])"
   ]
  },
  {
   "cell_type": "markdown",
   "metadata": {
    "id": "-3-bMVLT2ehH"
   },
   "source": [
    "## ToT: 중간 단계 탐색\n"
   ]
  },
  {
   "cell_type": "code",
   "execution_count": 18,
   "metadata": {
    "id": "3ZJo-4NBI1V-"
   },
   "outputs": [],
   "source": [
    "# 제로-샷 ToT\n",
    "zeroshot_tot_prompt = [\n",
    "    {\"role\": \"user\", \"content\": \"Imagine three different experts are answering this question. All experts will write down 1 step of their thinking, then share it with the group. Then all experts will go on to the next step, etc. If any expert realises they're wrong at any point then they leave. The question is 'The cafeteria had 23 apples. If they used 20 to make lunch and bought 6 more, how many apples do they have?' Make sure to discuss the results.\"}\n",
    "]"
   ]
  },
  {
   "cell_type": "code",
   "execution_count": 19,
   "metadata": {
    "colab": {
     "base_uri": "https://localhost:8080/"
    },
    "id": "qieQ9waXLbZO",
    "outputId": "e7ab41bf-7d49-4ffc-e00b-8c2a043589ec"
   },
   "outputs": [
    {
     "name": "stderr",
     "output_type": "stream",
     "text": [
      "You seem to be using the pipelines sequentially on GPU. In order to maximize efficiency please use a dataset\n"
     ]
    },
    {
     "name": "stdout",
     "output_type": "stream",
     "text": [
      " Expert 1:\n",
      "Step 1: Start with the initial number of apples, which is 23.\n",
      "\n",
      "Expert 2:\n",
      "Step 1: Subtract the number of apples used for lunch, which is 20.\n",
      "Step 2: Add the number of apples bought, which is 6.\n",
      "\n",
      "Expert 3:\n",
      "Step 1: Start with the initial number of apples, which is 23.\n",
      "Step 2: Subtract the number of apples used for lunch, which is 20.\n",
      "Step 3: Add the number of apples bought, which is 6.\n",
      "\n",
      "Results:\n",
      "All three experts arrived at the same answer:\n",
      "\n",
      "Expert 1: 23 - 20 + 6 = 9 apples\n",
      "Expert 2: (23 - 20) + 6 = 9 apples\n",
      "Expert 3: (23 - 20) + 6 = 9 apples\n",
      "\n",
      "All three experts agree that the cafeteria has 9 apples left.\n"
     ]
    }
   ],
   "source": [
    "# 출력을 생성합니다.\n",
    "outputs = pipe(zeroshot_tot_prompt)\n",
    "print(outputs[0][\"generated_text\"])"
   ]
  },
  {
   "cell_type": "markdown",
   "metadata": {
    "id": "TyCw3A5GZ61D"
   },
   "source": [
    "## 출력 검증"
   ]
  },
  {
   "cell_type": "markdown",
   "metadata": {
    "id": "pi67V-xNZ8fS"
   },
   "source": [
    "### 예시 제공"
   ]
  },
  {
   "cell_type": "code",
   "execution_count": 20,
   "metadata": {
    "colab": {
     "base_uri": "https://localhost:8080/"
    },
    "id": "NBc_HuJQY8sh",
    "outputId": "dd62f61f-9df7-42e9-d616-c247727cbfc5"
   },
   "outputs": [
    {
     "name": "stdout",
     "output_type": "stream",
     "text": [
      " ```json\n",
      "{\n",
      "  \"name\": \"Eldrin the Wise\",\n",
      "  \"race\": \"Elf\",\n",
      "  \"class\": \"Wizard\",\n",
      "  \"level\": 10,\n",
      "  \"alignment\": \"Chaotic Good\",\n",
      "  \"strength\": 8,\n",
      "  \"dexterity\": 14,\n",
      "  \"constitution\": 12,\n",
      "  \"intelligence\": 18,\n",
      "  \"wisdom\": 16,\n",
      "  \"charisma\": 10,\n",
      "  \"weapon_skill\": \"Magic\",\n",
      "  \"armor_skill\": \"Light\",\n",
      "  \"spell_slots\": {\n",
      "    \"cantrips\": [\"Mage Hand\", \"Detect Magic\", \"Mage Armor\", \"Prestidigitation\", \"Identify\", \"Invisibility\"],\n",
      "    \"1st level\": [\"Fireball\", \"Magic Missile\", \"Shield\", \"Cure Wounds\", \"Detect Thoughts\", \"Charm Person\"],\n",
      "    \"2nd level\": [\"Light\", \"Hold Person\", \"Sleep\", \"Committee\", \"Enlarge Person\", \"Teleport\"],\n",
      "    \"3rd level\": [\"Frostbite\", \"Fog Cloud\", \"Disintegrate\", \"Dimension Door\", \"Mirror Image\", \"Misty Step\"]\n",
      "  },\n",
      "  \"equipment\": {\n",
      "    \"weapon\": \"Staff of the Ancients\",\n",
      "    \"armor\": \"Leather Armor\",\n",
      "    \"accessories\": [\"Staff of Power\", \"Ring of Protection\", \"Boots of Speed\"]\n",
      "  },\n",
      "  \"background\": \"Adept\",\n",
      "  \"personality\": \"Curious and inventive, Eldrin is always seeking new knowledge and magical secrets. He is a bit of a loner, preferring the company of books and scrolls to that of other people.\",\n",
      "  \"appearance\": {\n",
      "    \"hair_color\": \"Gray\",\n",
      "    \"hair_style\": \"Long and flowing\",\n",
      "    \"eye_color\": \"Green\",\n",
      "    \"skin_color\": \"Light\",\n",
      "    \"height\": \"6'2\\\"\n"
     ]
    }
   ],
   "source": [
    "# 제로-샷 학습: 예시 없음\n",
    "zeroshot_prompt = [\n",
    "    {\"role\": \"user\", \"content\": \"Create a character profile for an RPG game in JSON format.\"}\n",
    "]\n",
    "\n",
    "# 출력을 생성합니다.\n",
    "outputs = pipe(zeroshot_prompt)\n",
    "print(outputs[0][\"generated_text\"])"
   ]
  },
  {
   "cell_type": "code",
   "execution_count": 21,
   "metadata": {
    "colab": {
     "base_uri": "https://localhost:8080/"
    },
    "id": "4cc1U9TKZJkM",
    "outputId": "a09a18e2-34a4-4a2b-cb90-97766d8f9e3d"
   },
   "outputs": [
    {
     "name": "stdout",
     "output_type": "stream",
     "text": [
      " {\n",
      "  \"description\": \"A cunning rogue with a mysterious past, skilled in stealth and deception.\",\n",
      "  \"name\": \"Shadowcloak\",\n",
      "  \"armor\": \"Leather Hood\",\n",
      "  \"weapon\": \"Dagger\"\n",
      "}\n"
     ]
    }
   ],
   "source": [
    "# 원-샷 학습: 출력 구조에 대한 예시를 제공합니다.\n",
    "one_shot_template = \"\"\"Create a short character profile for an RPG game. Make sure to only use this format:\n",
    "\n",
    "{\n",
    "  \"description\": \"A SHORT DESCRIPTION\",\n",
    "  \"name\": \"THE CHARACTER'S NAME\",\n",
    "  \"armor\": \"ONE PIECE OF ARMOR\",\n",
    "  \"weapon\": \"ONE OR MORE WEAPONS\"\n",
    "}\n",
    "\"\"\"\n",
    "one_shot_prompt = [\n",
    "    {\"role\": \"user\", \"content\": one_shot_template}\n",
    "]\n",
    "\n",
    "# 출력을 생성합니다.\n",
    "outputs = pipe(one_shot_prompt)\n",
    "print(outputs[0][\"generated_text\"])"
   ]
  },
  {
   "cell_type": "markdown",
   "metadata": {
    "id": "jR3QSswQ2kAq"
   },
   "source": [
    "### 문법: 제약 샘플링\n"
   ]
  },
  {
   "cell_type": "code",
   "execution_count": 22,
   "metadata": {
    "id": "L06f1CYoc9Pp"
   },
   "outputs": [],
   "source": [
    "import gc\n",
    "import torch\n",
    "del model, tokenizer, pipe\n",
    "\n",
    "# 메모리를 비웁니다.\n",
    "gc.collect()\n",
    "torch.cuda.empty_cache()"
   ]
  },
  {
   "cell_type": "code",
   "execution_count": 23,
   "metadata": {
    "colab": {
     "base_uri": "https://localhost:8080/",
     "height": 49,
     "referenced_widgets": [
      "dc26bc96f1d44babb68ec3b8f3dde495",
      "8ddae0b79efa42d3b3f4ef210f289f76",
      "ef77caec457d44c8ade9c864e19420ac",
      "05eb945fbd984367b7134eede17d9de3",
      "beddc553cc5f47e18672fecf1303d080",
      "925612e1b6184b4d8d91859e080b5afc",
      "d7714af7101549ab8b2734d6cffc05d7",
      "5330d290745d495d8e0227098edff696",
      "a9e3135afc1f4bb6b3e00585042a2a15",
      "75f3d2c2bcae4269b2cf9a17a6fb1e3b",
      "fa8da0b36b1d4557bcbdd8926fe92c9d"
     ]
    },
    "id": "B-YykcIru20X",
    "outputId": "ee13ab5c-df9b-4b62-9908-2863095707bf"
   },
   "outputs": [
    {
     "data": {
      "application/vnd.jupyter.widget-view+json": {
       "model_id": "dc26bc96f1d44babb68ec3b8f3dde495",
       "version_major": 2,
       "version_minor": 0
      },
      "text/plain": [
       "Phi-3-mini-4k-instruct-fp16.gguf:   0%|          | 0.00/7.64G [00:00<?, ?B/s]"
      ]
     },
     "metadata": {},
     "output_type": "display_data"
    }
   ],
   "source": [
    "from llama_cpp.llama import Llama\n",
    "\n",
    "# Phi-3를 로드합니다.\n",
    "llm = Llama.from_pretrained(\n",
    "    repo_id=\"microsoft/Phi-3-mini-4k-instruct-gguf\",\n",
    "    filename=\"*fp16.gguf\",\n",
    "    n_gpu_layers=-1,\n",
    "    n_ctx=4096,\n",
    "    verbose=False\n",
    ")"
   ]
  },
  {
   "cell_type": "code",
   "execution_count": 24,
   "metadata": {
    "id": "_j9TYBVIgti6"
   },
   "outputs": [],
   "source": [
    "# 출력을 생성합니다.\n",
    "output = llm.create_chat_completion(\n",
    "    messages=[\n",
    "        {\"role\": \"user\", \"content\": \"Create a warrior for an RPG in JSON format.\"},\n",
    "    ],\n",
    "    response_format={\"type\": \"json_object\"},\n",
    "    temperature=0,\n",
    ")['choices'][0]['message'][\"content\"]"
   ]
  },
  {
   "cell_type": "code",
   "execution_count": 25,
   "metadata": {
    "colab": {
     "base_uri": "https://localhost:8080/"
    },
    "id": "Kp7FBjFdsbHe",
    "outputId": "bf8686ff-57e5-4377-fd2e-27ef76e1b010"
   },
   "outputs": [
    {
     "name": "stdout",
     "output_type": "stream",
     "text": [
      "{\n",
      "    \"warrior\": {\n",
      "        \"name\": \"Eldric Stormbringer\",\n",
      "        \"class\": \"Warrior\",\n",
      "        \"level\": 5,\n",
      "        \"attributes\": {\n",
      "            \"strength\": 18,\n",
      "            \"dexterity\": 10,\n",
      "            \"constitution\": 16,\n",
      "            \"intelligence\": 8,\n",
      "            \"wisdom\": 10,\n",
      "            \"charisma\": 12\n",
      "        },\n",
      "        \"skills\": [\n",
      "            {\n",
      "                \"name\": \"Martial Arts\",\n",
      "                \"proficiency\": 20,\n",
      "                \"description\": \"Expert in hand-to-hand combat and weapon handling.\"\n",
      "            },\n",
      "            {\n",
      "                \"name\": \"Shield Block\",\n",
      "                \"proficiency\": 18,\n",
      "                \"description\": \"Highly skilled at deflecting attacks with a shield.\"\n",
      "            },\n",
      "            {\n",
      "                \"name\": \"Heavy Armor\",\n",
      "                \"proficiency\": 16,\n",
      "                \"description\": \"Expertly equipped with heavy armor for protection.\"\n",
      "            },\n",
      "            {\n",
      "                \"name\": \"Survival\",\n",
      "                \"proficiency\": 14,\n",
      "                \"description\": \"Adept at finding food, water, and shelter in the wilderness.\"\n",
      "            }\n",
      "        ],\n",
      "        \"equipment\": [\n",
      "            {\n",
      "                \"name\": \"Iron Sword\",\n",
      "                \"type\": \"Weapon\",\n",
      "                \"damage\": 12,\n",
      "                \"durability\": 100\n",
      "            },\n",
      "            {\n",
      "                \"name\": \"Chainmail Armor\",\n",
      "                \"type\": \"Armor\",\n",
      "                \"defense\": 18,\n",
      "                \"durability\": 100\n",
      "            },\n",
      "            {\n",
      "                \"name\": \"Leather Boots\",\n",
      "                \"type\": \"Armor\",\n",
      "                \"defense\": 8,\n",
      "                \"durability\": 100\n",
      "            }\n",
      "        ],\n",
      "        \"abilities\": [\n",
      "            {\n",
      "                \"name\": \"Berserker Rage\",\n",
      "                \"description\": \"Increases strength and attack power for a short duration.\"\n",
      "            },\n",
      "            {\n",
      "                \"name\": \"Shield Wall\",\n",
      "                \"description\": \"Forms a defensive barrier with allies, reducing incoming damage.\"\n",
      "            },\n",
      "            {\n",
      "                \"name\": \"Battle Cry\",\n",
      "                \"description\": \"Inspires nearby allies, increasing their attack power temporarily.\"\n",
      "            }\n",
      "        ]\n",
      "    }\n",
      "}\n"
     ]
    }
   ],
   "source": [
    "import json\n",
    "\n",
    "# JSON 문자열을 로드합니다.\n",
    "json_output = json.dumps(json.loads(output), indent=4)\n",
    "print(json_output)"
   ]
  }
 ],
 "metadata": {
  "accelerator": "GPU",
  "colab": {
   "gpuType": "T4",
   "provenance": []
  },
  "kernelspec": {
   "display_name": "Python 3 (ipykernel)",
   "language": "python",
   "name": "python3"
  },
  "language_info": {
   "codemirror_mode": {
    "name": "ipython",
    "version": 3
   },
   "file_extension": ".py",
   "mimetype": "text/x-python",
   "name": "python",
   "nbconvert_exporter": "python",
   "pygments_lexer": "ipython3",
   "version": "3.8.18"
  }
 },
 "nbformat": 4,
 "nbformat_minor": 1
}
