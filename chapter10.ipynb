{
 "cells": [
  {
   "cell_type": "markdown",
   "metadata": {
    "id": "-ETtu9CvVMDR"
   },
   "source": [
    "<h1>10장 텍스트 임베딩 모델 만들기</h1>\n",
    "<i>임베딩 모델을 훈련하고 미세 튜닝하는 방법 살펴 보기</i>\n",
    "\n",
    "<a href=\"https://github.com/rickiepark/handson-llm\"><img src=\"https://img.shields.io/badge/GitHub%20Repository-black?logo=github\"></a>\n",
    "[![Open In Colab](https://colab.research.google.com/assets/colab-badge.svg)](https://colab.research.google.com/github/rickiepark/handson-llm/blob/main/chapter10.ipynb)\n",
    "\n",
    "---\n",
    "\n",
    "이 노트북은 <[핸즈온 LLM](https://www.amazon.com/Hands-Large-Language-Models-Understanding/dp/1098150961)> 책 10장의 코드를 담고 있습니다.\n",
    "\n",
    "---\n",
    "\n",
    "<a href=\"https://www.amazon.com/Hands-Large-Language-Models-Understanding/dp/1098150961\">\n",
    "<img src=\"https://raw.githubusercontent.com/HandsOnLLM/Hands-On-Large-Language-Models/main/images/book_cover.png\" width=\"350\"/></a>\n"
   ]
  },
  {
   "cell_type": "markdown",
   "metadata": {
    "id": "8uAQmA14B98S"
   },
   "source": [
    "### [선택사항] - <img src=\"https://colab.google/static/images/icons/colab.png\" width=100>에서 패키지 선택하기\n",
    "\n",
    "\n",
    "이 노트북을 구글 코랩에서 실행한다면 다음 코드 셀을 실행하여 이 노트북에서 필요한 패키지를  설치하세요.\n",
    "\n",
    "---\n",
    "\n",
    "💡 **NOTE**: 이 노트북의 코드를 실행하려면 GPU를 사용하는 것이 좋습니다. 구글 코랩에서는 **런타임 > 런타임 유형 변경 > 하드웨어 가속기 > T4 GPU**를 선택하세요.\n",
    "\n",
    "---"
   ]
  },
  {
   "cell_type": "code",
   "execution_count": null,
   "metadata": {
    "id": "D2kxxOfkB98S"
   },
   "outputs": [],
   "source": [
    "%%capture\n",
    "!pip install datasets mteb"
   ]
  },
  {
   "cell_type": "markdown",
   "metadata": {
    "id": "2UrKluX5YNmu"
   },
   "source": [
    "## 임베딩 모델 만들기"
   ]
  },
  {
   "cell_type": "markdown",
   "metadata": {
    "id": "ywsyZzm5VSER"
   },
   "source": [
    "### 데이터"
   ]
  },
  {
   "cell_type": "code",
   "execution_count": null,
   "metadata": {
    "colab": {
     "base_uri": "https://localhost:8080/",
     "height": 369,
     "referenced_widgets": [
      "2308d2fa82204c0f8ec54eb83fca3efc",
      "6aa725c0abbe470d8e296c7105c019f1",
      "76b192b3ad414fb2837ff77e1ba78988",
      "d46ee5d11eb545caad2652cba6a21b24",
      "92407e7132364f3bb8ed5064394b2a4b",
      "ba8276d06ee24a1c8da2d30b8284bcfe",
      "c5a0f6e3c1794a2197b5ff4cf0d8846b",
      "6d83654ce03a40f9a7d923a01fae6aac",
      "99e6d5cd6b804cd9afe70a76e29e76ff",
      "d9f04ee2cef54692ad5e68ac26a1da05",
      "9248498bbae94a5585cef16b880b13ac",
      "2ee8a601b85846e697f8631aa3f38083",
      "f18c0d03534346b0bed5a27478fa675f",
      "d8fab5058fc344b79059c97fcc081f80",
      "d2ff93d002254088b425df6cccf203f2",
      "53da02c4cfe646cb9faa16f1435e0c54",
      "55151ba8300f4db88470cfcb9cdc7625",
      "ad05085411e24faa84b2937d4f02f121",
      "d5c434911a304e0d9ff42fef3c44fe31",
      "d45ed5300fd2469b8ff737f13982846d",
      "69cf12a715db4519bcb55c58470d4023",
      "b1f841ff6dc4496580a5c1aa30b25f49",
      "8c4a953187b94dfc86348f90b9fa8157",
      "85c3b5689bac44228da9f4219aac93e7",
      "13056a74c3584f1fb9d13b61feac4abf",
      "09ef4e9f9804415391c1c61c4eb25d1b",
      "430af0fa751b45afbc137c51f7e79402",
      "412ee5e6ebc742d88b7c9a51f7f4fc8f",
      "0cc3c235f7274baa91e91342ea7677b2",
      "a9d0652938c24cf0a1f3899e249149a6",
      "9fab70be8b7c4dc08e6d0ddfe9514e13",
      "a5da30171c7c4f01aaabe498c88ad53d",
      "38a502d9bd16404cbc0edcfab6091ed1",
      "59e7e1271b324d4e8448424503e93911",
      "29dd10f5a7214008998af3367f6289a9",
      "66ba1c0859044f929618d73015e3a38f",
      "e4c6f9366d7547d1ae3749dfb700bdd4",
      "eddb9434069e4f18ba5a851485808b24",
      "e4e7e47747d948fc9fa39d7e9e38d696",
      "cd671f44c4b549068f3ecb56bc557782",
      "5c4e90d7095e474ab2350cc13058c0cd",
      "713d7f380c974974ba7f6905d9416b02",
      "ab84915abcc64232bbecf08629ae70ef",
      "5f8636b15f944396935199ba983c3c8e",
      "a03c4a764aeb41118aacd957a3811f93",
      "8b91da33d1524bd4b5df5d53d77dc51c",
      "176e276f9e9543e1883550bca8c5e564",
      "fb52e896d469425d95f44a8d589a338c",
      "b7e63882700f47f6bc2dded4e297411b",
      "238ff428d8604e0ba2e346de431d3d5b",
      "5b69ccc794fa4cecbc71efe5967338e3",
      "9e6c35f2e74a428cb3b554b96f3497f9",
      "8d7c45ecf735421c8795d29490735118",
      "8a79ad54f6c44d7789ee33fbb3238295",
      "593a51f8b6b54af38df94c6841b8fb00",
      "5bdb5f728e974a82ba2146a6ebe3ab6f",
      "bda8d04822b84c269ab596f3f477cfa0",
      "e230b654ae0a4a1f832865acc943aa78",
      "c30de893f82b4eb0b3955698d4721636",
      "690c74c2712246cc994f6901a5a6029e",
      "9bbcb2bc07f6421e9356de0194a8f136",
      "5381e88ccedc4ebcb582dfde37bd2781",
      "b0b6ad0c3d16432b9ea17c05d803b85f",
      "0dc48982721740d5b5ab01eed6c0cc3c",
      "aa899a0c54c74c7aa522cec28ba28d64",
      "d1cbcf1eb7674a50aa5a48435d92a751",
      "3e2beabb31c049d4918b917dfb2ba195",
      "cc894796e12e4372aceeb2151189d1b8",
      "b33cd1bc378d4f62862de0598f3d5a39",
      "9a0d52dad9604b69b7f4a00aa66ef8bd",
      "77dc83f72ced4cf8a3e1554022748725",
      "c24fb94cd8794720a8e300e31421619b",
      "6bf3fe0ba7f5427390213d826b4bc1e4",
      "8cd685fa42464cd189e78520ad124706",
      "c5630370b0dd42e8bcdaadd25398a4b4",
      "36257ada2106469fa181198f1d069788",
      "df1558d466be4926980d2fc6023f0195",
      "249c34348d774d698ebe404d4824ac45",
      "887002ee283c4d82b4f22a0ed702519a",
      "77fcf82e7c10451c8df41a8c4a358df4",
      "ab587cd6c7494e5da42e099df794c92a",
      "22f57a62b24946be9f2f7f0fbb8ee336",
      "40733368fa19459aa6f1b695eb310614",
      "55f292a802bf4d29965ef6e2a095abfb",
      "6e1601289e4c451faae1f488cceae48c",
      "711d4a586393414982b28622429362fe",
      "5132a6af2f634f48ba7e8eb2d978a5d2",
      "25348b73a4794f11ac34dd1fb985ecdf",
      "a70da83632344d94b64c160750bc92f1",
      "461df441de2b488b8ef5429ebf2e8a69",
      "b793d5090aec41bfadb3536c84f01a37",
      "5511f85cc2df470da0481154bdbb3fab",
      "3f5f8bd2b3524eedba92150f7f78c32b",
      "f8d5fada554a48479bd7f7f2e05bb495",
      "c33996995805498082ce9dfe05a9b21e",
      "5faee3b5b17c4bbdafadd2d7afcf7fa6",
      "8feaaacf2cb54c078dca0729d30126dd",
      "b6d1f719750a4a5396d820620b15c881",
      "fc1dfd817b6e4b37976b6b1b9fc245f9",
      "061a0a0272c645b3a0395c8fb6a1ee71",
      "6fefaac57fbe4c278690b70d588a26bd",
      "4ab31feab04844d6a3bf5e9ab4ab1278",
      "b259444a5be5496385653ceb0223e43d",
      "4b6d15b8470b4cfeb077d4713043c9d3",
      "ef0673e688714e80a04787f612d3e274",
      "94615e4959e440039e39c92e9a5a5bc4",
      "c78b56a378ba4ccbb5a5257a843d6ae9",
      "fd617e78b1f049f99558f47bbbd2087f",
      "84a1874aed714040974a3ad417071e21",
      "76774fd844ea42d0a105a6151a566466",
      "52e8184a99d446e78a2cbe516f28cd5a",
      "08dfc1ed8df642b395815a9252cba8ec",
      "929c1ef08919430896a56fa1c9cd74e7",
      "c944a6be82d44885a82a20d85738382d",
      "bdffb4af868645f08ed5993c583362f6",
      "765a305991534ea7a446f5778e985b53",
      "389acf79f48943bdb0be0b915cf0e0fe",
      "6596a3bc797a4b31aebcb56f65c67850",
      "2e7da7e290f049abaa86bc9a5672c65d",
      "4e3477c991754f18bc42f5f198dff868",
      "850da0ea134749f8af4a5267e13698dc"
     ]
    },
    "id": "Ahk0SJDKVy6F",
    "outputId": "275f2fd8-3197-4a58-d504-2fe794ee4327"
   },
   "outputs": [
    {
     "data": {
      "application/vnd.jupyter.widget-view+json": {
       "model_id": "2308d2fa82204c0f8ec54eb83fca3efc",
       "version_major": 2,
       "version_minor": 0
      },
      "text/plain": [
       "Downloading readme:   0%|          | 0.00/35.3k [00:00<?, ?B/s]"
      ]
     },
     "metadata": {},
     "output_type": "display_data"
    },
    {
     "data": {
      "application/vnd.jupyter.widget-view+json": {
       "model_id": "2ee8a601b85846e697f8631aa3f38083",
       "version_major": 2,
       "version_minor": 0
      },
      "text/plain": [
       "Downloading data:   0%|          | 0.00/52.2M [00:00<?, ?B/s]"
      ]
     },
     "metadata": {},
     "output_type": "display_data"
    },
    {
     "data": {
      "application/vnd.jupyter.widget-view+json": {
       "model_id": "8c4a953187b94dfc86348f90b9fa8157",
       "version_major": 2,
       "version_minor": 0
      },
      "text/plain": [
       "Downloading data:   0%|          | 0.00/1.21M [00:00<?, ?B/s]"
      ]
     },
     "metadata": {},
     "output_type": "display_data"
    },
    {
     "data": {
      "application/vnd.jupyter.widget-view+json": {
       "model_id": "59e7e1271b324d4e8448424503e93911",
       "version_major": 2,
       "version_minor": 0
      },
      "text/plain": [
       "Downloading data:   0%|          | 0.00/1.25M [00:00<?, ?B/s]"
      ]
     },
     "metadata": {},
     "output_type": "display_data"
    },
    {
     "data": {
      "application/vnd.jupyter.widget-view+json": {
       "model_id": "a03c4a764aeb41118aacd957a3811f93",
       "version_major": 2,
       "version_minor": 0
      },
      "text/plain": [
       "Downloading data:   0%|          | 0.00/1.22M [00:00<?, ?B/s]"
      ]
     },
     "metadata": {},
     "output_type": "display_data"
    },
    {
     "data": {
      "application/vnd.jupyter.widget-view+json": {
       "model_id": "5bdb5f728e974a82ba2146a6ebe3ab6f",
       "version_major": 2,
       "version_minor": 0
      },
      "text/plain": [
       "Downloading data:   0%|          | 0.00/1.26M [00:00<?, ?B/s]"
      ]
     },
     "metadata": {},
     "output_type": "display_data"
    },
    {
     "data": {
      "application/vnd.jupyter.widget-view+json": {
       "model_id": "3e2beabb31c049d4918b917dfb2ba195",
       "version_major": 2,
       "version_minor": 0
      },
      "text/plain": [
       "Generating train split:   0%|          | 0/392702 [00:00<?, ? examples/s]"
      ]
     },
     "metadata": {},
     "output_type": "display_data"
    },
    {
     "data": {
      "application/vnd.jupyter.widget-view+json": {
       "model_id": "249c34348d774d698ebe404d4824ac45",
       "version_major": 2,
       "version_minor": 0
      },
      "text/plain": [
       "Generating validation_matched split:   0%|          | 0/9815 [00:00<?, ? examples/s]"
      ]
     },
     "metadata": {},
     "output_type": "display_data"
    },
    {
     "data": {
      "application/vnd.jupyter.widget-view+json": {
       "model_id": "a70da83632344d94b64c160750bc92f1",
       "version_major": 2,
       "version_minor": 0
      },
      "text/plain": [
       "Generating validation_mismatched split:   0%|          | 0/9832 [00:00<?, ? examples/s]"
      ]
     },
     "metadata": {},
     "output_type": "display_data"
    },
    {
     "data": {
      "application/vnd.jupyter.widget-view+json": {
       "model_id": "061a0a0272c645b3a0395c8fb6a1ee71",
       "version_major": 2,
       "version_minor": 0
      },
      "text/plain": [
       "Generating test_matched split:   0%|          | 0/9796 [00:00<?, ? examples/s]"
      ]
     },
     "metadata": {},
     "output_type": "display_data"
    },
    {
     "data": {
      "application/vnd.jupyter.widget-view+json": {
       "model_id": "52e8184a99d446e78a2cbe516f28cd5a",
       "version_major": 2,
       "version_minor": 0
      },
      "text/plain": [
       "Generating test_mismatched split:   0%|          | 0/9847 [00:00<?, ? examples/s]"
      ]
     },
     "metadata": {},
     "output_type": "display_data"
    }
   ],
   "source": [
    "from datasets import load_dataset\n",
    "\n",
    "# GLUE에서 MNLI 데이터셋을 로드합니다.\n",
    "# 0 = 수반, 1 = 중립, 2 = 모순\n",
    "train_dataset = load_dataset(\"glue\", \"mnli\", split=\"train\").select(range(50_000))\n",
    "train_dataset = train_dataset.remove_columns(\"idx\")"
   ]
  },
  {
   "cell_type": "code",
   "execution_count": null,
   "metadata": {
    "colab": {
     "base_uri": "https://localhost:8080/"
    },
    "id": "t-BHO4-qwMDO",
    "outputId": "9471b25a-2cd1-4de8-c506-8cc491ab0956"
   },
   "outputs": [
    {
     "data": {
      "text/plain": [
       "{'premise': 'One of our number will carry out your instructions minutely.',\n",
       " 'hypothesis': 'A member of my team will execute your orders with immense precision.',\n",
       " 'label': 0}"
      ]
     },
     "execution_count": 3,
     "metadata": {},
     "output_type": "execute_result"
    }
   ],
   "source": [
    "train_dataset[2]"
   ]
  },
  {
   "cell_type": "markdown",
   "metadata": {
    "id": "5wO23cXLXeFU"
   },
   "source": [
    "### 모델"
   ]
  },
  {
   "cell_type": "code",
   "execution_count": null,
   "metadata": {
    "colab": {
     "base_uri": "https://localhost:8080/",
     "height": 215,
     "referenced_widgets": [
      "155e00ed847442e9b5a9132a48c2be49",
      "4c768afef5f24dcd8f5a7559d57d8982",
      "70a70da907f6409f9ab8e97919ccc831",
      "c204d923262e43d89c4d76f6cdb91ffa",
      "53dcb1b4ebeb471e994744be670b8eaa",
      "55dbcb986b0d482ca502ab2621dededc",
      "80c9883feb4747f39fef3514d9e503c2",
      "e3f693ce599a479b95c35932cf99e321",
      "4ffcf7bc2fdf4aa8aba1bfc749d78b18",
      "03e0bec67f03488f925b546b9099ab42",
      "86cfbd1a3dae464a9b8890b166d1de94",
      "8bcf53c645194e9aa64ac9506881116a",
      "0dd53de844ad40008af0fc7786d1a495",
      "ee3b7696d68c4f918faa8b139300d34c",
      "f70bfb95bd084dcf8960f7c6aacbb748",
      "6796c0697cae41caa3798744846acd5f",
      "9878050fd09f41e48cbf299336e4513f",
      "c6ce5dd447a044a1b383dced0ca20bd3",
      "8cbd32c359a34095960176ba6c0a3ac6",
      "59f6f5aabd454829ae2bf16770bceee1",
      "c1de609a0a2a40afa7effb69fc260509",
      "29ef8d42476642559f009e190674e49e",
      "00d44d8b09be4b6fb69d42c3e52579e9",
      "946fa2d427384d53993bff726a48bca4",
      "a0cc8b794fbd4d0d8cd3489aad7ec9b7",
      "04e189c209d149c2bb08ee8e1406b06a",
      "d21f70bb88684dd2a50405cbe71a8cb5",
      "2561641c000c4aaea95312ff7160e489",
      "81d3841f045f4098b0fc4e16b99558ec",
      "1b10bb05c86842c7893c6eac2c1e0c05",
      "3777479a759e43f181a4079d3f236b03",
      "59191f40a2ed4c5aa09b3aac9a9061ad",
      "6004cd07ac094b19a9f762eace36eebe",
      "be96f79902f54944bbd3a33874aea359",
      "eccb171668744656af75ebe8396286a5",
      "c7dd787995b349f18afe9f3a3464c0fc",
      "bba4ba7fbb904878b8d8cac86eb073d5",
      "c731fad926d74d929f7b6f54bb7d5d68",
      "d323a6b735024e67aeffcbeb418d2cc1",
      "c1ae0cef18824ac3aa4704054bfc0bfd",
      "48bdc9764add4747bdf441c5095f4c6b",
      "3fb7345b439f4736a2e7b03266c5b798",
      "ff4362c79e4e48bab4bb55f2b1dd12cc",
      "424b9639b4234677b8a110f8079399d5",
      "3040219026604a0a975ffcf919233ab6",
      "84c056c23732455bb269c2bea14e33cc",
      "d6071c1c9d284f2cb3ef9bc4caf73f8e",
      "b2e78813a7b44e48bb928fe62e05d201",
      "edb34caed9384d35a22498794c6cd7eb",
      "f8532b25606543d5982a6dd3a45e86a7",
      "e21924197a32485a92c4fb6cee831233",
      "a2cd5f5dd58449a680aefd69cfd9e5e6",
      "dddeb9e600884f9490100ab7707093a5",
      "fb3483c9316e4878ab562d13c3078df3",
      "64767b7828fe43068bf82deccf7ba1a9"
     ]
    },
    "id": "C4qLaPR6nrqC",
    "outputId": "e42d99b5-34bb-4a0a-bdc9-2aff9d168199"
   },
   "outputs": [
    {
     "name": "stderr",
     "output_type": "stream",
     "text": [
      "WARNING:sentence_transformers.SentenceTransformer:No sentence-transformers model found with name bert-base-uncased. Creating a new one with mean pooling.\n"
     ]
    },
    {
     "data": {
      "application/vnd.jupyter.widget-view+json": {
       "model_id": "155e00ed847442e9b5a9132a48c2be49",
       "version_major": 2,
       "version_minor": 0
      },
      "text/plain": [
       "config.json:   0%|          | 0.00/570 [00:00<?, ?B/s]"
      ]
     },
     "metadata": {},
     "output_type": "display_data"
    },
    {
     "data": {
      "application/vnd.jupyter.widget-view+json": {
       "model_id": "8bcf53c645194e9aa64ac9506881116a",
       "version_major": 2,
       "version_minor": 0
      },
      "text/plain": [
       "model.safetensors:   0%|          | 0.00/440M [00:00<?, ?B/s]"
      ]
     },
     "metadata": {},
     "output_type": "display_data"
    },
    {
     "data": {
      "application/vnd.jupyter.widget-view+json": {
       "model_id": "00d44d8b09be4b6fb69d42c3e52579e9",
       "version_major": 2,
       "version_minor": 0
      },
      "text/plain": [
       "tokenizer_config.json:   0%|          | 0.00/48.0 [00:00<?, ?B/s]"
      ]
     },
     "metadata": {},
     "output_type": "display_data"
    },
    {
     "data": {
      "application/vnd.jupyter.widget-view+json": {
       "model_id": "be96f79902f54944bbd3a33874aea359",
       "version_major": 2,
       "version_minor": 0
      },
      "text/plain": [
       "vocab.txt:   0%|          | 0.00/232k [00:00<?, ?B/s]"
      ]
     },
     "metadata": {},
     "output_type": "display_data"
    },
    {
     "data": {
      "application/vnd.jupyter.widget-view+json": {
       "model_id": "3040219026604a0a975ffcf919233ab6",
       "version_major": 2,
       "version_minor": 0
      },
      "text/plain": [
       "tokenizer.json:   0%|          | 0.00/466k [00:00<?, ?B/s]"
      ]
     },
     "metadata": {},
     "output_type": "display_data"
    }
   ],
   "source": [
    "from sentence_transformers import SentenceTransformer\n",
    "\n",
    "# BERT 베이스 모델을 사용합니다.\n",
    "embedding_model = SentenceTransformer('bert-base-uncased')"
   ]
  },
  {
   "cell_type": "markdown",
   "metadata": {
    "id": "pAiL21AuYKVI"
   },
   "source": [
    "### 손실 함수"
   ]
  },
  {
   "cell_type": "code",
   "execution_count": null,
   "metadata": {
    "id": "OgmtKckBXiK9"
   },
   "outputs": [],
   "source": [
    "from sentence_transformers import losses\n",
    "\n",
    "# 손실 함수를 정의합니다. 소프트맥스 손실을 위해 명시적으로 레이블의 개수를 지정해야 합니다.\n",
    "train_loss = losses.SoftmaxLoss(\n",
    "    model=embedding_model,\n",
    "    sentence_embedding_dimension=embedding_model.get_sentence_embedding_dimension(),\n",
    "    num_labels=3\n",
    ")"
   ]
  },
  {
   "cell_type": "markdown",
   "metadata": {
    "id": "tH0efspwlOX2"
   },
   "source": [
    "### 평가"
   ]
  },
  {
   "cell_type": "code",
   "execution_count": null,
   "metadata": {
    "colab": {
     "base_uri": "https://localhost:8080/",
     "height": 209,
     "referenced_widgets": [
      "cf64a5de35e94fe092b0b576c130aba2",
      "6ec3173cd2524e899266ca778de9d585",
      "d4441b7a337f4d27bc600517ab2489b5",
      "e6bd0348bda9449c881b1dfb518c8836",
      "32e5df6f41804df78e167a62c5115fb2",
      "c8ef8e7d95e5428e8ef7a54c62c632a9",
      "d3948d7bdb81498faf0f4c41c9506f71",
      "46e7bd750dbd4507be33970d24f9029a",
      "31a6943aaf714fc48542b566b789b12a",
      "283edfc72c674791b7ec07551ff5b6a9",
      "af72a2ad92ee4e0496b76074e666be4b",
      "00409fd96dae44309608ded812e17e95",
      "40f8a9f69c98420a88d29e5c13e0e660",
      "986eeded99cd44febecde96246d78aa4",
      "75a8949e02a14aff995b59fccaaa7c18",
      "48effae4c7cf4dc2838106808798204d",
      "f74f51dc7b244711a1c01c1072fff63e",
      "e074ceedf2774265abd7c552eede593e",
      "f576b17c6ef549318f279a106c1072c1",
      "cddf422f30fb4b0a862cec0b08012f96",
      "4ee42aa93ca94e51920870d7985543bb",
      "2f3f9a179864400883d64eab65087fb7",
      "15de45ff77e142eb865de48f7f91378e",
      "f97d960889694bb89818016c1a175402",
      "4c5f5e96108044cab15067b8e6126084",
      "284e96ef3773490d896c428a315bb063",
      "2cf7fc02401f403ca07f8f867ea7f703",
      "fe3e4aba064b44cfbb249b01d8e2b109",
      "126e4cbc955d4d758e89d5b1b99697b4",
      "d9a327af19db4b87bf4900d16983d629",
      "18e396c80e7b4ae88c7b8353d2179367",
      "31fb5b6c3c434d41b07aafb3c8635405",
      "c8590a90ad3e4730aedc2fd3fb4fcc5d",
      "7903f66ecfd54cd5a2564ca7662b54fa",
      "981d7bf108c84da2aed532cb4acf29ee",
      "62b2ab63255a4191b95aed05d9982fcf",
      "8e67e7f153d04bf9a71e5863d2ca5bf2",
      "a80bba339ec8426bae70af7cff179ecb",
      "c0fbf571ad594bee841ea3f221055025",
      "b8197e3ce42a40378076504c30b42423",
      "68ac902efd5246f18652be1978f81f19",
      "ab3eaeeb56d144cc8fc0c95643528e9a",
      "c8f77a9beb464bf598171c97b181166a",
      "f76ab5027bab46c2817bda93f04b78fc",
      "82ab2211125043768a1b9f7b3056b504",
      "0aa661c11d97401095a2d2a1f86232f8",
      "4fe7cd6780d04465aa77c44d70d47e50",
      "134b28d3a4ad4a8e8416523a6544bbb3",
      "13e1687800e94d21930f5271fea80d5a",
      "d95eef4b89254985a1863da692d7659a",
      "a1ae2b251a984bfface07c30b8153a4f",
      "58e0335cbae04c8a8a1a53dc7dd69ce8",
      "3ec6b11223154cd09186605f96eb5d7f",
      "b247576eda0b441e9a1b35ee72e0055f",
      "3e110a9d3e224e85b20883788982b68f",
      "08cf58fdeecf41f48e44122cbe3dfbfb",
      "0e2eff90a93b4e3d8d78eba0bafa4ea1",
      "c7ac123e6b584d9a967bff52b31a802b",
      "40f628c455974468806ef87aa6d24559",
      "8613c7ca1db8488ba19fd0804b8f31da",
      "23ce1ecb8b49455b8a38964eab65aa96",
      "59b8e751e7d440d681b6c9195b507be8",
      "4bfd3ee3b42f4b828bcbbee4254a533d",
      "b2eab079b4e449528c6464cc46da3c72",
      "3e2e1144abb747df995451e20107e8bb",
      "96fbe057cf584fc7ba65d0c71eab49e4"
     ]
    },
    "id": "f8ZsoY0AretV",
    "outputId": "90329f38-8953-4412-b5aa-baf51a96e549"
   },
   "outputs": [
    {
     "data": {
      "application/vnd.jupyter.widget-view+json": {
       "model_id": "cf64a5de35e94fe092b0b576c130aba2",
       "version_major": 2,
       "version_minor": 0
      },
      "text/plain": [
       "Downloading data:   0%|          | 0.00/502k [00:00<?, ?B/s]"
      ]
     },
     "metadata": {},
     "output_type": "display_data"
    },
    {
     "data": {
      "application/vnd.jupyter.widget-view+json": {
       "model_id": "00409fd96dae44309608ded812e17e95",
       "version_major": 2,
       "version_minor": 0
      },
      "text/plain": [
       "Downloading data:   0%|          | 0.00/151k [00:00<?, ?B/s]"
      ]
     },
     "metadata": {},
     "output_type": "display_data"
    },
    {
     "data": {
      "application/vnd.jupyter.widget-view+json": {
       "model_id": "15de45ff77e142eb865de48f7f91378e",
       "version_major": 2,
       "version_minor": 0
      },
      "text/plain": [
       "Downloading data:   0%|          | 0.00/114k [00:00<?, ?B/s]"
      ]
     },
     "metadata": {},
     "output_type": "display_data"
    },
    {
     "data": {
      "application/vnd.jupyter.widget-view+json": {
       "model_id": "7903f66ecfd54cd5a2564ca7662b54fa",
       "version_major": 2,
       "version_minor": 0
      },
      "text/plain": [
       "Generating train split:   0%|          | 0/5749 [00:00<?, ? examples/s]"
      ]
     },
     "metadata": {},
     "output_type": "display_data"
    },
    {
     "data": {
      "application/vnd.jupyter.widget-view+json": {
       "model_id": "82ab2211125043768a1b9f7b3056b504",
       "version_major": 2,
       "version_minor": 0
      },
      "text/plain": [
       "Generating validation split:   0%|          | 0/1500 [00:00<?, ? examples/s]"
      ]
     },
     "metadata": {},
     "output_type": "display_data"
    },
    {
     "data": {
      "application/vnd.jupyter.widget-view+json": {
       "model_id": "08cf58fdeecf41f48e44122cbe3dfbfb",
       "version_major": 2,
       "version_minor": 0
      },
      "text/plain": [
       "Generating test split:   0%|          | 0/1379 [00:00<?, ? examples/s]"
      ]
     },
     "metadata": {},
     "output_type": "display_data"
    }
   ],
   "source": [
    "from sentence_transformers.evaluation import EmbeddingSimilarityEvaluator\n",
    "\n",
    "# STSB를 위해 임베딩 유사도 평가자를 만듭니다.\n",
    "val_sts = load_dataset('glue', 'stsb', split='validation')\n",
    "evaluator = EmbeddingSimilarityEvaluator(\n",
    "    sentences1=val_sts[\"sentence1\"],\n",
    "    sentences2=val_sts[\"sentence2\"],\n",
    "    scores=[score/5 for score in val_sts[\"label\"]],\n",
    "    main_similarity=\"cosine\",\n",
    "    similarity_fn_names=[\"cosine\", \"euclidean\", \"manhattan\", \"dot\"]\n",
    ")"
   ]
  },
  {
   "cell_type": "markdown",
   "metadata": {
    "id": "umikSmoYIP07"
   },
   "source": [
    "### 훈련"
   ]
  },
  {
   "cell_type": "code",
   "execution_count": null,
   "metadata": {
    "id": "8uAAhNs0ocoV"
   },
   "outputs": [],
   "source": [
    "from sentence_transformers.training_args import SentenceTransformerTrainingArguments\n",
    "\n",
    "# 훈련 매개변수를 정의합니다.\n",
    "args = SentenceTransformerTrainingArguments(\n",
    "    output_dir=\"base_embedding_model\",\n",
    "    num_train_epochs=1,\n",
    "    per_device_train_batch_size=32,\n",
    "    per_device_eval_batch_size=32,\n",
    "    warmup_steps=100,\n",
    "    fp16=True,\n",
    "    eval_steps=100,\n",
    "    logging_steps=100,\n",
    "    report_to=[]\n",
    ")"
   ]
  },
  {
   "cell_type": "code",
   "execution_count": null,
   "metadata": {
    "colab": {
     "base_uri": "https://localhost:8080/",
     "height": 657,
     "referenced_widgets": [
      "f53f3a0b4ba946d49fb26bd1ad8aa71d",
      "922dc9ce5fea4d80a3fc6348be2e135f",
      "3d8aac8c53c54fbb897641a971678abf",
      "c86a10408c0e4cd99419861d8582d3b0",
      "6aa1a2a36f594132b590024b7547957b",
      "ba0ffb3f2dd14c2d8091915db1535a87",
      "6890c4640f2d437fb4b6604304e33cc7",
      "fda1341ed2a4456ead60bca0c9c8b241",
      "7953a34208214ef49ecd04135c3ca755",
      "23b74a646299472aa499441beb2830ac",
      "e980c26f2e924f42b59123178200cba2"
     ]
    },
    "id": "JKA_L39FpAoM",
    "outputId": "bc0455f7-df32-4d91-bf53-37e750452360"
   },
   "outputs": [
    {
     "data": {
      "application/vnd.jupyter.widget-view+json": {
       "model_id": "f53f3a0b4ba946d49fb26bd1ad8aa71d",
       "version_major": 2,
       "version_minor": 0
      },
      "text/plain": [
       "Computing widget examples:   0%|          | 0/1 [00:00<?, ?example/s]"
      ]
     },
     "metadata": {},
     "output_type": "display_data"
    },
    {
     "name": "stderr",
     "output_type": "stream",
     "text": [
      "WARNING:sentence_transformers.data_collator:Column 'hypothesis' is at index 1, whereas a column with this name is usually expected at index 0. Note that the column order can be important for some losses, e.g. MultipleNegativesRankingLoss will always consider the first column as the anchor and the second as the positive, regardless of the dataset column names. Consider renaming the columns to match the expected order, e.g.:\n",
      "dataset = dataset.select_columns(['hypothesis', 'entailment', 'contradiction'])\n"
     ]
    },
    {
     "data": {
      "text/html": [
       "\n",
       "    <div>\n",
       "      \n",
       "      <progress value='1563' max='1563' style='width:300px; height:20px; vertical-align: middle;'></progress>\n",
       "      [1563/1563 05:32, Epoch 1/1]\n",
       "    </div>\n",
       "    <table border=\"1\" class=\"dataframe\">\n",
       "  <thead>\n",
       " <tr style=\"text-align: left;\">\n",
       "      <th>Step</th>\n",
       "      <th>Training Loss</th>\n",
       "    </tr>\n",
       "  </thead>\n",
       "  <tbody>\n",
       "    <tr>\n",
       "      <td>100</td>\n",
       "      <td>1.083100</td>\n",
       "    </tr>\n",
       "    <tr>\n",
       "      <td>200</td>\n",
       "      <td>0.952200</td>\n",
       "    </tr>\n",
       "    <tr>\n",
       "      <td>300</td>\n",
       "      <td>0.894900</td>\n",
       "    </tr>\n",
       "    <tr>\n",
       "      <td>400</td>\n",
       "      <td>0.845800</td>\n",
       "    </tr>\n",
       "    <tr>\n",
       "      <td>500</td>\n",
       "      <td>0.815000</td>\n",
       "    </tr>\n",
       "    <tr>\n",
       "      <td>600</td>\n",
       "      <td>0.832400</td>\n",
       "    </tr>\n",
       "    <tr>\n",
       "      <td>700</td>\n",
       "      <td>0.809400</td>\n",
       "    </tr>\n",
       "    <tr>\n",
       "      <td>800</td>\n",
       "      <td>0.795500</td>\n",
       "    </tr>\n",
       "    <tr>\n",
       "      <td>900</td>\n",
       "      <td>0.772700</td>\n",
       "    </tr>\n",
       "    <tr>\n",
       "      <td>1000</td>\n",
       "      <td>0.765900</td>\n",
       "    </tr>\n",
       "    <tr>\n",
       "      <td>1100</td>\n",
       "      <td>0.757900</td>\n",
       "    </tr>\n",
       "    <tr>\n",
       "      <td>1200</td>\n",
       "      <td>0.735000</td>\n",
       "    </tr>\n",
       "    <tr>\n",
       "      <td>1300</td>\n",
       "      <td>0.745800</td>\n",
       "    </tr>\n",
       "    <tr>\n",
       "      <td>1400</td>\n",
       "      <td>0.719100</td>\n",
       "    </tr>\n",
       "    <tr>\n",
       "      <td>1500</td>\n",
       "      <td>0.751800</td>\n",
       "    </tr>\n",
       "  </tbody>\n",
       "</table><p>"
      ],
      "text/plain": [
       "<IPython.core.display.HTML object>"
      ]
     },
     "metadata": {},
     "output_type": "display_data"
    },
    {
     "data": {
      "text/plain": [
       "TrainOutput(global_step=1563, training_loss=0.8154379612195972, metrics={'train_runtime': 334.6179, 'train_samples_per_second': 149.424, 'train_steps_per_second': 4.671, 'total_flos': 0.0, 'train_loss': 0.8154379612195972, 'epoch': 1.0})"
      ]
     },
     "execution_count": 8,
     "metadata": {},
     "output_type": "execute_result"
    }
   ],
   "source": [
    "from sentence_transformers.trainer import SentenceTransformerTrainer\n",
    "\n",
    "# 임베딩 모델을 훈련합니다.\n",
    "trainer = SentenceTransformerTrainer(\n",
    "    model=embedding_model,\n",
    "    args=args,\n",
    "    train_dataset=train_dataset,\n",
    "    loss=train_loss,\n",
    "    evaluator=evaluator\n",
    ")\n",
    "trainer.train()"
   ]
  },
  {
   "cell_type": "code",
   "execution_count": null,
   "metadata": {
    "colab": {
     "base_uri": "https://localhost:8080/"
    },
    "id": "_NA16lEaseOq",
    "outputId": "5bd8f0cc-3fbb-4c2d-ba3c-b5685389d935"
   },
   "outputs": [
    {
     "data": {
      "text/plain": [
       "{'pearson_cosine': 0.5145110035729868,\n",
       " 'spearman_cosine': 0.5820019817169536,\n",
       " 'pearson_euclidean': 0.5478269569036163,\n",
       " 'spearman_euclidean': 0.5769576970970489,\n",
       " 'pearson_manhattan': 0.5592396718260839,\n",
       " 'spearman_manhattan': 0.5824084143817787,\n",
       " 'pearson_dot': 0.47808957940087127,\n",
       " 'spearman_dot': 0.5126266313491807,\n",
       " 'pearson_max': 0.5592396718260839,\n",
       " 'spearman_max': 0.5824084143817787}"
      ]
     },
     "execution_count": 9,
     "metadata": {},
     "output_type": "execute_result"
    }
   ],
   "source": [
    "# 훈련된 모델을 평가합니다.\n",
    "evaluator(embedding_model)"
   ]
  },
  {
   "cell_type": "markdown",
   "metadata": {
    "id": "M9xjkvCWwrp_"
   },
   "source": [
    "### MTEB"
   ]
  },
  {
   "cell_type": "code",
   "execution_count": null,
   "metadata": {
    "colab": {
     "base_uri": "https://localhost:8080/",
     "height": 171
    },
    "id": "7Hueu4upxVYb",
    "outputId": "faddeae7-4f64-4e36-acd8-96e97fab94dd"
   },
   "outputs": [
    {
     "name": "stderr",
     "output_type": "stream",
     "text": [
      "/usr/local/lib/python3.11/dist-packages/mteb/evaluation/MTEB.py:121: UserWarning: Passing task names as strings is deprecated and will be removed in 2.0 release. Please use `tasks = mteb.get_tasks(tasks=[...])` method to get tasks instead.\n",
      "  warnings.warn(\n"
     ]
    },
    {
     "data": {
      "text/html": [
       "<pre style=\"white-space:pre;overflow-x:auto;line-height:normal;font-family:Menlo,'DejaVu Sans Mono',consolas,'Courier New',monospace\"><span style=\"color: #262626; text-decoration-color: #262626\">───────────────────────────────────────────────── </span><span style=\"font-weight: bold\">Selected tasks </span><span style=\"color: #262626; text-decoration-color: #262626\"> ─────────────────────────────────────────────────</span>\n",
       "</pre>\n"
      ],
      "text/plain": [
       "\u001b[38;5;235m───────────────────────────────────────────────── \u001b[0m\u001b[1mSelected tasks \u001b[0m\u001b[38;5;235m ─────────────────────────────────────────────────\u001b[0m\n"
      ]
     },
     "metadata": {},
     "output_type": "display_data"
    },
    {
     "data": {
      "text/html": [
       "<pre style=\"white-space:pre;overflow-x:auto;line-height:normal;font-family:Menlo,'DejaVu Sans Mono',consolas,'Courier New',monospace\"><span style=\"font-weight: bold\">Classification</span>\n",
       "</pre>\n"
      ],
      "text/plain": [
       "\u001b[1mClassification\u001b[0m\n"
      ]
     },
     "metadata": {},
     "output_type": "display_data"
    },
    {
     "data": {
      "text/html": [
       "<pre style=\"white-space:pre;overflow-x:auto;line-height:normal;font-family:Menlo,'DejaVu Sans Mono',consolas,'Courier New',monospace\">    - Banking77Classification, <span style=\"color: #626262; text-decoration-color: #626262; font-style: italic\">s2s</span>\n",
       "</pre>\n"
      ],
      "text/plain": [
       "    - Banking77Classification, \u001b[3;38;5;241ms2s\u001b[0m\n"
      ]
     },
     "metadata": {},
     "output_type": "display_data"
    },
    {
     "data": {
      "text/html": [
       "<pre style=\"white-space:pre;overflow-x:auto;line-height:normal;font-family:Menlo,'DejaVu Sans Mono',consolas,'Courier New',monospace\">\n",
       "\n",
       "</pre>\n"
      ],
      "text/plain": [
       "\n",
       "\n"
      ]
     },
     "metadata": {},
     "output_type": "display_data"
    },
    {
     "data": {
      "text/plain": [
       "[TaskResult(task_name=Banking77Classification, scores=...)]"
      ]
     },
     "execution_count": 10,
     "metadata": {},
     "output_type": "execute_result"
    }
   ],
   "source": [
    "from mteb import MTEB\n",
    "\n",
    "# 평가 작업을 선택합니다.\n",
    "evaluation = MTEB(tasks=[\"Banking77Classification\"])\n",
    "\n",
    "# 결과를 계산합니다.\n",
    "results = evaluation.run(embedding_model)\n",
    "results"
   ]
  },
  {
   "cell_type": "markdown",
   "metadata": {
    "id": "56V2ma89uJwN"
   },
   "source": [
    "⚠️ **VRAM 비우기** - 다음 코드를 사용해 VRAM(GPU RAM)을 비우세요. 만약 비워지지 않으면 노트북을 재시작해야 합니다. 코랩을 사용하는 경우 오른쪽의 리소스 탭에서 VRAM이 줄어 들었는지 확인할 수 있습니다. 또는 `!nvidia-smi` 명령을 실행하여 현재 사용량을 확인할 수 있습니다."
   ]
  },
  {
   "cell_type": "code",
   "execution_count": null,
   "metadata": {
    "id": "6d0GcY8cnNs4"
   },
   "outputs": [],
   "source": [
    "import gc\n",
    "import torch\n",
    "\n",
    "gc.collect()\n",
    "torch.cuda.empty_cache()"
   ]
  },
  {
   "cell_type": "markdown",
   "metadata": {
    "id": "jYnRRSDN06eB"
   },
   "source": [
    "### 손실 함수"
   ]
  },
  {
   "cell_type": "markdown",
   "metadata": {
    "id": "Tq8Yb6IB2LFI"
   },
   "source": [
    "#### 코사인 유사도 손실"
   ]
  },
  {
   "cell_type": "code",
   "execution_count": null,
   "metadata": {
    "id": "qEmnjQQPuszQ"
   },
   "outputs": [],
   "source": [
    "from datasets import Dataset, load_dataset\n",
    "\n",
    "# GLUE로부터 MNLI 데이터셋을 로드합니다.\n",
    "# 0 = 수반, 1 = 중립, 2 = 모순\n",
    "train_dataset = load_dataset(\"glue\", \"mnli\", split=\"train\").select(range(50_000))\n",
    "train_dataset = train_dataset.remove_columns(\"idx\")\n",
    "\n",
    "# (중립/모순)=0, (수반)=1\n",
    "mapping = {2: 0, 1: 0, 0:1}\n",
    "train_dataset = Dataset.from_dict({\n",
    "    \"sentence1\": train_dataset[\"premise\"],\n",
    "    \"sentence2\": train_dataset[\"hypothesis\"],\n",
    "    \"label\": [float(mapping[label]) for label in train_dataset[\"label\"]]\n",
    "})"
   ]
  },
  {
   "cell_type": "code",
   "execution_count": null,
   "metadata": {
    "id": "np5bMwgO5y8g"
   },
   "outputs": [],
   "source": [
    "from sentence_transformers.evaluation import EmbeddingSimilarityEvaluator\n",
    "\n",
    "# STSB를 위한 임베딩 유사도 평가자를 만듭니다.\n",
    "val_sts = load_dataset('glue', 'stsb', split='validation')\n",
    "evaluator = EmbeddingSimilarityEvaluator(\n",
    "    sentences1=val_sts[\"sentence1\"],\n",
    "    sentences2=val_sts[\"sentence2\"],\n",
    "    scores=[score/5 for score in val_sts[\"label\"]],\n",
    "    main_similarity=\"cosine\",\n",
    "    similarity_fn_names=[\"cosine\", \"euclidean\", \"manhattan\", \"dot\"]\n",
    ")"
   ]
  },
  {
   "cell_type": "code",
   "execution_count": null,
   "metadata": {
    "colab": {
     "base_uri": "https://localhost:8080/",
     "height": 639,
     "referenced_widgets": [
      "c686dea90c284652be263efadbc52de7",
      "cfa4a84ced4948a39ce53ce667022998",
      "9358455c0fbf4072851f951477cfc0d9",
      "99552a50c1c64ffb87f9a4235c6e241b",
      "51a8e24eb27f4afcaf1cc009276d3a90",
      "79b12454bea8477a8daa84e88b237869",
      "1531b4f2e39945318b9cf703b2e07691",
      "dd39dc90886c4f43b1993d42d17aba30",
      "6507cddf6bfe4838a8d276c4938e336e",
      "e1ca6ab3b6fa452a9f738323140cfcf7",
      "8bec929fbb3445f5b5d265c68724f07d"
     ]
    },
    "id": "Ikky866vdseY",
    "outputId": "15a5ce32-a0bf-4da1-fe17-307671ccccc4"
   },
   "outputs": [
    {
     "name": "stderr",
     "output_type": "stream",
     "text": [
      "WARNING:sentence_transformers.SentenceTransformer:No sentence-transformers model found with name bert-base-uncased. Creating a new one with mean pooling.\n"
     ]
    },
    {
     "data": {
      "application/vnd.jupyter.widget-view+json": {
       "model_id": "c686dea90c284652be263efadbc52de7",
       "version_major": 2,
       "version_minor": 0
      },
      "text/plain": [
       "Computing widget examples:   0%|          | 0/1 [00:00<?, ?example/s]"
      ]
     },
     "metadata": {},
     "output_type": "display_data"
    },
    {
     "data": {
      "text/html": [
       "\n",
       "    <div>\n",
       "      \n",
       "      <progress value='1563' max='1563' style='width:300px; height:20px; vertical-align: middle;'></progress>\n",
       "      [1563/1563 05:39, Epoch 1/1]\n",
       "    </div>\n",
       "    <table border=\"1\" class=\"dataframe\">\n",
       "  <thead>\n",
       " <tr style=\"text-align: left;\">\n",
       "      <th>Step</th>\n",
       "      <th>Training Loss</th>\n",
       "    </tr>\n",
       "  </thead>\n",
       "  <tbody>\n",
       "    <tr>\n",
       "      <td>100</td>\n",
       "      <td>0.232500</td>\n",
       "    </tr>\n",
       "    <tr>\n",
       "      <td>200</td>\n",
       "      <td>0.170600</td>\n",
       "    </tr>\n",
       "    <tr>\n",
       "      <td>300</td>\n",
       "      <td>0.172200</td>\n",
       "    </tr>\n",
       "    <tr>\n",
       "      <td>400</td>\n",
       "      <td>0.160000</td>\n",
       "    </tr>\n",
       "    <tr>\n",
       "      <td>500</td>\n",
       "      <td>0.152200</td>\n",
       "    </tr>\n",
       "    <tr>\n",
       "      <td>600</td>\n",
       "      <td>0.158200</td>\n",
       "    </tr>\n",
       "    <tr>\n",
       "      <td>700</td>\n",
       "      <td>0.150900</td>\n",
       "    </tr>\n",
       "    <tr>\n",
       "      <td>800</td>\n",
       "      <td>0.156000</td>\n",
       "    </tr>\n",
       "    <tr>\n",
       "      <td>900</td>\n",
       "      <td>0.147700</td>\n",
       "    </tr>\n",
       "    <tr>\n",
       "      <td>1000</td>\n",
       "      <td>0.146100</td>\n",
       "    </tr>\n",
       "    <tr>\n",
       "      <td>1100</td>\n",
       "      <td>0.148700</td>\n",
       "    </tr>\n",
       "    <tr>\n",
       "      <td>1200</td>\n",
       "      <td>0.146600</td>\n",
       "    </tr>\n",
       "    <tr>\n",
       "      <td>1300</td>\n",
       "      <td>0.145800</td>\n",
       "    </tr>\n",
       "    <tr>\n",
       "      <td>1400</td>\n",
       "      <td>0.140200</td>\n",
       "    </tr>\n",
       "    <tr>\n",
       "      <td>1500</td>\n",
       "      <td>0.140200</td>\n",
       "    </tr>\n",
       "  </tbody>\n",
       "</table><p>"
      ],
      "text/plain": [
       "<IPython.core.display.HTML object>"
      ]
     },
     "metadata": {},
     "output_type": "display_data"
    },
    {
     "data": {
      "text/plain": [
       "TrainOutput(global_step=1563, training_loss=0.15731354211281295, metrics={'train_runtime': 340.1148, 'train_samples_per_second': 147.009, 'train_steps_per_second': 4.596, 'total_flos': 0.0, 'train_loss': 0.15731354211281295, 'epoch': 1.0})"
      ]
     },
     "execution_count": 14,
     "metadata": {},
     "output_type": "execute_result"
    }
   ],
   "source": [
    "from sentence_transformers import losses, SentenceTransformer\n",
    "from sentence_transformers.trainer import SentenceTransformerTrainer\n",
    "from sentence_transformers.training_args import SentenceTransformerTrainingArguments\n",
    "\n",
    "# 모델\n",
    "embedding_model = SentenceTransformer('bert-base-uncased')\n",
    "\n",
    "# 손실 함수\n",
    "train_loss = losses.CosineSimilarityLoss(model=embedding_model)\n",
    "\n",
    "# 훈련 매개변수\n",
    "args = SentenceTransformerTrainingArguments(\n",
    "    output_dir=\"cosineloss_embedding_model\",\n",
    "    num_train_epochs=1,\n",
    "    per_device_train_batch_size=32,\n",
    "    per_device_eval_batch_size=32,\n",
    "    warmup_steps=100,\n",
    "    fp16=True,\n",
    "    eval_steps=100,\n",
    "    logging_steps=100,\n",
    "    report_to=[]\n",
    ")\n",
    "\n",
    "# 모델 훈련\n",
    "trainer = SentenceTransformerTrainer(\n",
    "    model=embedding_model,\n",
    "    args=args,\n",
    "    train_dataset=train_dataset,\n",
    "    loss=train_loss,\n",
    "    evaluator=evaluator\n",
    ")\n",
    "trainer.train()"
   ]
  },
  {
   "cell_type": "code",
   "execution_count": null,
   "metadata": {
    "colab": {
     "base_uri": "https://localhost:8080/"
    },
    "id": "E69gBMG46WVF",
    "outputId": "5d3857a4-155c-4191-971d-8114d08b3f7a"
   },
   "outputs": [
    {
     "data": {
      "text/plain": [
       "{'pearson_cosine': 0.7275967886448113,\n",
       " 'spearman_cosine': 0.7302487370485328,\n",
       " 'pearson_euclidean': 0.7374555372418545,\n",
       " 'spearman_euclidean': 0.7353715715447097,\n",
       " 'pearson_manhattan': 0.7369253702119677,\n",
       " 'spearman_manhattan': 0.7348856726328731,\n",
       " 'pearson_dot': 0.6619838708371203,\n",
       " 'spearman_dot': 0.6628641033570658,\n",
       " 'pearson_max': 0.7374555372418545,\n",
       " 'spearman_max': 0.7353715715447097}"
      ]
     },
     "execution_count": 15,
     "metadata": {},
     "output_type": "execute_result"
    }
   ],
   "source": [
    "# 훈련된 모델을 평가합니다.\n",
    "evaluator(embedding_model)"
   ]
  },
  {
   "cell_type": "markdown",
   "metadata": {
    "id": "wnGpHqy46YS3"
   },
   "source": [
    "⚠️ **VRAM 비우기**"
   ]
  },
  {
   "cell_type": "code",
   "execution_count": null,
   "metadata": {
    "id": "Xvps7UpznPD4"
   },
   "outputs": [],
   "source": [
    "import gc\n",
    "import torch\n",
    "\n",
    "gc.collect()\n",
    "torch.cuda.empty_cache()"
   ]
  },
  {
   "cell_type": "markdown",
   "metadata": {
    "id": "3yh0toLx2Ni7"
   },
   "source": [
    "#### MNR 손실"
   ]
  },
  {
   "cell_type": "code",
   "execution_count": null,
   "metadata": {
    "colab": {
     "base_uri": "https://localhost:8080/"
    },
    "id": "xzToWFH0vZzz",
    "outputId": "2e647320-016d-4339-d5a7-908faa7948c4"
   },
   "outputs": [
    {
     "name": "stderr",
     "output_type": "stream",
     "text": [
      "16875it [00:01, 13136.32it/s]\n"
     ]
    },
    {
     "data": {
      "text/plain": [
       "16875"
      ]
     },
     "execution_count": 17,
     "metadata": {},
     "output_type": "execute_result"
    }
   ],
   "source": [
    "import random\n",
    "from tqdm import tqdm\n",
    "from datasets import Dataset, load_dataset\n",
    "\n",
    "# GLUE에서 MNLI 데이터셋을 로드합니다.\n",
    "mnli = load_dataset(\"glue\", \"mnli\", split=\"train\").select(range(50_000))\n",
    "mnli = mnli.remove_columns(\"idx\")\n",
    "mnli = mnli.filter(lambda x: True if x['label'] == 0 else False)\n",
    "\n",
    "# 데이터를 준비합니다.\n",
    "train_dataset = {\"anchor\": [], \"positive\": [], \"negative\": []}\n",
    "soft_negatives = mnli[\"hypothesis\"]\n",
    "random.shuffle(soft_negatives)\n",
    "for row, soft_negative in tqdm(zip(mnli, soft_negatives)):\n",
    "    train_dataset[\"anchor\"].append(row[\"premise\"])\n",
    "    train_dataset[\"positive\"].append(row[\"hypothesis\"])\n",
    "    train_dataset[\"negative\"].append(soft_negative)\n",
    "train_dataset = Dataset.from_dict(train_dataset)\n",
    "len(train_dataset)"
   ]
  },
  {
   "cell_type": "code",
   "execution_count": null,
   "metadata": {
    "id": "wP_s1yAB7D7I"
   },
   "outputs": [],
   "source": [
    "from sentence_transformers.evaluation import EmbeddingSimilarityEvaluator\n",
    "\n",
    "# STSB를 위해 임베딩 유사도 평가자를 만듭니다.\n",
    "val_sts = load_dataset('glue', 'stsb', split='validation')\n",
    "evaluator = EmbeddingSimilarityEvaluator(\n",
    "    sentences1=val_sts[\"sentence1\"],\n",
    "    sentences2=val_sts[\"sentence2\"],\n",
    "    scores=[score/5 for score in val_sts[\"label\"]],\n",
    "    main_similarity=\"cosine\",\n",
    "    similarity_fn_names=[\"cosine\", \"euclidean\", \"manhattan\", \"dot\"]\n",
    ")"
   ]
  },
  {
   "cell_type": "code",
   "execution_count": null,
   "metadata": {
    "colab": {
     "base_uri": "https://localhost:8080/",
     "height": 325,
     "referenced_widgets": [
      "5f8ffe0d7aec4683b4a67023533f3bbd",
      "17c6b7712aab45a8b1764570c9c31bf5",
      "67f816104b864b9bb52bb8c519c4ddbc",
      "f0fa46a8cbf54c1aa126483541ef7515",
      "f77f3f9bc6b142f18bb14f252a9e0da8",
      "15daabb9122d4cd18fae9cd30192c367",
      "edaa8c0dc3e743cfba07062a721becdc",
      "0a827eea39724419be11a668bf91de19",
      "f8db4ed623c6471880b2460d16c77c10",
      "88f67fcb88df451f8077cd5debdfd759",
      "29cfce0117cd44b980b7bdf734b262b6"
     ]
    },
    "id": "j-Q2m0yzkRvW",
    "outputId": "24eb77cd-69a5-4dac-e7f2-725979f500c7"
   },
   "outputs": [
    {
     "name": "stderr",
     "output_type": "stream",
     "text": [
      "WARNING:sentence_transformers.SentenceTransformer:No sentence-transformers model found with name bert-base-uncased. Creating a new one with mean pooling.\n"
     ]
    },
    {
     "data": {
      "application/vnd.jupyter.widget-view+json": {
       "model_id": "5f8ffe0d7aec4683b4a67023533f3bbd",
       "version_major": 2,
       "version_minor": 0
      },
      "text/plain": [
       "Computing widget examples:   0%|          | 0/1 [00:00<?, ?example/s]"
      ]
     },
     "metadata": {},
     "output_type": "display_data"
    },
    {
     "data": {
      "text/html": [
       "\n",
       "    <div>\n",
       "      \n",
       "      <progress value='528' max='528' style='width:300px; height:20px; vertical-align: middle;'></progress>\n",
       "      [528/528 02:28, Epoch 1/1]\n",
       "    </div>\n",
       "    <table border=\"1\" class=\"dataframe\">\n",
       "  <thead>\n",
       " <tr style=\"text-align: left;\">\n",
       "      <th>Step</th>\n",
       "      <th>Training Loss</th>\n",
       "    </tr>\n",
       "  </thead>\n",
       "  <tbody>\n",
       "    <tr>\n",
       "      <td>100</td>\n",
       "      <td>0.329300</td>\n",
       "    </tr>\n",
       "    <tr>\n",
       "      <td>200</td>\n",
       "      <td>0.106500</td>\n",
       "    </tr>\n",
       "    <tr>\n",
       "      <td>300</td>\n",
       "      <td>0.076600</td>\n",
       "    </tr>\n",
       "    <tr>\n",
       "      <td>400</td>\n",
       "      <td>0.064500</td>\n",
       "    </tr>\n",
       "    <tr>\n",
       "      <td>500</td>\n",
       "      <td>0.068800</td>\n",
       "    </tr>\n",
       "  </tbody>\n",
       "</table><p>"
      ],
      "text/plain": [
       "<IPython.core.display.HTML object>"
      ]
     },
     "metadata": {},
     "output_type": "display_data"
    },
    {
     "data": {
      "text/plain": [
       "TrainOutput(global_step=528, training_loss=0.1252814301035621, metrics={'train_runtime': 148.4509, 'train_samples_per_second': 113.674, 'train_steps_per_second': 3.557, 'total_flos': 0.0, 'train_loss': 0.1252814301035621, 'epoch': 1.0})"
      ]
     },
     "execution_count": 19,
     "metadata": {},
     "output_type": "execute_result"
    }
   ],
   "source": [
    "from sentence_transformers import losses, SentenceTransformer\n",
    "from sentence_transformers.trainer import SentenceTransformerTrainer\n",
    "from sentence_transformers.training_args import SentenceTransformerTrainingArguments\n",
    "\n",
    "# 모델\n",
    "embedding_model = SentenceTransformer('bert-base-uncased')\n",
    "\n",
    "# 손실 함수\n",
    "train_loss = losses.MultipleNegativesRankingLoss(model=embedding_model)\n",
    "\n",
    "# 훈련 매개변수\n",
    "args = SentenceTransformerTrainingArguments(\n",
    "    output_dir=\"mnrloss_embedding_model\",\n",
    "    num_train_epochs=1,\n",
    "    per_device_train_batch_size=32,\n",
    "    per_device_eval_batch_size=32,\n",
    "    warmup_steps=100,\n",
    "    fp16=True,\n",
    "    eval_steps=100,\n",
    "    logging_steps=100,\n",
    "    report_to=[]\n",
    ")\n",
    "\n",
    "# 모델 훈련\n",
    "trainer = SentenceTransformerTrainer(\n",
    "    model=embedding_model,\n",
    "    args=args,\n",
    "    train_dataset=train_dataset,\n",
    "    loss=train_loss,\n",
    "    evaluator=evaluator\n",
    ")\n",
    "trainer.train()"
   ]
  },
  {
   "cell_type": "code",
   "execution_count": null,
   "metadata": {
    "colab": {
     "base_uri": "https://localhost:8080/"
    },
    "id": "YvPEvgf98uS8",
    "outputId": "d85fe657-ea96-4a12-a02e-6c2e57a0a8ac"
   },
   "outputs": [
    {
     "data": {
      "text/plain": [
       "{'pearson_cosine': 0.8100485746036094,\n",
       " 'spearman_cosine': 0.8117771634189315,\n",
       " 'pearson_euclidean': 0.8239129125476379,\n",
       " 'spearman_euclidean': 0.8181278119296956,\n",
       " 'pearson_manhattan': 0.8237578162778533,\n",
       " 'spearman_manhattan': 0.8181237905746074,\n",
       " 'pearson_dot': 0.7422897545627833,\n",
       " 'spearman_dot': 0.7290839266361437,\n",
       " 'pearson_max': 0.8239129125476379,\n",
       " 'spearman_max': 0.8181278119296956}"
      ]
     },
     "execution_count": 20,
     "metadata": {},
     "output_type": "execute_result"
    }
   ],
   "source": [
    "# 훈련된 모델을 평가합니다.\n",
    "evaluator(embedding_model)"
   ]
  },
  {
   "cell_type": "markdown",
   "metadata": {
    "id": "ND1ej1ag054E"
   },
   "source": [
    "## 미세 튜닝"
   ]
  },
  {
   "cell_type": "markdown",
   "metadata": {
    "id": "tqATI-1V7coM"
   },
   "source": [
    "⚠️ **VRAM 비우기**"
   ]
  },
  {
   "cell_type": "code",
   "execution_count": null,
   "metadata": {
    "id": "OkWj0SfYnRFd"
   },
   "outputs": [],
   "source": [
    "import gc\n",
    "import torch\n",
    "\n",
    "gc.collect()\n",
    "torch.cuda.empty_cache()"
   ]
  },
  {
   "cell_type": "markdown",
   "metadata": {
    "id": "ZGxyXucEkjfw"
   },
   "source": [
    "### 지도 학습 방법"
   ]
  },
  {
   "cell_type": "code",
   "execution_count": null,
   "metadata": {
    "id": "5GXBTm_C-IPE"
   },
   "outputs": [],
   "source": [
    "from datasets import load_dataset\n",
    "from sentence_transformers.evaluation import EmbeddingSimilarityEvaluator\n",
    "\n",
    "# GLUE에서 MNLI 데이터셋을 로드합니다.\n",
    "# 0 = 수반, 1 = 중립, 2 = 모순\n",
    "train_dataset = load_dataset(\"glue\", \"mnli\", split=\"train\").select(range(50_000))\n",
    "train_dataset = train_dataset.remove_columns(\"idx\")\n",
    "\n",
    "# STSB를 위해 임베딩 유사도 평가자를 만듭니다.\n",
    "val_sts = load_dataset('glue', 'stsb', split='validation')\n",
    "evaluator = EmbeddingSimilarityEvaluator(\n",
    "    sentences1=val_sts[\"sentence1\"],\n",
    "    sentences2=val_sts[\"sentence2\"],\n",
    "    scores=[score/5 for score in val_sts[\"label\"]],\n",
    "    main_similarity=\"cosine\",\n",
    "    similarity_fn_names=[\"cosine\", \"euclidean\", \"manhattan\", \"dot\"]\n",
    ")"
   ]
  },
  {
   "cell_type": "code",
   "execution_count": null,
   "metadata": {
    "colab": {
     "base_uri": "https://localhost:8080/",
     "height": 1000,
     "referenced_widgets": [
      "93bc3a3eb4e04f6ba6ffc76ddd27c277",
      "cc23ccabfe20414c9266882a99a1a9d6",
      "a6cd5547601d480d933c8be632113c18",
      "1d3972c5ef57432b800e9615c8e9554c",
      "1a3d10de98234ba38ab51133e6e6dd57",
      "d647f92c1c574acab1f4663bdafa140f",
      "7cb010b4dc1b4bfb97f25fa6366cec19",
      "3fc0e36f5a51435ebb3aa0a00ae33719",
      "b8807b7c59d446fc9d7a93c256045652",
      "83f6dbd116a64411830fa995a78e3fba",
      "1cca4559bb904b2480696026938be69f",
      "2a842081f30d4e0ebbda33f360eb9fb1",
      "380627359719470ab6660070452063bb",
      "70c5aab5b7b844f7b0cc58e862d65a5a",
      "0127732948b646269dc46b01832eaf6d",
      "ad2fddec50384f2083ca0e7b2bd94d71",
      "51f6b186801a4d4684de55e68487c73f",
      "a86dece42c4840dd93b6c9ebd2c3d4c0",
      "c1afbbaf27034dc58069441c26f19710",
      "6a669123cb754fb08cbec2db4880c54d",
      "7d058c81e2cf4004b0062558d31e5bc8",
      "789a022255e04d9f8cd136188ce9baa8",
      "9031598293024f73a8239c0a42650a45",
      "cbfa5ebd4f2f402ba7136876860e7f6a",
      "51af0e363d5b4801adc1d03102ee7f63",
      "da0d8a95958a425facb84dfc0ae2bad6",
      "7b9186ea86bd49c190114f980a935d08",
      "f386fa7ee1bf48308915e91d5df060db",
      "3888219fae814dfd8201f83dc0ef8d06",
      "869b6d6511f640148938df6d1e054e04",
      "17b91fe22f9d4da896a1d42aa1a52807",
      "472d4bfb05ec46ccad6d4da4903e4aea",
      "8e136578530f488abd09bfc78fd768b8",
      "98f870a076b24285b7165b1b0872fd8e",
      "6de8b91ef150443d8ab797779ee61ed8",
      "7ff8d4bd3cd44b08ba25d7ca8578bf5f",
      "68313e610565424981fc8f7cdea3d8c1",
      "361f9f2e321e44cdb89ee4f3ced1cf3e",
      "5eca59136c5643908f60407b91f51935",
      "0ad9151bcb6a47a3bd357750ca28cef3",
      "f3e94b959f694ed6aa33bc7b07b8cf5d",
      "586d97876c3f464d97f454690bb90401",
      "df83570fa4fb46e688574e53840f18c8",
      "819fb7e9d7854ea4b2a455b65b7cfc07",
      "e4252c8f9f064ac98f076434ebc63bc1",
      "920284d90f344d3f8a69f92bc2abf170",
      "f3140dbabf3a4618a05dcc04a9ef3743",
      "d97fd6e426f94c73ba3ef4ca7e316fb1",
      "036c9a7708b34fa880f2eb65492491b7",
      "8515dff837894718804789d5446cb7d8",
      "047be329b121431ab6f7533a2d4cce4a",
      "af478784fe3b4c419295e90a45e3399f",
      "6681487fdb1e41c2b70d86e755f24bbf",
      "7b05b25c57c14c058bb51f0969f759bf",
      "8ac0e940a5ad4dff9978f34d5d9fc211",
      "d807b56effee448d9254c29f06a02163",
      "4bfaf424975a4013a8849f61feb13e5f",
      "35e6eae8fea24c9fac27b5f0c7bb3dfb",
      "fc070606785b4558aa1ee90f7b99ab0b",
      "5c209a7dbd6e4ad8b145d90d4d70e008",
      "e80921f356754c91975fbcb246450503",
      "34b74ce8c1dd4f7e986265dabed9078a",
      "abc319752abf47c88fe2248644365b03",
      "02f3a53efed845fba526bd3ae529f81e",
      "e81601840b954a4ab672490e8508b338",
      "809b81ce8f4f40509fa5b7b26bc90933",
      "d1a6d1992b9f4abd836b55a410b7b37f",
      "2a9968f460644accb972645a142d5d98",
      "1ee6cdfd18784b488dc964b4a9439d3d",
      "4d652b7bcd484d2db0725d7badd8c6b6",
      "8bdb7ae6d9674311ba066d855283fb3c",
      "bdb188421e3e45b892034aaa09d4b54f",
      "cc29c4b1c4094230b95fb5c9ac8571ea",
      "352d4448d6784b1487bbdf89347543f6",
      "93b9357634c44d32af0c26a64e96cad6",
      "bc1b5a1956a34e36989c6e1a9231c451",
      "bf4e279203de4d3ead4fbbf052300d60",
      "0efd302ad2864954898692fcb914d6e5",
      "35c52da8f3f14a9cb8499c1b02cfc992",
      "6f04d23459204653a265c9919dd6da4e",
      "621a79d357d543ada7bbfa199055cc15",
      "c9e5c77b37504b529c858be8931a3d25",
      "8dbb6c0f55fd4efda9fe84820522bc72",
      "750d4e1d63a24908af3104161b3250ef",
      "dc900abf6fef4ccab42ae1e8a95b79b3",
      "916f2f15317249099e3112f2b2c16dd6",
      "b9226349b98a48578d328d7c7031644f",
      "8b1127adb10244f6976da5c9676d7217",
      "52787948c97e48bba9897d94dd4efa6a",
      "32cb64ae2cb74ca79f0ccd6ffee8583f",
      "917c5a7545ed4acca7391920f4010003",
      "a04badf7bf304c0fa36c2b20cbe39e39",
      "3fc45de3a3b0472ba6d363fe65dd4976",
      "cc5ab7c6a8c44133abd88497cf9a4194",
      "63f6d8147e0c4851a607ff2fb62407ef",
      "d63af0314e6e47e094ccb4da8092ef23",
      "cdf9652886214751a8c0ca6ffef2689c",
      "b4908c48525a402d8e48c548985b0ed4",
      "057b87c1cc134f05a9788ad43787b83e",
      "4b91ab06830b4ca7a9607b0117af8100",
      "9c21c960106a4d7d8f0d2bd900cee44a",
      "0a8de693f1044e6eb26310ed7aff0a37",
      "4bd407bc04364e53865a82e72d76a7d1",
      "dc4343ab146f44db8fd51de88a228e7f",
      "f3a244f06e984336a4198810c77c14f3",
      "b700211b477b46958ed1dcea73ecc0c0",
      "92481855e78f4929a3c4eef64d904b56",
      "dd31cf13d1e442aa943f6c343981b034",
      "14212aabbf3840a898aa33fa1dea648a",
      "657f6c3960a442b49387e30e29852a46",
      "c9c99ccb3ce049d7a9a861bd844416fa",
      "0b64a8d9520f48f78c856420d232d7f2",
      "99d1cdc547a047d5a330ec58e716fedc",
      "a796b8659b4546cbaeaecdae6c5a26d8",
      "0779a8c880cb439592c9b21b941b61b5",
      "672dec822ced4b8cac01d55ea586374b",
      "6a8bf24380084359983149e112462dcc",
      "1db66a525a8f41b88960f8c067f4cc0b",
      "8a4c47cd959d433e8f71e2433359dcfb",
      "d1fa632f6dbb4cdd8f39aa05ad0f914b",
      "73fad516e9f94ddb95bb745cc82cb4c0",
      "e821d0652db94be1b60b87056cc21f17",
      "a4754cb012364534bab81d990ac38409",
      "1ef3655b334a4c5f9f78ff9128cd97b8",
      "08667a057574496a850ab54dbe3134ff",
      "e472e5a1d360494b89f36677d499d46a",
      "7a86cc4ea41e45a8bb11b77803dd2e1e",
      "0d47ad3a500a4431bcd7cf0927338ffe",
      "26187779ea0c42fea01ac3dc8f27217f",
      "c5e6f157fda64376bc1806bd6f320f5c",
      "e3f115b541a5411883fb53c40522138f",
      "f56153cb44cb48cdb3dbbecfacf022c0"
     ]
    },
    "id": "iQ3vW2VTA9dN",
    "outputId": "7ea99ca4-d0ad-4d9d-b23a-2c2197d5f48f"
   },
   "outputs": [
    {
     "data": {
      "application/vnd.jupyter.widget-view+json": {
       "model_id": "93bc3a3eb4e04f6ba6ffc76ddd27c277",
       "version_major": 2,
       "version_minor": 0
      },
      "text/plain": [
       "modules.json:   0%|          | 0.00/349 [00:00<?, ?B/s]"
      ]
     },
     "metadata": {},
     "output_type": "display_data"
    },
    {
     "data": {
      "application/vnd.jupyter.widget-view+json": {
       "model_id": "2a842081f30d4e0ebbda33f360eb9fb1",
       "version_major": 2,
       "version_minor": 0
      },
      "text/plain": [
       "config_sentence_transformers.json:   0%|          | 0.00/116 [00:00<?, ?B/s]"
      ]
     },
     "metadata": {},
     "output_type": "display_data"
    },
    {
     "data": {
      "application/vnd.jupyter.widget-view+json": {
       "model_id": "9031598293024f73a8239c0a42650a45",
       "version_major": 2,
       "version_minor": 0
      },
      "text/plain": [
       "README.md:   0%|          | 0.00/10.7k [00:00<?, ?B/s]"
      ]
     },
     "metadata": {},
     "output_type": "display_data"
    },
    {
     "data": {
      "application/vnd.jupyter.widget-view+json": {
       "model_id": "98f870a076b24285b7165b1b0872fd8e",
       "version_major": 2,
       "version_minor": 0
      },
      "text/plain": [
       "sentence_bert_config.json:   0%|          | 0.00/53.0 [00:00<?, ?B/s]"
      ]
     },
     "metadata": {},
     "output_type": "display_data"
    },
    {
     "data": {
      "application/vnd.jupyter.widget-view+json": {
       "model_id": "e4252c8f9f064ac98f076434ebc63bc1",
       "version_major": 2,
       "version_minor": 0
      },
      "text/plain": [
       "config.json:   0%|          | 0.00/612 [00:00<?, ?B/s]"
      ]
     },
     "metadata": {},
     "output_type": "display_data"
    },
    {
     "data": {
      "application/vnd.jupyter.widget-view+json": {
       "model_id": "d807b56effee448d9254c29f06a02163",
       "version_major": 2,
       "version_minor": 0
      },
      "text/plain": [
       "model.safetensors:   0%|          | 0.00/90.9M [00:00<?, ?B/s]"
      ]
     },
     "metadata": {},
     "output_type": "display_data"
    },
    {
     "data": {
      "application/vnd.jupyter.widget-view+json": {
       "model_id": "d1a6d1992b9f4abd836b55a410b7b37f",
       "version_major": 2,
       "version_minor": 0
      },
      "text/plain": [
       "tokenizer_config.json:   0%|          | 0.00/350 [00:00<?, ?B/s]"
      ]
     },
     "metadata": {},
     "output_type": "display_data"
    },
    {
     "data": {
      "application/vnd.jupyter.widget-view+json": {
       "model_id": "0efd302ad2864954898692fcb914d6e5",
       "version_major": 2,
       "version_minor": 0
      },
      "text/plain": [
       "vocab.txt:   0%|          | 0.00/232k [00:00<?, ?B/s]"
      ]
     },
     "metadata": {},
     "output_type": "display_data"
    },
    {
     "data": {
      "application/vnd.jupyter.widget-view+json": {
       "model_id": "52787948c97e48bba9897d94dd4efa6a",
       "version_major": 2,
       "version_minor": 0
      },
      "text/plain": [
       "tokenizer.json:   0%|          | 0.00/466k [00:00<?, ?B/s]"
      ]
     },
     "metadata": {},
     "output_type": "display_data"
    },
    {
     "data": {
      "application/vnd.jupyter.widget-view+json": {
       "model_id": "4b91ab06830b4ca7a9607b0117af8100",
       "version_major": 2,
       "version_minor": 0
      },
      "text/plain": [
       "special_tokens_map.json:   0%|          | 0.00/112 [00:00<?, ?B/s]"
      ]
     },
     "metadata": {},
     "output_type": "display_data"
    },
    {
     "data": {
      "application/vnd.jupyter.widget-view+json": {
       "model_id": "c9c99ccb3ce049d7a9a861bd844416fa",
       "version_major": 2,
       "version_minor": 0
      },
      "text/plain": [
       "1_Pooling%2Fconfig.json:   0%|          | 0.00/190 [00:00<?, ?B/s]"
      ]
     },
     "metadata": {},
     "output_type": "display_data"
    },
    {
     "data": {
      "application/vnd.jupyter.widget-view+json": {
       "model_id": "e821d0652db94be1b60b87056cc21f17",
       "version_major": 2,
       "version_minor": 0
      },
      "text/plain": [
       "Computing widget examples:   0%|          | 0/1 [00:00<?, ?example/s]"
      ]
     },
     "metadata": {},
     "output_type": "display_data"
    },
    {
     "name": "stderr",
     "output_type": "stream",
     "text": [
      "WARNING:sentence_transformers.data_collator:Column 'hypothesis' is at index 1, whereas a column with this name is usually expected at index 0. Note that the column order can be important for some losses, e.g. MultipleNegativesRankingLoss will always consider the first column as the anchor and the second as the positive, regardless of the dataset column names. Consider renaming the columns to match the expected order, e.g.:\n",
      "dataset = dataset.select_columns(['hypothesis', 'entailment', 'contradiction'])\n"
     ]
    },
    {
     "data": {
      "text/html": [
       "\n",
       "    <div>\n",
       "      \n",
       "      <progress value='1563' max='1563' style='width:300px; height:20px; vertical-align: middle;'></progress>\n",
       "      [1563/1563 01:45, Epoch 1/1]\n",
       "    </div>\n",
       "    <table border=\"1\" class=\"dataframe\">\n",
       "  <thead>\n",
       " <tr style=\"text-align: left;\">\n",
       "      <th>Step</th>\n",
       "      <th>Training Loss</th>\n",
       "    </tr>\n",
       "  </thead>\n",
       "  <tbody>\n",
       "    <tr>\n",
       "      <td>100</td>\n",
       "      <td>0.157300</td>\n",
       "    </tr>\n",
       "    <tr>\n",
       "      <td>200</td>\n",
       "      <td>0.110500</td>\n",
       "    </tr>\n",
       "    <tr>\n",
       "      <td>300</td>\n",
       "      <td>0.119900</td>\n",
       "    </tr>\n",
       "    <tr>\n",
       "      <td>400</td>\n",
       "      <td>0.118800</td>\n",
       "    </tr>\n",
       "    <tr>\n",
       "      <td>500</td>\n",
       "      <td>0.108300</td>\n",
       "    </tr>\n",
       "    <tr>\n",
       "      <td>600</td>\n",
       "      <td>0.101100</td>\n",
       "    </tr>\n",
       "    <tr>\n",
       "      <td>700</td>\n",
       "      <td>0.119600</td>\n",
       "    </tr>\n",
       "    <tr>\n",
       "      <td>800</td>\n",
       "      <td>0.098600</td>\n",
       "    </tr>\n",
       "    <tr>\n",
       "      <td>900</td>\n",
       "      <td>0.104100</td>\n",
       "    </tr>\n",
       "    <tr>\n",
       "      <td>1000</td>\n",
       "      <td>0.105200</td>\n",
       "    </tr>\n",
       "    <tr>\n",
       "      <td>1100</td>\n",
       "      <td>0.093700</td>\n",
       "    </tr>\n",
       "    <tr>\n",
       "      <td>1200</td>\n",
       "      <td>0.105600</td>\n",
       "    </tr>\n",
       "    <tr>\n",
       "      <td>1300</td>\n",
       "      <td>0.101400</td>\n",
       "    </tr>\n",
       "    <tr>\n",
       "      <td>1400</td>\n",
       "      <td>0.104800</td>\n",
       "    </tr>\n",
       "    <tr>\n",
       "      <td>1500</td>\n",
       "      <td>0.104700</td>\n",
       "    </tr>\n",
       "  </tbody>\n",
       "</table><p>"
      ],
      "text/plain": [
       "<IPython.core.display.HTML object>"
      ]
     },
     "metadata": {},
     "output_type": "display_data"
    },
    {
     "data": {
      "text/plain": [
       "TrainOutput(global_step=1563, training_loss=0.10938199757766967, metrics={'train_runtime': 105.4988, 'train_samples_per_second': 473.939, 'train_steps_per_second': 14.815, 'total_flos': 0.0, 'train_loss': 0.10938199757766967, 'epoch': 1.0})"
      ]
     },
     "execution_count": 23,
     "metadata": {},
     "output_type": "execute_result"
    }
   ],
   "source": [
    "from sentence_transformers import losses, SentenceTransformer\n",
    "from sentence_transformers.trainer import SentenceTransformerTrainer\n",
    "from sentence_transformers.training_args import SentenceTransformerTrainingArguments\n",
    "\n",
    "# 모델\n",
    "embedding_model = SentenceTransformer('sentence-transformers/all-MiniLM-L6-v2')\n",
    "\n",
    "# 손실 함수\n",
    "train_loss = losses.MultipleNegativesRankingLoss(model=embedding_model)\n",
    "\n",
    "# 훈련 매개변수\n",
    "args = SentenceTransformerTrainingArguments(\n",
    "    output_dir=\"finetuned_embedding_model\",\n",
    "    num_train_epochs=1,\n",
    "    per_device_train_batch_size=32,\n",
    "    per_device_eval_batch_size=32,\n",
    "    warmup_steps=100,\n",
    "    fp16=True,\n",
    "    eval_steps=100,\n",
    "    logging_steps=100,\n",
    "    report_to=[]\n",
    ")\n",
    "\n",
    "# 모델 훈련\n",
    "trainer = SentenceTransformerTrainer(\n",
    "    model=embedding_model,\n",
    "    args=args,\n",
    "    train_dataset=train_dataset,\n",
    "    loss=train_loss,\n",
    "    evaluator=evaluator\n",
    ")\n",
    "trainer.train()"
   ]
  },
  {
   "cell_type": "code",
   "execution_count": null,
   "metadata": {
    "colab": {
     "base_uri": "https://localhost:8080/"
    },
    "id": "MaPJIpkS-ZrT",
    "outputId": "edbcf7d0-66f6-4096-c301-4d1366a31df3"
   },
   "outputs": [
    {
     "data": {
      "text/plain": [
       "{'pearson_cosine': 0.8495184624326722,\n",
       " 'spearman_cosine': 0.8489051232050339,\n",
       " 'pearson_euclidean': 0.8525644886383396,\n",
       " 'spearman_euclidean': 0.8489051232050339,\n",
       " 'pearson_manhattan': 0.8516683274910766,\n",
       " 'spearman_manhattan': 0.8481842472627098,\n",
       " 'pearson_dot': 0.8495184636437516,\n",
       " 'spearman_dot': 0.8489051232050339,\n",
       " 'pearson_max': 0.8525644886383396,\n",
       " 'spearman_max': 0.8489051232050339}"
      ]
     },
     "execution_count": 24,
     "metadata": {},
     "output_type": "execute_result"
    }
   ],
   "source": [
    "# 훈련된 모델을 평가합니다.\n",
    "evaluator(embedding_model)"
   ]
  },
  {
   "cell_type": "code",
   "execution_count": null,
   "metadata": {
    "colab": {
     "base_uri": "https://localhost:8080/"
    },
    "id": "3pHpVCwmk-XW",
    "outputId": "04977a41-b477-43e7-8b35-2d2ba1d54ccf"
   },
   "outputs": [
    {
     "data": {
      "text/plain": [
       "{'pearson_cosine': 0.8696194518832261,\n",
       " 'spearman_cosine': 0.8671631197908374,\n",
       " 'pearson_euclidean': 0.8678715924178552,\n",
       " 'spearman_euclidean': 0.8671631197908374,\n",
       " 'pearson_manhattan': 0.8670399003909525,\n",
       " 'spearman_manhattan': 0.8663946139224048,\n",
       " 'pearson_dot': 0.8696194534675574,\n",
       " 'spearman_dot': 0.8671631197908374,\n",
       " 'pearson_max': 0.8696194534675574,\n",
       " 'spearman_max': 0.8671631197908374}"
      ]
     },
     "execution_count": 25,
     "metadata": {},
     "output_type": "execute_result"
    }
   ],
   "source": [
    "# 사전 훈련된 모델을 평가합니다.\n",
    "original_model = SentenceTransformer('sentence-transformers/all-MiniLM-L6-v2')\n",
    "evaluator(original_model)"
   ]
  },
  {
   "cell_type": "markdown",
   "metadata": {
    "id": "ii6sIMpH7d7S"
   },
   "source": [
    "⚠️ **VRAM 비우기**"
   ]
  },
  {
   "cell_type": "code",
   "execution_count": null,
   "metadata": {
    "id": "YGCTfC-unSL1"
   },
   "outputs": [],
   "source": [
    "import gc\n",
    "import torch\n",
    "\n",
    "gc.collect()\n",
    "torch.cuda.empty_cache()"
   ]
  },
  {
   "cell_type": "markdown",
   "metadata": {
    "id": "nvCPXCSZkkxm"
   },
   "source": [
    "### 증식 SBERT"
   ]
  },
  {
   "cell_type": "markdown",
   "metadata": {
    "id": "CtoEArJElrZh"
   },
   "source": [
    "**단계 1:** 크로스 인코더를 미세 튜닝합니다."
   ]
  },
  {
   "cell_type": "code",
   "execution_count": null,
   "metadata": {
    "colab": {
     "base_uri": "https://localhost:8080/"
    },
    "id": "IJhEDAeeyhPD",
    "outputId": "30770058-6f70-4cb7-c5a0-bb1ceb348aaa"
   },
   "outputs": [
    {
     "name": "stderr",
     "output_type": "stream",
     "text": [
      "100%|██████████| 10000/10000 [00:00<00:00, 25390.39it/s]\n"
     ]
    }
   ],
   "source": [
    "import pandas as pd\n",
    "from tqdm import tqdm\n",
    "from datasets import load_dataset, Dataset\n",
    "from sentence_transformers import InputExample\n",
    "from sentence_transformers.datasets import NoDuplicatesDataLoader\n",
    "\n",
    "# 크로스 인코더를 위해 10,000개의 문서로 구성된 데이터셋을 만듭니다.\n",
    "dataset = load_dataset(\"glue\", \"mnli\", split=\"train\").select(range(10_000))\n",
    "mapping = {2: 0, 1: 0, 0:1}\n",
    "\n",
    "# 데이터 로더\n",
    "gold_examples = [\n",
    "    InputExample(texts=[row[\"premise\"], row[\"hypothesis\"]], label=mapping[row[\"label\"]])\n",
    "    for row in tqdm(dataset)\n",
    "]\n",
    "gold_dataloader = NoDuplicatesDataLoader(gold_examples, batch_size=32)\n",
    "\n",
    "# 데이터 처리를 쉽게 하기 위해 판다스 데이터프레임을 만듭니다.\n",
    "gold = pd.DataFrame(\n",
    "    {\n",
    "    'sentence1': dataset['premise'],\n",
    "    'sentence2': dataset['hypothesis'],\n",
    "    'label': [mapping[label] for label in dataset['label']]\n",
    "    }\n",
    ")"
   ]
  },
  {
   "cell_type": "code",
   "execution_count": null,
   "metadata": {
    "colab": {
     "base_uri": "https://localhost:8080/",
     "height": 138,
     "referenced_widgets": [
      "bff4a18db71e4a17a72d1593914812eb",
      "0f9058644e124544aa8c62012970bd6a",
      "0e0bc9211b90444f915ab81b875ef97e",
      "874c5b22638f42acb4283fd1598224d3",
      "c8994291b72b4cff9e8b196a453d7601",
      "762f0d2efd49480081bb20d093f7e82b",
      "6a408381b6ea46cca89d0ce0a6b6649d",
      "76b0064bdb6b4480b0b447e599c1aeb4",
      "6e1848d4c1bd4caf925ce7b2daf7a61d",
      "232db51843a24cd8b798b45321377e41",
      "df84b3d1373c49a88031d7e3cad52d7b",
      "3641dd28ec55415c8254d902dcef3e1a",
      "c9e05648cf494771ace6773d65b2a2d8",
      "2b6c843a731b4cf69c85881f3539e761",
      "080f33132bed4c1c98d1bf55bbabbc84",
      "3b9fc803b3da44b28a3b1df91a39c732",
      "fe864558761740558b1fcd859f04a860",
      "354d0a7ad43a4534b7e83887e142f7d7",
      "5c4a34c0428e49f4b8597c6cf9e8752a",
      "142e359f20f74a328de37956c9ca887b",
      "45936855673b457ebab072852783af84",
      "10b6b19305b349669d7308dba3585d6e"
     ]
    },
    "id": "-_MHAJzl2H6Z",
    "outputId": "34c72a77-066b-4cfa-bc8d-a632d89a9438"
   },
   "outputs": [
    {
     "name": "stderr",
     "output_type": "stream",
     "text": [
      "Some weights of BertForSequenceClassification were not initialized from the model checkpoint at bert-base-uncased and are newly initialized: ['classifier.bias', 'classifier.weight']\n",
      "You should probably TRAIN this model on a down-stream task to be able to use it for predictions and inference.\n"
     ]
    },
    {
     "data": {
      "application/vnd.jupyter.widget-view+json": {
       "model_id": "bff4a18db71e4a17a72d1593914812eb",
       "version_major": 2,
       "version_minor": 0
      },
      "text/plain": [
       "Epoch:   0%|          | 0/1 [00:00<?, ?it/s]"
      ]
     },
     "metadata": {},
     "output_type": "display_data"
    },
    {
     "data": {
      "application/vnd.jupyter.widget-view+json": {
       "model_id": "3641dd28ec55415c8254d902dcef3e1a",
       "version_major": 2,
       "version_minor": 0
      },
      "text/plain": [
       "Iteration:   0%|          | 0/312 [00:00<?, ?it/s]"
      ]
     },
     "metadata": {},
     "output_type": "display_data"
    }
   ],
   "source": [
    "from sentence_transformers.cross_encoder import CrossEncoder\n",
    "\n",
    "# 골드 데이터셋에서 크로스 인코더를 훈련합니다.\n",
    "cross_encoder = CrossEncoder('bert-base-uncased', num_labels=2)\n",
    "cross_encoder.fit(\n",
    "    train_dataloader=gold_dataloader,\n",
    "    epochs=1,\n",
    "    show_progress_bar=True,\n",
    "    warmup_steps=100,\n",
    "    use_amp=False\n",
    ")"
   ]
  },
  {
   "cell_type": "markdown",
   "metadata": {
    "id": "X0OcVG6WmMOJ"
   },
   "source": [
    "**단계 2:** 새로운 문장 쌍을 만듭니다."
   ]
  },
  {
   "cell_type": "code",
   "execution_count": null,
   "metadata": {
    "id": "fgx8N8a8kVrZ"
   },
   "outputs": [],
   "source": [
    "# 크로스 인코더로 레이블을 예측할 실버 데이터셋을 만듭니다.\n",
    "silver = load_dataset(\"glue\", \"mnli\", split=\"train\").select(range(10_000, 50_000))\n",
    "pairs = list(zip(silver['premise'], silver['hypothesis']))"
   ]
  },
  {
   "cell_type": "markdown",
   "metadata": {
    "id": "qcG7cDG5qrwX"
   },
   "source": [
    "**단계 3:** 미세 튜닝된 크로스 인코더로 새로운 문장 쌍(실버 데이터셋)에 레이블을 할당합니다."
   ]
  },
  {
   "cell_type": "code",
   "execution_count": null,
   "metadata": {
    "colab": {
     "base_uri": "https://localhost:8080/",
     "height": 49,
     "referenced_widgets": [
      "b0e2cbb7efba45f984f874194a58b269",
      "6088e6a6dd5c4e949c2ffec4c53bb0c5",
      "06dcc337fa8f4f2bbd43ec4e753f94ec",
      "ab649621e663453fb0790d0e46d05dec",
      "96a76a42c2e946dcbbb420635c50f81b",
      "e7995eae3cda4f1eb04f110ea9a47ba7",
      "67e72f7e0d864859aa09822aaea93f58",
      "badfb1d2a47948b7b5c33448b5bc6ada",
      "cc4204af622b421a8fb10a7ec599fe21",
      "afc8c31d8132404ba3619c35144b97f4",
      "b2e79973d7a44c34849fb20e7f90970a"
     ]
    },
    "id": "O9Yuhzxq2NMj",
    "outputId": "9a1a7069-6bce-4498-f129-3306ecc8c5ad"
   },
   "outputs": [
    {
     "data": {
      "application/vnd.jupyter.widget-view+json": {
       "model_id": "b0e2cbb7efba45f984f874194a58b269",
       "version_major": 2,
       "version_minor": 0
      },
      "text/plain": [
       "Batches:   0%|          | 0/1250 [00:00<?, ?it/s]"
      ]
     },
     "metadata": {},
     "output_type": "display_data"
    }
   ],
   "source": [
    "import numpy as np\n",
    "\n",
    "# 미세 튜닝된 크로스 인코더를 사용해 문장 쌍에 레이블을 할당합니다.\n",
    "output = cross_encoder.predict(pairs, apply_softmax=True,\n",
    "                               show_progress_bar=True)\n",
    "silver = pd.DataFrame(\n",
    "    {\n",
    "        \"sentence1\": silver[\"premise\"],\n",
    "        \"sentence2\": silver[\"hypothesis\"],\n",
    "        \"label\": np.argmax(output, axis=1)\n",
    "    }\n",
    ")"
   ]
  },
  {
   "cell_type": "markdown",
   "metadata": {
    "id": "D9Jd-Kssqzk_"
   },
   "source": [
    "**단계 4:** 확장된 데이터셋(골드 데이터셋 + 실버 데이터셋)으로 바이 인코더(SBERT)를 훈련합니다."
   ]
  },
  {
   "cell_type": "code",
   "execution_count": null,
   "metadata": {
    "id": "fp09qxMhzagi"
   },
   "outputs": [],
   "source": [
    "# 골드 데이터셋과 실버 데이터셋을 합칩니다.\n",
    "data = pd.concat([gold, silver], ignore_index=True, axis=0)\n",
    "data = data.drop_duplicates(subset=['sentence1', 'sentence2'], keep=\"first\")\n",
    "train_dataset = Dataset.from_pandas(data, preserve_index=False)"
   ]
  },
  {
   "cell_type": "code",
   "execution_count": null,
   "metadata": {
    "id": "S-6RW_wOAOwO"
   },
   "outputs": [],
   "source": [
    "from sentence_transformers.evaluation import EmbeddingSimilarityEvaluator\n",
    "\n",
    "# STSB를 위한 임베딩 유사도 평가자를 만듭니다.\n",
    "val_sts = load_dataset('glue', 'stsb', split='validation')\n",
    "evaluator = EmbeddingSimilarityEvaluator(\n",
    "    sentences1=val_sts[\"sentence1\"],\n",
    "    sentences2=val_sts[\"sentence2\"],\n",
    "    scores=[score/5 for score in val_sts[\"label\"]],\n",
    "    main_similarity=\"cosine\",\n",
    "    similarity_fn_names=[\"cosine\", \"euclidean\", \"manhattan\", \"dot\"]\n",
    ")"
   ]
  },
  {
   "cell_type": "code",
   "execution_count": null,
   "metadata": {
    "colab": {
     "base_uri": "https://localhost:8080/",
     "height": 639,
     "referenced_widgets": [
      "81b3ce4831b74700b9916f19bd7cecc2",
      "e4484fbc5a56440eaa34b877da1a1c56",
      "58610ecdceec47499d48507d02b79090",
      "88293d7ecec94f77a9c367156808b3d3",
      "c0f673e23d73445bae10df6b89349fe1",
      "61ee98dc5595488f971da24dd2076622",
      "ec7398393d6b49d9beb296c6f70cef7b",
      "5e08b3a7140a41ceaf217ec89b159f5e",
      "a14177ab2747486591a0d15a88a1583f",
      "5356611fa6ad4135b74cf05ab8f47f04",
      "1db146575edb47168afb9dd6901c8141"
     ]
    },
    "id": "MK1KybOI_uIY",
    "outputId": "5274324c-5a10-44e0-996f-4cd868dace20"
   },
   "outputs": [
    {
     "name": "stderr",
     "output_type": "stream",
     "text": [
      "WARNING:sentence_transformers.SentenceTransformer:No sentence-transformers model found with name bert-base-uncased. Creating a new one with mean pooling.\n"
     ]
    },
    {
     "data": {
      "application/vnd.jupyter.widget-view+json": {
       "model_id": "81b3ce4831b74700b9916f19bd7cecc2",
       "version_major": 2,
       "version_minor": 0
      },
      "text/plain": [
       "Computing widget examples:   0%|          | 0/1 [00:00<?, ?example/s]"
      ]
     },
     "metadata": {},
     "output_type": "display_data"
    },
    {
     "data": {
      "text/html": [
       "\n",
       "    <div>\n",
       "      \n",
       "      <progress value='1563' max='1563' style='width:300px; height:20px; vertical-align: middle;'></progress>\n",
       "      [1563/1563 05:48, Epoch 1/1]\n",
       "    </div>\n",
       "    <table border=\"1\" class=\"dataframe\">\n",
       "  <thead>\n",
       " <tr style=\"text-align: left;\">\n",
       "      <th>Step</th>\n",
       "      <th>Training Loss</th>\n",
       "    </tr>\n",
       "  </thead>\n",
       "  <tbody>\n",
       "    <tr>\n",
       "      <td>100</td>\n",
       "      <td>0.214500</td>\n",
       "    </tr>\n",
       "    <tr>\n",
       "      <td>200</td>\n",
       "      <td>0.156200</td>\n",
       "    </tr>\n",
       "    <tr>\n",
       "      <td>300</td>\n",
       "      <td>0.140200</td>\n",
       "    </tr>\n",
       "    <tr>\n",
       "      <td>400</td>\n",
       "      <td>0.139300</td>\n",
       "    </tr>\n",
       "    <tr>\n",
       "      <td>500</td>\n",
       "      <td>0.139400</td>\n",
       "    </tr>\n",
       "    <tr>\n",
       "      <td>600</td>\n",
       "      <td>0.131800</td>\n",
       "    </tr>\n",
       "    <tr>\n",
       "      <td>700</td>\n",
       "      <td>0.131600</td>\n",
       "    </tr>\n",
       "    <tr>\n",
       "      <td>800</td>\n",
       "      <td>0.132300</td>\n",
       "    </tr>\n",
       "    <tr>\n",
       "      <td>900</td>\n",
       "      <td>0.130500</td>\n",
       "    </tr>\n",
       "    <tr>\n",
       "      <td>1000</td>\n",
       "      <td>0.128400</td>\n",
       "    </tr>\n",
       "    <tr>\n",
       "      <td>1100</td>\n",
       "      <td>0.129700</td>\n",
       "    </tr>\n",
       "    <tr>\n",
       "      <td>1200</td>\n",
       "      <td>0.128300</td>\n",
       "    </tr>\n",
       "    <tr>\n",
       "      <td>1300</td>\n",
       "      <td>0.126600</td>\n",
       "    </tr>\n",
       "    <tr>\n",
       "      <td>1400</td>\n",
       "      <td>0.126900</td>\n",
       "    </tr>\n",
       "    <tr>\n",
       "      <td>1500</td>\n",
       "      <td>0.125900</td>\n",
       "    </tr>\n",
       "  </tbody>\n",
       "</table><p>"
      ],
      "text/plain": [
       "<IPython.core.display.HTML object>"
      ]
     },
     "metadata": {},
     "output_type": "display_data"
    },
    {
     "data": {
      "text/plain": [
       "TrainOutput(global_step=1563, training_loss=0.13815005071179956, metrics={'train_runtime': 348.9955, 'train_samples_per_second': 143.263, 'train_steps_per_second': 4.479, 'total_flos': 0.0, 'train_loss': 0.13815005071179956, 'epoch': 1.0})"
      ]
     },
     "execution_count": 33,
     "metadata": {},
     "output_type": "execute_result"
    }
   ],
   "source": [
    "from sentence_transformers import losses, SentenceTransformer\n",
    "from sentence_transformers.trainer import SentenceTransformerTrainer\n",
    "from sentence_transformers.training_args import SentenceTransformerTrainingArguments\n",
    "\n",
    "# 모델\n",
    "embedding_model = SentenceTransformer('bert-base-uncased')\n",
    "\n",
    "# 손실 함수\n",
    "train_loss = losses.CosineSimilarityLoss(model=embedding_model)\n",
    "\n",
    "# 훈련 매개변수\n",
    "args = SentenceTransformerTrainingArguments(\n",
    "    output_dir=\"augmented_embedding_model\",\n",
    "    num_train_epochs=1,\n",
    "    per_device_train_batch_size=32,\n",
    "    per_device_eval_batch_size=32,\n",
    "    warmup_steps=100,\n",
    "    fp16=True,\n",
    "    eval_steps=100,\n",
    "    logging_steps=100,\n",
    "    report_to=[]\n",
    ")\n",
    "\n",
    "# 모델 훈련\n",
    "trainer = SentenceTransformerTrainer(\n",
    "    model=embedding_model,\n",
    "    args=args,\n",
    "    train_dataset=train_dataset,\n",
    "    loss=train_loss,\n",
    "    evaluator=evaluator\n",
    ")\n",
    "trainer.train()"
   ]
  },
  {
   "cell_type": "code",
   "execution_count": null,
   "metadata": {
    "colab": {
     "base_uri": "https://localhost:8080/"
    },
    "id": "9_NHjK75z58G",
    "outputId": "90450616-e9a5-4a94-ae32-66ff00d87fec"
   },
   "outputs": [
    {
     "data": {
      "text/plain": [
       "{'pearson_cosine': 0.6990833135054513,\n",
       " 'spearman_cosine': 0.70907615660081,\n",
       " 'pearson_euclidean': 0.7230757772585417,\n",
       " 'spearman_euclidean': 0.7199173544738955,\n",
       " 'pearson_manhattan': 0.7230121993047374,\n",
       " 'spearman_manhattan': 0.7195879503319793,\n",
       " 'pearson_dot': 0.6543758257803958,\n",
       " 'spearman_dot': 0.6543595796944088,\n",
       " 'pearson_max': 0.7230757772585417,\n",
       " 'spearman_max': 0.7199173544738955}"
      ]
     },
     "execution_count": 34,
     "metadata": {},
     "output_type": "execute_result"
    }
   ],
   "source": [
    "# 훈련된 모델을 평가합니다.\n",
    "evaluator(embedding_model)"
   ]
  },
  {
   "cell_type": "code",
   "execution_count": null,
   "metadata": {
    "colab": {
     "base_uri": "https://localhost:8080/"
    },
    "id": "fwAaFBHvDcFi",
    "outputId": "0faa1abd-ae2b-430d-eb7e-6d90abaaeede"
   },
   "outputs": [
    {
     "data": {
      "text/plain": [
       "[]"
      ]
     },
     "execution_count": 35,
     "metadata": {},
     "output_type": "execute_result"
    }
   ],
   "source": [
    "trainer.accelerator.clear()"
   ]
  },
  {
   "cell_type": "markdown",
   "metadata": {
    "id": "CX6lArIH0h1A"
   },
   "source": [
    "**단계 5**: 실버 데이터셋을 사용하지 않고 평가합니다."
   ]
  },
  {
   "cell_type": "code",
   "execution_count": null,
   "metadata": {
    "colab": {
     "base_uri": "https://localhost:8080/",
     "height": 262,
     "referenced_widgets": [
      "d79ff48e74004d3c99d3f627b698734c",
      "8082b16254d84a51a371a68cae56aa50",
      "89ae4ee493a64a91859de2cc28a9a0eb",
      "a56a262d313c4d4d86f1bc46fb9137e0",
      "6c057eaffdd242469bcae93f9ebcbb48",
      "e2d6b72c70314fd9b2b0f5f2202b6b86",
      "b72f1303db6549158ca226959972a4c2",
      "b19e7037cf444deaa2b5db244e41961a",
      "16f0e4a5d64c4763a885583e80b44b97",
      "8adff4aa8e2a43ec8409cf753d05c4dd",
      "eaf4e499aee343c893f09228f890a72d"
     ]
    },
    "id": "wyPBGfxp0D_7",
    "outputId": "2c755360-dd9a-4e97-dfd3-389507de67a0"
   },
   "outputs": [
    {
     "name": "stderr",
     "output_type": "stream",
     "text": [
      "WARNING:sentence_transformers.SentenceTransformer:No sentence-transformers model found with name bert-base-uncased. Creating a new one with mean pooling.\n"
     ]
    },
    {
     "data": {
      "application/vnd.jupyter.widget-view+json": {
       "model_id": "d79ff48e74004d3c99d3f627b698734c",
       "version_major": 2,
       "version_minor": 0
      },
      "text/plain": [
       "Computing widget examples:   0%|          | 0/1 [00:00<?, ?example/s]"
      ]
     },
     "metadata": {},
     "output_type": "display_data"
    },
    {
     "data": {
      "text/html": [
       "\n",
       "    <div>\n",
       "      \n",
       "      <progress value='313' max='313' style='width:300px; height:20px; vertical-align: middle;'></progress>\n",
       "      [313/313 01:08, Epoch 1/1]\n",
       "    </div>\n",
       "    <table border=\"1\" class=\"dataframe\">\n",
       "  <thead>\n",
       " <tr style=\"text-align: left;\">\n",
       "      <th>Step</th>\n",
       "      <th>Training Loss</th>\n",
       "    </tr>\n",
       "  </thead>\n",
       "  <tbody>\n",
       "    <tr>\n",
       "      <td>100</td>\n",
       "      <td>0.226800</td>\n",
       "    </tr>\n",
       "    <tr>\n",
       "      <td>200</td>\n",
       "      <td>0.171400</td>\n",
       "    </tr>\n",
       "    <tr>\n",
       "      <td>300</td>\n",
       "      <td>0.160000</td>\n",
       "    </tr>\n",
       "  </tbody>\n",
       "</table><p>"
      ],
      "text/plain": [
       "<IPython.core.display.HTML object>"
      ]
     },
     "metadata": {},
     "output_type": "display_data"
    },
    {
     "data": {
      "text/plain": [
       "TrainOutput(global_step=313, training_loss=0.18524520465741143, metrics={'train_runtime': 68.8646, 'train_samples_per_second': 145.212, 'train_steps_per_second': 4.545, 'total_flos': 0.0, 'train_loss': 0.18524520465741143, 'epoch': 1.0})"
      ]
     },
     "execution_count": 36,
     "metadata": {},
     "output_type": "execute_result"
    }
   ],
   "source": [
    "# 골드 데이터셋만 사용합니다.\n",
    "data = pd.concat([gold], ignore_index=True, axis=0)\n",
    "data = data.drop_duplicates(subset=['sentence1', 'sentence2'], keep=\"first\")\n",
    "train_dataset = Dataset.from_pandas(data, preserve_index=False)\n",
    "\n",
    "# 모델\n",
    "embedding_model = SentenceTransformer('bert-base-uncased')\n",
    "\n",
    "# 손실 함수\n",
    "train_loss = losses.CosineSimilarityLoss(model=embedding_model)\n",
    "\n",
    "# 훈련 매개변수\n",
    "args = SentenceTransformerTrainingArguments(\n",
    "    output_dir=\"gold_only_embedding_model\",\n",
    "    num_train_epochs=1,\n",
    "    per_device_train_batch_size=32,\n",
    "    per_device_eval_batch_size=32,\n",
    "    warmup_steps=100,\n",
    "    fp16=True,\n",
    "    eval_steps=100,\n",
    "    logging_steps=100,\n",
    "    report_to=[]\n",
    ")\n",
    "\n",
    "# 모델 훈련\n",
    "trainer = SentenceTransformerTrainer(\n",
    "    model=embedding_model,\n",
    "    args=args,\n",
    "    train_dataset=train_dataset,\n",
    "    loss=train_loss,\n",
    "    evaluator=evaluator\n",
    ")\n",
    "trainer.train()"
   ]
  },
  {
   "cell_type": "code",
   "execution_count": null,
   "metadata": {
    "colab": {
     "base_uri": "https://localhost:8080/"
    },
    "id": "6L8_5TLJ0jdK",
    "outputId": "98864f80-2b82-490b-e1bc-0f468baa4a48"
   },
   "outputs": [
    {
     "data": {
      "text/plain": [
       "{'pearson_cosine': 0.620910162485254,\n",
       " 'spearman_cosine': 0.6476035145337555,\n",
       " 'pearson_euclidean': 0.6507245363626306,\n",
       " 'spearman_euclidean': 0.6601656406407354,\n",
       " 'pearson_manhattan': 0.6525128583104902,\n",
       " 'spearman_manhattan': 0.6615903177805038,\n",
       " 'pearson_dot': 0.548425287456532,\n",
       " 'spearman_dot': 0.5462672292980125,\n",
       " 'pearson_max': 0.6525128583104902,\n",
       " 'spearman_max': 0.6615903177805038}"
      ]
     },
     "execution_count": 37,
     "metadata": {},
     "output_type": "execute_result"
    }
   ],
   "source": [
    "# 훈련된 모델을 평가합니다.\n",
    "evaluator(embedding_model)"
   ]
  },
  {
   "cell_type": "markdown",
   "metadata": {
    "id": "9ZujSUsu0sHU"
   },
   "source": [
    "실버 데이터셋과 골드 데이터셋을 모두 사용했을 때와 비교하면 골드 데이터셋만 사용한 경우 모델의 성능이 감소합니다!"
   ]
  },
  {
   "cell_type": "markdown",
   "metadata": {
    "id": "qVq3FSZL7gK7"
   },
   "source": [
    "⚠️ **VRAM 비우기**"
   ]
  },
  {
   "cell_type": "code",
   "execution_count": null,
   "metadata": {
    "id": "6gckDRJ1nUfo"
   },
   "outputs": [],
   "source": [
    "import gc\n",
    "import torch\n",
    "\n",
    "gc.collect()\n",
    "torch.cuda.empty_cache()"
   ]
  },
  {
   "cell_type": "markdown",
   "metadata": {
    "id": "p7RNAKVl3wmM"
   },
   "source": [
    "## 비지도 학습"
   ]
  },
  {
   "cell_type": "markdown",
   "metadata": {
    "id": "Oq_phjTb31gX"
   },
   "source": [
    "### TSDAE"
   ]
  },
  {
   "cell_type": "code",
   "execution_count": null,
   "metadata": {
    "colab": {
     "base_uri": "https://localhost:8080/"
    },
    "id": "8yMdUf_WwErS",
    "outputId": "bb27d4bb-b68e-4300-93e2-3c2b49717c87"
   },
   "outputs": [
    {
     "name": "stderr",
     "output_type": "stream",
     "text": [
      "[nltk_data] Downloading package punkt to /root/nltk_data...\n",
      "[nltk_data]   Unzipping tokenizers/punkt.zip.\n",
      "[nltk_data] Downloading package punkt_tab to /root/nltk_data...\n",
      "[nltk_data]   Unzipping tokenizers/punkt_tab.zip.\n"
     ]
    },
    {
     "data": {
      "text/plain": [
       "True"
      ]
     },
     "execution_count": 39,
     "metadata": {},
     "output_type": "execute_result"
    }
   ],
   "source": [
    "# 추가적인 토크나이저를 다운로드합니다.\n",
    "import nltk\n",
    "nltk.download('punkt')\n",
    "nltk.download('punkt_tab')"
   ]
  },
  {
   "cell_type": "code",
   "execution_count": null,
   "metadata": {
    "colab": {
     "base_uri": "https://localhost:8080/"
    },
    "id": "ruI-lOZYZt7J",
    "outputId": "6e397c94-ce83-475f-e028-e061ed5e9625"
   },
   "outputs": [
    {
     "name": "stderr",
     "output_type": "stream",
     "text": [
      "100%|██████████| 48353/48353 [00:16<00:00, 2945.72it/s]\n"
     ]
    }
   ],
   "source": [
    "from tqdm import tqdm\n",
    "from datasets import Dataset, load_dataset\n",
    "from sentence_transformers.datasets import DenoisingAutoEncoderDataset\n",
    "\n",
    "# 전제와 가설을 하나의 문장으로 연결합니다.\n",
    "mnli = load_dataset(\"glue\", \"mnli\", split=\"train\").select(range(25_000))\n",
    "flat_sentences = mnli[\"premise\"] + mnli[\"hypothesis\"]\n",
    "\n",
    "# 입력 데이터에 잡음을 추가합니다.\n",
    "damaged_data = DenoisingAutoEncoderDataset(list(set(flat_sentences)))\n",
    "\n",
    "# 데이터셋을 만듭니다.\n",
    "train_dataset = {\"damaged_sentence\": [], \"original_sentence\": []}\n",
    "for data in tqdm(damaged_data):\n",
    "    train_dataset[\"damaged_sentence\"].append(data.texts[0])\n",
    "    train_dataset[\"original_sentence\"].append(data.texts[1])\n",
    "train_dataset = Dataset.from_dict(train_dataset)"
   ]
  },
  {
   "cell_type": "code",
   "execution_count": null,
   "metadata": {
    "colab": {
     "base_uri": "https://localhost:8080/"
    },
    "id": "mymxiQ9A1eQm",
    "outputId": "c2f4e0f7-1882-400e-e253-0395fa767861"
   },
   "outputs": [
    {
     "data": {
      "text/plain": [
       "{'damaged_sentence': 'Abbey is in that area',\n",
       " 'original_sentence': 'The Abbey is the only religious site in that area.'}"
      ]
     },
     "execution_count": 41,
     "metadata": {},
     "output_type": "execute_result"
    }
   ],
   "source": [
    "train_dataset[0]"
   ]
  },
  {
   "cell_type": "code",
   "execution_count": null,
   "metadata": {
    "id": "Tl6CzdwNA1tC"
   },
   "outputs": [],
   "source": [
    "from sentence_transformers.evaluation import EmbeddingSimilarityEvaluator\n",
    "\n",
    "# STSB를 위한 임베딩 유사도 평가자를 만듭니다.\n",
    "val_sts = load_dataset('glue', 'stsb', split='validation')\n",
    "evaluator = EmbeddingSimilarityEvaluator(\n",
    "    sentences1=val_sts[\"sentence1\"],\n",
    "    sentences2=val_sts[\"sentence2\"],\n",
    "    scores=[score/5 for score in val_sts[\"label\"]],\n",
    "    main_similarity=\"cosine\",\n",
    "    similarity_fn_names=[\"cosine\", \"euclidean\", \"manhattan\", \"dot\"]\n",
    ")"
   ]
  },
  {
   "cell_type": "code",
   "execution_count": null,
   "metadata": {
    "id": "pYM298tWlacT"
   },
   "outputs": [],
   "source": [
    "from sentence_transformers import models, SentenceTransformer\n",
    "\n",
    "# 임베딩 모델을 만듭니다.\n",
    "word_embedding_model = models.Transformer('bert-base-uncased')\n",
    "pooling_model = models.Pooling(word_embedding_model.get_word_embedding_dimension(), 'cls')\n",
    "embedding_model = SentenceTransformer(modules=[word_embedding_model, pooling_model])"
   ]
  },
  {
   "cell_type": "code",
   "execution_count": null,
   "metadata": {
    "colab": {
     "base_uri": "https://localhost:8080/"
    },
    "id": "5RZ8tQFSlIHm",
    "outputId": "08767d00-78f3-4fbc-c5fb-728e39ac6fbe"
   },
   "outputs": [
    {
     "name": "stderr",
     "output_type": "stream",
     "text": [
      "Some weights of BertLMHeadModel were not initialized from the model checkpoint at bert-base-uncased and are newly initialized: ['bert.encoder.layer.0.crossattention.output.LayerNorm.bias', 'bert.encoder.layer.0.crossattention.output.LayerNorm.weight', 'bert.encoder.layer.0.crossattention.output.dense.bias', 'bert.encoder.layer.0.crossattention.output.dense.weight', 'bert.encoder.layer.0.crossattention.self.key.bias', 'bert.encoder.layer.0.crossattention.self.key.weight', 'bert.encoder.layer.0.crossattention.self.query.bias', 'bert.encoder.layer.0.crossattention.self.query.weight', 'bert.encoder.layer.0.crossattention.self.value.bias', 'bert.encoder.layer.0.crossattention.self.value.weight', 'bert.encoder.layer.1.crossattention.output.LayerNorm.bias', 'bert.encoder.layer.1.crossattention.output.LayerNorm.weight', 'bert.encoder.layer.1.crossattention.output.dense.bias', 'bert.encoder.layer.1.crossattention.output.dense.weight', 'bert.encoder.layer.1.crossattention.self.key.bias', 'bert.encoder.layer.1.crossattention.self.key.weight', 'bert.encoder.layer.1.crossattention.self.query.bias', 'bert.encoder.layer.1.crossattention.self.query.weight', 'bert.encoder.layer.1.crossattention.self.value.bias', 'bert.encoder.layer.1.crossattention.self.value.weight', 'bert.encoder.layer.10.crossattention.output.LayerNorm.bias', 'bert.encoder.layer.10.crossattention.output.LayerNorm.weight', 'bert.encoder.layer.10.crossattention.output.dense.bias', 'bert.encoder.layer.10.crossattention.output.dense.weight', 'bert.encoder.layer.10.crossattention.self.key.bias', 'bert.encoder.layer.10.crossattention.self.key.weight', 'bert.encoder.layer.10.crossattention.self.query.bias', 'bert.encoder.layer.10.crossattention.self.query.weight', 'bert.encoder.layer.10.crossattention.self.value.bias', 'bert.encoder.layer.10.crossattention.self.value.weight', 'bert.encoder.layer.11.crossattention.output.LayerNorm.bias', 'bert.encoder.layer.11.crossattention.output.LayerNorm.weight', 'bert.encoder.layer.11.crossattention.output.dense.bias', 'bert.encoder.layer.11.crossattention.output.dense.weight', 'bert.encoder.layer.11.crossattention.self.key.bias', 'bert.encoder.layer.11.crossattention.self.key.weight', 'bert.encoder.layer.11.crossattention.self.query.bias', 'bert.encoder.layer.11.crossattention.self.query.weight', 'bert.encoder.layer.11.crossattention.self.value.bias', 'bert.encoder.layer.11.crossattention.self.value.weight', 'bert.encoder.layer.2.crossattention.output.LayerNorm.bias', 'bert.encoder.layer.2.crossattention.output.LayerNorm.weight', 'bert.encoder.layer.2.crossattention.output.dense.bias', 'bert.encoder.layer.2.crossattention.output.dense.weight', 'bert.encoder.layer.2.crossattention.self.key.bias', 'bert.encoder.layer.2.crossattention.self.key.weight', 'bert.encoder.layer.2.crossattention.self.query.bias', 'bert.encoder.layer.2.crossattention.self.query.weight', 'bert.encoder.layer.2.crossattention.self.value.bias', 'bert.encoder.layer.2.crossattention.self.value.weight', 'bert.encoder.layer.3.crossattention.output.LayerNorm.bias', 'bert.encoder.layer.3.crossattention.output.LayerNorm.weight', 'bert.encoder.layer.3.crossattention.output.dense.bias', 'bert.encoder.layer.3.crossattention.output.dense.weight', 'bert.encoder.layer.3.crossattention.self.key.bias', 'bert.encoder.layer.3.crossattention.self.key.weight', 'bert.encoder.layer.3.crossattention.self.query.bias', 'bert.encoder.layer.3.crossattention.self.query.weight', 'bert.encoder.layer.3.crossattention.self.value.bias', 'bert.encoder.layer.3.crossattention.self.value.weight', 'bert.encoder.layer.4.crossattention.output.LayerNorm.bias', 'bert.encoder.layer.4.crossattention.output.LayerNorm.weight', 'bert.encoder.layer.4.crossattention.output.dense.bias', 'bert.encoder.layer.4.crossattention.output.dense.weight', 'bert.encoder.layer.4.crossattention.self.key.bias', 'bert.encoder.layer.4.crossattention.self.key.weight', 'bert.encoder.layer.4.crossattention.self.query.bias', 'bert.encoder.layer.4.crossattention.self.query.weight', 'bert.encoder.layer.4.crossattention.self.value.bias', 'bert.encoder.layer.4.crossattention.self.value.weight', 'bert.encoder.layer.5.crossattention.output.LayerNorm.bias', 'bert.encoder.layer.5.crossattention.output.LayerNorm.weight', 'bert.encoder.layer.5.crossattention.output.dense.bias', 'bert.encoder.layer.5.crossattention.output.dense.weight', 'bert.encoder.layer.5.crossattention.self.key.bias', 'bert.encoder.layer.5.crossattention.self.key.weight', 'bert.encoder.layer.5.crossattention.self.query.bias', 'bert.encoder.layer.5.crossattention.self.query.weight', 'bert.encoder.layer.5.crossattention.self.value.bias', 'bert.encoder.layer.5.crossattention.self.value.weight', 'bert.encoder.layer.6.crossattention.output.LayerNorm.bias', 'bert.encoder.layer.6.crossattention.output.LayerNorm.weight', 'bert.encoder.layer.6.crossattention.output.dense.bias', 'bert.encoder.layer.6.crossattention.output.dense.weight', 'bert.encoder.layer.6.crossattention.self.key.bias', 'bert.encoder.layer.6.crossattention.self.key.weight', 'bert.encoder.layer.6.crossattention.self.query.bias', 'bert.encoder.layer.6.crossattention.self.query.weight', 'bert.encoder.layer.6.crossattention.self.value.bias', 'bert.encoder.layer.6.crossattention.self.value.weight', 'bert.encoder.layer.7.crossattention.output.LayerNorm.bias', 'bert.encoder.layer.7.crossattention.output.LayerNorm.weight', 'bert.encoder.layer.7.crossattention.output.dense.bias', 'bert.encoder.layer.7.crossattention.output.dense.weight', 'bert.encoder.layer.7.crossattention.self.key.bias', 'bert.encoder.layer.7.crossattention.self.key.weight', 'bert.encoder.layer.7.crossattention.self.query.bias', 'bert.encoder.layer.7.crossattention.self.query.weight', 'bert.encoder.layer.7.crossattention.self.value.bias', 'bert.encoder.layer.7.crossattention.self.value.weight', 'bert.encoder.layer.8.crossattention.output.LayerNorm.bias', 'bert.encoder.layer.8.crossattention.output.LayerNorm.weight', 'bert.encoder.layer.8.crossattention.output.dense.bias', 'bert.encoder.layer.8.crossattention.output.dense.weight', 'bert.encoder.layer.8.crossattention.self.key.bias', 'bert.encoder.layer.8.crossattention.self.key.weight', 'bert.encoder.layer.8.crossattention.self.query.bias', 'bert.encoder.layer.8.crossattention.self.query.weight', 'bert.encoder.layer.8.crossattention.self.value.bias', 'bert.encoder.layer.8.crossattention.self.value.weight', 'bert.encoder.layer.9.crossattention.output.LayerNorm.bias', 'bert.encoder.layer.9.crossattention.output.LayerNorm.weight', 'bert.encoder.layer.9.crossattention.output.dense.bias', 'bert.encoder.layer.9.crossattention.output.dense.weight', 'bert.encoder.layer.9.crossattention.self.key.bias', 'bert.encoder.layer.9.crossattention.self.key.weight', 'bert.encoder.layer.9.crossattention.self.query.bias', 'bert.encoder.layer.9.crossattention.self.query.weight', 'bert.encoder.layer.9.crossattention.self.value.bias', 'bert.encoder.layer.9.crossattention.self.value.weight']\n",
      "You should probably TRAIN this model on a down-stream task to be able to use it for predictions and inference.\n",
      "The following encoder weights were not tied to the decoder ['bert/pooler']\n"
     ]
    }
   ],
   "source": [
    "from sentence_transformers import losses\n",
    "\n",
    "# 잡음제거 오토 인코더 손실\n",
    "train_loss = losses.DenoisingAutoEncoderLoss(\n",
    "    embedding_model, tie_encoder_decoder=True\n",
    ")\n",
    "train_loss.decoder = train_loss.decoder.to(\"cuda\")"
   ]
  },
  {
   "cell_type": "code",
   "execution_count": null,
   "metadata": {
    "colab": {
     "base_uri": "https://localhost:8080/",
     "height": 1000,
     "referenced_widgets": [
      "4143f891e6014ec3a2caa4bf0a8c6871",
      "97932314ee534c5c92288807a6056439",
      "4a6db1ba31bb4f10be3eccc0911ef49a",
      "35a25ab3ae9a4cfa84660879fb62f877",
      "d82e4a2c08084896a2d41bffb7642a14",
      "f42152e586384471aa007fc8b4d346cd",
      "3c7d5bcb6c574cc799bcb5fa9a3bf7a3",
      "1cf3d2d6f503495093d70c3f95775e18",
      "e654b73f0e594af1ad0599a645400079",
      "061f074f29614e898041b41e469acde1",
      "e006d395fd1b419ab0cb6b01a9484e2c"
     ]
    },
    "id": "PYApurOS07x0",
    "outputId": "88623ee6-2c05-4d87-faaa-757b94e22bd5"
   },
   "outputs": [
    {
     "data": {
      "application/vnd.jupyter.widget-view+json": {
       "model_id": "4143f891e6014ec3a2caa4bf0a8c6871",
       "version_major": 2,
       "version_minor": 0
      },
      "text/plain": [
       "Computing widget examples:   0%|          | 0/1 [00:00<?, ?example/s]"
      ]
     },
     "metadata": {},
     "output_type": "display_data"
    },
    {
     "name": "stderr",
     "output_type": "stream",
     "text": [
      "We strongly recommend passing in an `attention_mask` since your input_ids may be padded. See https://huggingface.co/docs/transformers/troubleshooting#incorrect-output-when-padding-tokens-arent-masked.\n"
     ]
    },
    {
     "data": {
      "text/html": [
       "\n",
       "    <div>\n",
       "      \n",
       "      <progress value='3023' max='3023' style='width:300px; height:20px; vertical-align: middle;'></progress>\n",
       "      [3023/3023 15:44, Epoch 1/1]\n",
       "    </div>\n",
       "    <table border=\"1\" class=\"dataframe\">\n",
       "  <thead>\n",
       " <tr style=\"text-align: left;\">\n",
       "      <th>Step</th>\n",
       "      <th>Training Loss</th>\n",
       "    </tr>\n",
       "  </thead>\n",
       "  <tbody>\n",
       "    <tr>\n",
       "      <td>100</td>\n",
       "      <td>7.092100</td>\n",
       "    </tr>\n",
       "    <tr>\n",
       "      <td>200</td>\n",
       "      <td>4.949200</td>\n",
       "    </tr>\n",
       "    <tr>\n",
       "      <td>300</td>\n",
       "      <td>4.631700</td>\n",
       "    </tr>\n",
       "    <tr>\n",
       "      <td>400</td>\n",
       "      <td>4.500400</td>\n",
       "    </tr>\n",
       "    <tr>\n",
       "      <td>500</td>\n",
       "      <td>4.380400</td>\n",
       "    </tr>\n",
       "    <tr>\n",
       "      <td>600</td>\n",
       "      <td>4.282000</td>\n",
       "    </tr>\n",
       "    <tr>\n",
       "      <td>700</td>\n",
       "      <td>4.198700</td>\n",
       "    </tr>\n",
       "    <tr>\n",
       "      <td>800</td>\n",
       "      <td>4.182700</td>\n",
       "    </tr>\n",
       "    <tr>\n",
       "      <td>900</td>\n",
       "      <td>4.058400</td>\n",
       "    </tr>\n",
       "    <tr>\n",
       "      <td>1000</td>\n",
       "      <td>4.055800</td>\n",
       "    </tr>\n",
       "    <tr>\n",
       "      <td>1100</td>\n",
       "      <td>4.024600</td>\n",
       "    </tr>\n",
       "    <tr>\n",
       "      <td>1200</td>\n",
       "      <td>3.983600</td>\n",
       "    </tr>\n",
       "    <tr>\n",
       "      <td>1300</td>\n",
       "      <td>3.929500</td>\n",
       "    </tr>\n",
       "    <tr>\n",
       "      <td>1400</td>\n",
       "      <td>3.902000</td>\n",
       "    </tr>\n",
       "    <tr>\n",
       "      <td>1500</td>\n",
       "      <td>3.873800</td>\n",
       "    </tr>\n",
       "    <tr>\n",
       "      <td>1600</td>\n",
       "      <td>3.820800</td>\n",
       "    </tr>\n",
       "    <tr>\n",
       "      <td>1700</td>\n",
       "      <td>3.792700</td>\n",
       "    </tr>\n",
       "    <tr>\n",
       "      <td>1800</td>\n",
       "      <td>3.756000</td>\n",
       "    </tr>\n",
       "    <tr>\n",
       "      <td>1900</td>\n",
       "      <td>3.762900</td>\n",
       "    </tr>\n",
       "    <tr>\n",
       "      <td>2000</td>\n",
       "      <td>3.747300</td>\n",
       "    </tr>\n",
       "    <tr>\n",
       "      <td>2100</td>\n",
       "      <td>3.705500</td>\n",
       "    </tr>\n",
       "    <tr>\n",
       "      <td>2200</td>\n",
       "      <td>3.676100</td>\n",
       "    </tr>\n",
       "    <tr>\n",
       "      <td>2300</td>\n",
       "      <td>3.642000</td>\n",
       "    </tr>\n",
       "    <tr>\n",
       "      <td>2400</td>\n",
       "      <td>3.663400</td>\n",
       "    </tr>\n",
       "    <tr>\n",
       "      <td>2500</td>\n",
       "      <td>3.677200</td>\n",
       "    </tr>\n",
       "    <tr>\n",
       "      <td>2600</td>\n",
       "      <td>3.634000</td>\n",
       "    </tr>\n",
       "    <tr>\n",
       "      <td>2700</td>\n",
       "      <td>3.622900</td>\n",
       "    </tr>\n",
       "    <tr>\n",
       "      <td>2800</td>\n",
       "      <td>3.600700</td>\n",
       "    </tr>\n",
       "    <tr>\n",
       "      <td>2900</td>\n",
       "      <td>3.576900</td>\n",
       "    </tr>\n",
       "    <tr>\n",
       "      <td>3000</td>\n",
       "      <td>3.589000</td>\n",
       "    </tr>\n",
       "  </tbody>\n",
       "</table><p>"
      ],
      "text/plain": [
       "<IPython.core.display.HTML object>"
      ]
     },
     "metadata": {},
     "output_type": "display_data"
    },
    {
     "data": {
      "text/plain": [
       "TrainOutput(global_step=3023, training_loss=4.040039362830119, metrics={'train_runtime': 944.9583, 'train_samples_per_second': 51.169, 'train_steps_per_second': 3.199, 'total_flos': 0.0, 'train_loss': 4.040039362830119, 'epoch': 1.0})"
      ]
     },
     "execution_count": 45,
     "metadata": {},
     "output_type": "execute_result"
    }
   ],
   "source": [
    "from sentence_transformers.trainer import SentenceTransformerTrainer\n",
    "from sentence_transformers.training_args import SentenceTransformerTrainingArguments\n",
    "\n",
    "# 훈련 매개변수\n",
    "args = SentenceTransformerTrainingArguments(\n",
    "    output_dir=\"tsdae_embedding_model\",\n",
    "    num_train_epochs=1,\n",
    "    per_device_train_batch_size=16,\n",
    "    per_device_eval_batch_size=16,\n",
    "    warmup_steps=100,\n",
    "    fp16=True,\n",
    "    eval_steps=100,\n",
    "    logging_steps=100,\n",
    "    report_to=[]\n",
    ")\n",
    "\n",
    "# 모델 훈련\n",
    "trainer = SentenceTransformerTrainer(\n",
    "    model=embedding_model,\n",
    "    args=args,\n",
    "    train_dataset=train_dataset,\n",
    "    loss=train_loss,\n",
    "    evaluator=evaluator\n",
    ")\n",
    "trainer.train()"
   ]
  },
  {
   "cell_type": "code",
   "execution_count": null,
   "metadata": {
    "colab": {
     "base_uri": "https://localhost:8080/"
    },
    "id": "nGxh6fTa7qIh",
    "outputId": "eecb7143-be82-47dc-dc84-9f3bbdf718ae"
   },
   "outputs": [
    {
     "data": {
      "text/plain": [
       "{'pearson_cosine': 0.7385436893075473,\n",
       " 'spearman_cosine': 0.7458753581529155,\n",
       " 'pearson_euclidean': 0.7377358822487955,\n",
       " 'spearman_euclidean': 0.7409439490557472,\n",
       " 'pearson_manhattan': 0.7380002368859765,\n",
       " 'spearman_manhattan': 0.7413490525381604,\n",
       " 'pearson_dot': 0.6471544260499531,\n",
       " 'spearman_dot': 0.6445149946087406,\n",
       " 'pearson_max': 0.7385436893075473,\n",
       " 'spearman_max': 0.7458753581529155}"
      ]
     },
     "execution_count": 46,
     "metadata": {},
     "output_type": "execute_result"
    }
   ],
   "source": [
    "# 훈련된 모델을 평가합니다.\n",
    "evaluator(embedding_model)"
   ]
  }
 ],
 "metadata": {
  "accelerator": "GPU",
  "colab": {
   "gpuType": "T4",
   "provenance": []
  },
  "kernelspec": {
   "display_name": "Python 3 (ipykernel)",
   "language": "python",
   "name": "python3"
  },
  "language_info": {
   "codemirror_mode": {
    "name": "ipython",
    "version": 3
   },
   "file_extension": ".py",
   "mimetype": "text/x-python",
   "name": "python",
   "nbconvert_exporter": "python",
   "pygments_lexer": "ipython3",
   "version": "3.8.18"
  }
 },
 "nbformat": 4,
 "nbformat_minor": 1
}
