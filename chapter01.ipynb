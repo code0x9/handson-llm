{
 "cells": [
  {
   "cell_type": "markdown",
   "metadata": {
    "id": "EDe7DsPWmEBV"
   },
   "source": [
    "<h1>1장 대규모 언어 모델 소개</h1>\n",
    "<i>흥미진진한 언어 AI 분야를 탐험합니다.</i>\n",
    "\n",
    "\n",
    "<a href=\"https://github.com/rickiepark/handson-llm\"><img src=\"https://img.shields.io/badge/GitHub%20Repository-black?logo=github\"></a>\n",
    "[![Open In Colab](https://colab.research.google.com/assets/colab-badge.svg)](https://colab.research.google.com/github/rickiepark/handson-llm/blob/main/chapter01.ipynb)\n",
    "\n",
    "---\n",
    "\n",
    "이 노트북은 <[핸즈온 LLM](https://tensorflow.blog/handson-llm/)> 책 1장의 코드를 담고 있습니다.\n",
    "\n",
    "---\n",
    "\n",
    "<a href=\"https://tensorflow.blog/handson-llm/\">\n",
    "<img src=\"https://tensorflow.blog/wp-content/uploads/2025/05/ed95b8eca688ec98a8_llm.jpg\" width=\"350\"/></a>\n"
   ]
  },
  {
   "cell_type": "markdown",
   "metadata": {
    "id": "buDa1--HJsJB"
   },
   "source": [
    "---\n",
    "\n",
    "💡 **NOTE**: 이 노트북의 코드를 실행하려면 GPU를 사용하는 것이 좋습니다. 구글 코랩에서는 **런타임 > 런타임 유형 변경 > 하드웨어 가속기 > T4 GPU**를 선택하세요.\n",
    "\n",
    "---"
   ]
  },
  {
   "cell_type": "code",
   "source": [
    "# 깃허브에서 위젯 상태 오류를 피하기 위해 진행 표시줄을 나타내지 않도록 설정합니다.\n",
    "from transformers.utils import logging\n",
    "\n",
    "logging.disable_progress_bar()"
   ],
   "metadata": {
    "id": "cjSMRcEVwgV6",
    "ExecuteTime": {
     "end_time": "2025-10-27T06:41:34.081391Z",
     "start_time": "2025-10-27T06:41:32.817095Z"
    }
   },
   "outputs": [],
   "execution_count": 1
  },
  {
   "cell_type": "markdown",
   "metadata": {
    "id": "hXp09JFsFBXi"
   },
   "source": [
    "# Phi-3\n",
    "\n",
    "첫 번째 단계로 빠른 추론을 위해 모델을 GPU에 로드합니다. 모델과 토크나이저를 각각 로드합니다(항상 이렇게 할 필요는 없습니다)."
   ]
  },
  {
   "cell_type": "code",
   "metadata": {
    "id": "RSNalRXZyTTk",
    "ExecuteTime": {
     "end_time": "2025-10-27T06:41:43.488770Z",
     "start_time": "2025-10-27T06:41:35.193415Z"
    }
   },
   "source": [
    "from transformers import AutoModelForCausalLM, AutoTokenizer\n",
    "\n",
    "# 모델과 토크나이저를 로드합니다.\n",
    "model = AutoModelForCausalLM.from_pretrained(\n",
    "    \"microsoft/Phi-3-mini-4k-instruct\",\n",
    "    device_map=\"mps\",\n",
    "    dtype=\"auto\",\n",
    ")\n",
    "tokenizer = AutoTokenizer.from_pretrained(\"microsoft/Phi-3-mini-4k-instruct\")"
   ],
   "outputs": [],
   "execution_count": 2
  },
  {
   "cell_type": "markdown",
   "metadata": {
    "id": "qdyYYS0E5fEU"
   },
   "source": [
    "모델과 토크나이저를 직접 사용할 수 있지만 `pipeline` 함수를 사용하는 것이 훨씬 쉽습니다."
   ]
  },
  {
   "metadata": {
    "ExecuteTime": {
     "end_time": "2025-10-27T06:41:43.513711Z",
     "start_time": "2025-10-27T06:41:43.511943Z"
    }
   },
   "cell_type": "code",
   "source": [
    "import os\n",
    "\n",
    "os.environ[\"TRANSFORMERS_VERBOSITY\"] = \"info\""
   ],
   "outputs": [],
   "execution_count": 3
  },
  {
   "cell_type": "code",
   "metadata": {
    "colab": {
     "base_uri": "https://localhost:8080/"
    },
    "id": "DiUi4Wu1FCyN",
    "outputId": "fe986508-53fe-4e31-c8e0-33b4215125c4",
    "ExecuteTime": {
     "end_time": "2025-10-27T06:41:43.648804Z",
     "start_time": "2025-10-27T06:41:43.523826Z"
    }
   },
   "source": [
    "from transformers import pipeline\n",
    "\n",
    "\n",
    "# 파이프라인을 만듭니다.\n",
    "generator = pipeline(\n",
    "    \"text-generation\",\n",
    "    model=model,\n",
    "    tokenizer=tokenizer,\n",
    "    return_full_text=False,\n",
    "    max_new_tokens=500,\n",
    "    do_sample=False\n",
    ")"
   ],
   "outputs": [
    {
     "name": "stderr",
     "output_type": "stream",
     "text": [
      "Device set to use mps\n",
      "The following generation flags are not valid and may be ignored: ['temperature']. Set `TRANSFORMERS_VERBOSITY=info` for more details.\n"
     ]
    }
   ],
   "execution_count": 4
  },
  {
   "cell_type": "markdown",
   "metadata": {
    "id": "mD49kysT5mMY"
   },
   "source": [
    "마지막으로 프롬프트를 작성하고 모델에 주입합니다."
   ]
  },
  {
   "cell_type": "code",
   "metadata": {
    "colab": {
     "base_uri": "https://localhost:8080/"
    },
    "id": "hkR7LBmiyXmY",
    "outputId": "6f12b579-08b3-486d-91b6-dde9ad9391a7",
    "ExecuteTime": {
     "end_time": "2025-10-27T06:58:17.178967Z",
     "start_time": "2025-10-27T06:57:32.573018Z"
    }
   },
   "source": [
    "# 프롬프트 (사용자 입력 / 쿼리)\n",
    "messages = [\n",
    "    #{\"role\": \"user\", \"content\": \"Create a funny joke about chickens.\"}\n",
    "    {\"role\": \"user\", \"content\": \"describe LYCorp the japan it company.\"}\n",
    "]\n",
    "\n",
    "# 출력 생성\n",
    "output = generator(messages)\n",
    "print(output[0][\"generated_text\"])"
   ],
   "outputs": [
    {
     "name": "stdout",
     "output_type": "stream",
     "text": [
      " LYCorp is a hypothetical company, as there is no widely recognized company by this name in Japan or elsewhere as of my knowledge cutoff in 2023. However, if we were to create a profile for a fictional company named LYCorp in Japan, it might look something like this:\n",
      "\n",
      "**Company Overview:**\n",
      "\n",
      "LYCorp (Leveraging Yokohama Corporation) is a prominent Japanese multinational conglomerate headquartered in Yokohama, Japan. The company operates across various sectors, including technology, manufacturing, and services. LYCorp is known for its innovative approach to business and its commitment to sustainability and corporate social responsibility.\n",
      "\n",
      "**History:**\n",
      "\n",
      "Founded in 1985, LYCorp started as a small electronics manufacturer. Over the years, it expanded its operations to include a wide range of products and services. The company has grown significantly, both in terms of its physical presence and its global reach.\n",
      "\n",
      "**Key Sectors:**\n",
      "\n",
      "1. **Technology:** LYCorp has a strong presence in the technology sector, with a focus on consumer electronics, semiconductors, and software development. The company is known for its cutting-edge research and development, leading to numerous patents and innovative products.\n",
      "\n",
      "2. **Manufacturing:** LYCorp operates several manufacturing plants across Japan, specializing in automotive parts, machinery, and industrial equipment. The company is committed to maintaining high standards of quality and efficiency in its manufacturing processes.\n",
      "\n",
      "3. **Services:** LYCorp offers a range of services, including logistics, supply chain management, and IT consulting. The company has a strong network of partnerships and collaborations, enabling it to provide comprehensive solutions to its clients.\n",
      "\n",
      "**Corporate Culture:**\n",
      "\n",
      "LYCorp places a strong emphasis on its corporate culture, which is built around the principles of respect, teamwork, and continuous improvement. The company encourages its employees to pursue personal and professional growth, offering various training and development programs.\n",
      "\n",
      "**Sustainability and Social Responsibility:**\n",
      "\n",
      "LYCorp is committed to sustainability and social responsibility\n"
     ]
    }
   ],
   "execution_count": 16
  },
  {
   "metadata": {},
   "cell_type": "code",
   "outputs": [],
   "execution_count": null,
   "source": ""
  }
 ],
 "metadata": {
  "accelerator": "GPU",
  "colab": {
   "gpuType": "T4",
   "provenance": []
  },
  "kernelspec": {
   "display_name": "Python 3 (ipykernel)",
   "language": "python",
   "name": "python3"
  },
  "language_info": {
   "codemirror_mode": {
    "name": "ipython",
    "version": 3
   },
   "file_extension": ".py",
   "mimetype": "text/x-python",
   "name": "python",
   "nbconvert_exporter": "python",
   "pygments_lexer": "ipython3",
   "version": "3.8.18"
  }
 },
 "nbformat": 4,
 "nbformat_minor": 0
}
