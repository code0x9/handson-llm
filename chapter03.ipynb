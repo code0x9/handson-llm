{
 "cells": [
  {
   "cell_type": "markdown",
   "metadata": {
    "id": "adFzzFsB-Ofl"
   },
   "source": [
    "<h1>3장 대규모 언어 모델 자세히 살펴 보기</h1>\n",
    "<i>생성 LLM을 위한 트랜스포머 아키텍처 탐험하기</i>\n",
    "\n",
    "<a href=\"https://github.com/rickiepark/handson-llm\"><img src=\"https://img.shields.io/badge/GitHub%20Repository-black?logo=github\"></a>\n",
    "[![Open In Colab](https://colab.research.google.com/assets/colab-badge.svg)](https://colab.research.google.com/github/rickiepark/handson-llm/blob/main/chapter03.ipynb)\n",
    "\n",
    "---\n",
    "\n",
    "이 노트북은 <[핸즈온 LLM](https://tensorflow.blog/handson-llm/)> 책 3장의 코드를 담고 있습니다.\n",
    "\n",
    "---\n",
    "\n",
    "<a href=\"https://tensorflow.blog/handson-llm/\">\n",
    "<img src=\"https://tensorflow.blog/wp-content/uploads/2025/05/ed95b8eca688ec98a8_llm.jpg\" width=\"350\"/></a>"
   ]
  },
  {
   "cell_type": "markdown",
   "metadata": {
    "id": "h5dPfvShKZ4g"
   },
   "source": [
    "---\n",
    "\n",
    "💡 **NOTE**: 이 노트북의 코드를 실행하려면 GPU를 사용하는 것이 좋습니다. 구글 코랩에서는 **런타임 > 런타임 유형 변경 > 하드웨어 가속기 > T4 GPU**를 선택하세요.\n",
    "\n",
    "---"
   ]
  },
  {
   "cell_type": "code",
   "execution_count": 1,
   "metadata": {
    "colab": {
     "base_uri": "https://localhost:8080/"
    },
    "id": "78YkTOy0LSXb",
    "outputId": "7d43fbb3-cb89-4233-8c39-88121c90e038"
   },
   "outputs": [
    {
     "name": "stdout",
     "output_type": "stream",
     "text": [
      "Collecting transformers==4.48.3\n",
      "  Downloading transformers-4.48.3-py3-none-any.whl.metadata (44 kB)\n",
      "\u001b[?25l     \u001b[90m━━━━━━━━━━━━━━━━━━━━━━━━━━━━━━━━━━━━━━━━\u001b[0m \u001b[32m0.0/44.4 kB\u001b[0m \u001b[31m?\u001b[0m eta \u001b[36m-:--:--\u001b[0m\r",
      "\u001b[2K     \u001b[90m━━━━━━━━━━━━━━━━━━━━━━━━━━━━━━━━━━━━━━━━\u001b[0m \u001b[32m44.4/44.4 kB\u001b[0m \u001b[31m1.8 MB/s\u001b[0m eta \u001b[36m0:00:00\u001b[0m\n",
      "\u001b[?25hRequirement already satisfied: filelock in /usr/local/lib/python3.11/dist-packages (from transformers==4.48.3) (3.18.0)\n",
      "Requirement already satisfied: huggingface-hub<1.0,>=0.24.0 in /usr/local/lib/python3.11/dist-packages (from transformers==4.48.3) (0.32.4)\n",
      "Requirement already satisfied: numpy>=1.17 in /usr/local/lib/python3.11/dist-packages (from transformers==4.48.3) (2.0.2)\n",
      "Requirement already satisfied: packaging>=20.0 in /usr/local/lib/python3.11/dist-packages (from transformers==4.48.3) (24.2)\n",
      "Requirement already satisfied: pyyaml>=5.1 in /usr/local/lib/python3.11/dist-packages (from transformers==4.48.3) (6.0.2)\n",
      "Requirement already satisfied: regex!=2019.12.17 in /usr/local/lib/python3.11/dist-packages (from transformers==4.48.3) (2024.11.6)\n",
      "Requirement already satisfied: requests in /usr/local/lib/python3.11/dist-packages (from transformers==4.48.3) (2.32.3)\n",
      "Requirement already satisfied: tokenizers<0.22,>=0.21 in /usr/local/lib/python3.11/dist-packages (from transformers==4.48.3) (0.21.1)\n",
      "Requirement already satisfied: safetensors>=0.4.1 in /usr/local/lib/python3.11/dist-packages (from transformers==4.48.3) (0.5.3)\n",
      "Requirement already satisfied: tqdm>=4.27 in /usr/local/lib/python3.11/dist-packages (from transformers==4.48.3) (4.67.1)\n",
      "Requirement already satisfied: fsspec>=2023.5.0 in /usr/local/lib/python3.11/dist-packages (from huggingface-hub<1.0,>=0.24.0->transformers==4.48.3) (2025.3.2)\n",
      "Requirement already satisfied: typing-extensions>=3.7.4.3 in /usr/local/lib/python3.11/dist-packages (from huggingface-hub<1.0,>=0.24.0->transformers==4.48.3) (4.14.0)\n",
      "Requirement already satisfied: hf-xet<2.0.0,>=1.1.2 in /usr/local/lib/python3.11/dist-packages (from huggingface-hub<1.0,>=0.24.0->transformers==4.48.3) (1.1.2)\n",
      "Requirement already satisfied: charset-normalizer<4,>=2 in /usr/local/lib/python3.11/dist-packages (from requests->transformers==4.48.3) (3.4.2)\n",
      "Requirement already satisfied: idna<4,>=2.5 in /usr/local/lib/python3.11/dist-packages (from requests->transformers==4.48.3) (3.10)\n",
      "Requirement already satisfied: urllib3<3,>=1.21.1 in /usr/local/lib/python3.11/dist-packages (from requests->transformers==4.48.3) (2.4.0)\n",
      "Requirement already satisfied: certifi>=2017.4.17 in /usr/local/lib/python3.11/dist-packages (from requests->transformers==4.48.3) (2025.4.26)\n",
      "Downloading transformers-4.48.3-py3-none-any.whl (9.7 MB)\n",
      "\u001b[2K   \u001b[90m━━━━━━━━━━━━━━━━━━━━━━━━━━━━━━━━━━━━━━━━\u001b[0m \u001b[32m9.7/9.7 MB\u001b[0m \u001b[31m49.5 MB/s\u001b[0m eta \u001b[36m0:00:00\u001b[0m\n",
      "\u001b[?25hInstalling collected packages: transformers\n",
      "  Attempting uninstall: transformers\n",
      "    Found existing installation: transformers 4.52.4\n",
      "    Uninstalling transformers-4.52.4:\n",
      "      Successfully uninstalled transformers-4.52.4\n",
      "Successfully installed transformers-4.48.3\n"
     ]
    }
   ],
   "source": [
    "# Phi-3 모델과 호환성 때문에 transformers 4.48.3 버전을 사용합니다.\n",
    "!pip install transformers==4.48.3"
   ]
  },
  {
   "cell_type": "markdown",
   "metadata": {
    "id": "W_23Z_do-faF"
   },
   "source": [
    "# LLM 로드하기"
   ]
  },
  {
   "cell_type": "code",
   "execution_count": 2,
   "metadata": {
    "colab": {
     "base_uri": "https://localhost:8080/",
     "height": 656,
     "referenced_widgets": [
      "2ca4ab55ac3b4b64a5fad1c3e2eb5cee",
      "8c70b9c058ae4a82bfabad45b9698f44",
      "fc9bc85f3cf8494194409a6b374c8ae8",
      "1581e43eda51490a94916e4a70fd5be3",
      "0e4c8309843d4755bf007f3eb3d6c653",
      "7a7fbac6339145cb89d4ef727c96e71c",
      "705375a6cff949378b1a02a4b11e79b7",
      "a97be80c6b614aa2af9e4995fa862d5a",
      "62b652a7ff8e46a1b1edc4115584d7ad",
      "379f989ded5f4c8f99370bf8777f694e",
      "e9e86399403f4b11bc350b6c92f44c45",
      "38bbc94082f749f4b928b19e349c7f54",
      "5498cf33edc94813a2a177fe4a803584",
      "050456f71586424780313cd094cabcc1",
      "125bcfdeda8547c3ba4669a78bef1b2e",
      "8e1d583ae84a4720b2db61784cb23f5e",
      "270bcd79602b40868f61a6c7e756c90e",
      "60e2e60c1d5d4dc683d1c71e2a7a4ed1",
      "89717db4c3684aab9c3298460d5c5e75",
      "a7becd074aa24c02bd7eb84ce9fbd66b",
      "b3003c090eed4e9992bac33482d400c8",
      "bbe51488aed84ebb8750c191d144dacd",
      "146b2d5fddb0421e90b13f5fa84032aa",
      "7e8615cf467241f3abd5cf0c2060dc0a",
      "6cb0df6c208f495ab697d3e3036fefe5",
      "45e73e65dd2d492eb56d2a504cd882f9",
      "442ac51823044ed5ab327a303e66bb9b",
      "3f9bed37a6dd439a9034d322e4217041",
      "df9a915b550a483fb37e1a847fd1a175",
      "2a33824caafa4a1a83ad2a4e5661cd90",
      "9c81818ff93e47549eb7a933d9bf1efa",
      "cc387dbb84b649958a572c9bdb73cdde",
      "6eb5c502da454f768197452de55db2d1",
      "1f3fc4bcc1314f34b0c9528fb5cf3663",
      "6e94f6cd51c54f6493d329029fe360fe",
      "0fb66b80b4f14e6787669ca723407db3",
      "89016d4b4113461cac2b2e4717c5d49d",
      "9cd6c03d8a9347ffb51d4bc2fe0e71e5",
      "be0db2b84e3c49b7b276d2c543afcc67",
      "c2d789a616bd401dbd74c64349a1e2e6",
      "673a404365fa4c089cb3be8b70e4d2b1",
      "e9491808c21844c7a1f577268adcfa99",
      "b50f045c3db04ce984391ea890939122",
      "2ce5d4f756204283aaaf5d09bb306d7c",
      "48f180a89c184c9c8ea4f44ea6f58ffd",
      "9ab7e0bb253549b29d5ea36a4efdd531",
      "9b23302543c044edb7ed7dce97f66f9c",
      "7b00db7500c247f6985f2dbdbfb135f1",
      "ec98a8cef8b348d3882d9a78fca202b4",
      "88d326d3ceaf41b6894478edd033fac2",
      "f3f9aa6898e94f7280e0044f9fe8eb5f",
      "a1e8be32b10542afb7cb1a6c2227ce0b",
      "c4b716f78ea4450083264e5409d25561",
      "45fd0d9ce34847b58ab2c072a9b2b3ca",
      "1e9a27d3129445ac8c28af5765b9cc1d",
      "261aa4c4876842c5a59f76b6fa0573e3",
      "1c496abd637f46b7a0bfaf9a69fa5136",
      "1b68fa2289374176a1314b8e95a5d251",
      "331da940c558428fb5369f5cb95912d0",
      "217cddd577f64836bd3add7a09926ccb",
      "022d3c8e83e34a10b112bab8cb90a1c8",
      "a9da99e9dc53466ca9caacc7805539f6",
      "19f0678cc9db4a5e9a4a28adf0ade250",
      "3300ae0b2c174700bc0c6a369d3a1eee",
      "227c330e671d4d2e8ee200694aafedc2",
      "56182ad705674432a189f50f5520c995",
      "b5eefbff2e43478b8baf5926fb467a9a",
      "3ecfcbb1d516485f9084cde6380e356e",
      "1a050f24ff374daba2c0b765415c6e3f",
      "7b546838f1474b1a9e2236bf7a3cc8da",
      "6f7f55a4ca2740e7850a779bbb59ea74",
      "24e74e3b57b84559aae59a0c4177cc6f",
      "8913b3c16daf4f34b4013a49eb6525fa",
      "91c59ca3530c4db09fa4bc0d91a3622c",
      "73378a3f299645fead352f6b7dfbc3a7",
      "8a90b7011eb747508f90855901be2499",
      "36f82eb7f0bb4e58bf289239e3e94abe",
      "6da9f4d4fc9b4b3da7b5dfc0492412f9",
      "d98e1c37638548e4b57e32ab57a40ced",
      "ffdfcf74c734405ebadf8fedb3b44731",
      "f8e30f86f7134e60a86b7dbb777769be",
      "1a95c69b40734755bc0419f839db3013",
      "830722ec4dc644e59111e8e67f8eb280",
      "7cfff0f49d8b4f1ab94f2f9aa646d4d1",
      "9dd2dbcc12504e659878a09330e5e5b5",
      "574afab911474f0aabf4268a80c74e74",
      "cff8b8d0c21743d391daeeeeac7aa222",
      "869f5b4c9c4c4d56ba4815f29d22214f",
      "62763d36c8f043ca99bed5061b6129ab",
      "170eb38461734db99f21b7474dae52a1",
      "fa162f8d7b664971989754b817964c1b",
      "3d7823f9a8fe40db808afd60c6a6767a",
      "3f6b9762313e44e180b22e4be63ef945",
      "2f7bee0cceb64c64b7217a31ccb4be2e",
      "bb4030533d5e4faa9adef5ffe2e9a04c",
      "46b00ff198c64dc5a6edbe4843d8f22e",
      "d23ff5517df442ea934c9b1ef786c2f0",
      "0bcfbed383f043429dff76a37e0d7f31",
      "e9230a4561f84f369ca647a115c33256",
      "9b31d0cbd67e4e848d8ef0d73112dde3",
      "ce29764c7a0e4c28b8ab2a1a59521291",
      "56e29b4a806f4e3aafe5f9d4b1335261",
      "ad99cb0b41834d69afe5184825bf46ea",
      "1b8ab5c7b47943c39d26e2e1c4d6d672",
      "627d33c27eb84e97ba0c16f5e514d34b",
      "e72f4ebeb9d840bbbf377567fee0053c",
      "cccbc72cd5704a499a771b8d82c5c4eb",
      "023c09e22e6d4b4a8045cc07b1cf31fa",
      "79ab8fd4271d431e8bea487e2fe9f3b2",
      "e510b3f8ca3a4ff39e364dbd34d69f65",
      "6562d5f5898e4d4d80d35f48f2ee1183",
      "1e38f9391b094093b34a54e200ca8442",
      "63fff2f9c12a49da93c445018046bd91",
      "98709749eb3c4a53a4c3c55b9528401b",
      "2058649a42c241c89e97438d473d4a9b",
      "82303bd26c7f427b9a0a8ee286ec506d",
      "c49b43db9a0f400280b5505c7bbfafe1",
      "6d9504108ab2458d904f46c5c8b897a0",
      "8a4305d7d7fb40958742dad0f9f94f15",
      "87be69fe9d5841248c673b017a3df21b",
      "8934e978757d49dbb6d77942efbcfd26",
      "1f00bbe34b1841b7a7975bd973d94508",
      "710b31f5bf8148c4b4e7c26ccefe36f6",
      "04f404aae34c411fb10442b0b7c2152d",
      "29be7fd0f820470ab739499f62a8874c",
      "7eb2e1fcc258421ab4e565e053cf0b29",
      "9873751dfe2d4c70aede2bb86abdf8e9",
      "e00f861154724463b2634a35eceaa9aa",
      "8da280977a344fa9b6a9d13614334cfc",
      "a5eae4af19774dadb5666d51d936121d",
      "c7ac4f8d99714903bedf258f32f28438",
      "5dd9b55b53ca4d04809628e99c5aef21",
      "53f46c703d714740b2e22b4d894b1fbf",
      "9a8b8a1ade9749e0a5313797ba9077f7",
      "1e59b29775064fb79439c78947cff397",
      "dc594ce1a11f46978deed4b092500bb6",
      "39961a85d9454151835c7e4c4b9e0513",
      "a71c87e17ca6474bacdf1ea4edce1c10",
      "dbcd77af0f2f446aac7814b795216b68",
      "5704ca64595a4e9dab3a8f0c70bd20a7",
      "e70b2ad803ba40e8b508434225e4a07d",
      "0acd80f88e704e07871cfc425b162ae4",
      "ff4286fce36841f7be7b26cae9774eea",
      "1d44a596a6754794b319577ea0ba2c18",
      "f5e493f7e7014eac8ea48ca2092a6e62",
      "22a610138ec5435fae98d5ed4c99d885",
      "688f442ee78b44958440966319d04b43",
      "595fda3384ab4f92a05a10f721c171dd",
      "27ced7a03f6a490282320faca9072be2",
      "b18e8e75ee254135ab17177138d7c229",
      "776292a3521042f9b73b057e8a121cf2",
      "0393debc991049d5842dc6d45303f053",
      "d7059de9525b42a983c4ced754649a66",
      "ec54e6b3c31942f9b9fd203c92f8ce8f"
     ]
    },
    "id": "-5RLd6dI-Ytm",
    "outputId": "87cc21c1-6e4d-46b3-9c05-8762f1e033e7"
   },
   "outputs": [
    {
     "data": {
      "application/vnd.jupyter.widget-view+json": {
       "model_id": "2ca4ab55ac3b4b64a5fad1c3e2eb5cee",
       "version_major": 2,
       "version_minor": 0
      },
      "text/plain": [
       "tokenizer_config.json:   0%|          | 0.00/3.44k [00:00<?, ?B/s]"
      ]
     },
     "metadata": {},
     "output_type": "display_data"
    },
    {
     "data": {
      "application/vnd.jupyter.widget-view+json": {
       "model_id": "38bbc94082f749f4b928b19e349c7f54",
       "version_major": 2,
       "version_minor": 0
      },
      "text/plain": [
       "tokenizer.model:   0%|          | 0.00/500k [00:00<?, ?B/s]"
      ]
     },
     "metadata": {},
     "output_type": "display_data"
    },
    {
     "data": {
      "application/vnd.jupyter.widget-view+json": {
       "model_id": "146b2d5fddb0421e90b13f5fa84032aa",
       "version_major": 2,
       "version_minor": 0
      },
      "text/plain": [
       "tokenizer.json:   0%|          | 0.00/1.94M [00:00<?, ?B/s]"
      ]
     },
     "metadata": {},
     "output_type": "display_data"
    },
    {
     "data": {
      "application/vnd.jupyter.widget-view+json": {
       "model_id": "1f3fc4bcc1314f34b0c9528fb5cf3663",
       "version_major": 2,
       "version_minor": 0
      },
      "text/plain": [
       "added_tokens.json:   0%|          | 0.00/306 [00:00<?, ?B/s]"
      ]
     },
     "metadata": {},
     "output_type": "display_data"
    },
    {
     "data": {
      "application/vnd.jupyter.widget-view+json": {
       "model_id": "48f180a89c184c9c8ea4f44ea6f58ffd",
       "version_major": 2,
       "version_minor": 0
      },
      "text/plain": [
       "special_tokens_map.json:   0%|          | 0.00/599 [00:00<?, ?B/s]"
      ]
     },
     "metadata": {},
     "output_type": "display_data"
    },
    {
     "data": {
      "application/vnd.jupyter.widget-view+json": {
       "model_id": "261aa4c4876842c5a59f76b6fa0573e3",
       "version_major": 2,
       "version_minor": 0
      },
      "text/plain": [
       "config.json:   0%|          | 0.00/967 [00:00<?, ?B/s]"
      ]
     },
     "metadata": {},
     "output_type": "display_data"
    },
    {
     "data": {
      "application/vnd.jupyter.widget-view+json": {
       "model_id": "b5eefbff2e43478b8baf5926fb467a9a",
       "version_major": 2,
       "version_minor": 0
      },
      "text/plain": [
       "configuration_phi3.py:   0%|          | 0.00/11.2k [00:00<?, ?B/s]"
      ]
     },
     "metadata": {},
     "output_type": "display_data"
    },
    {
     "name": "stderr",
     "output_type": "stream",
     "text": [
      "A new version of the following files was downloaded from https://huggingface.co/microsoft/Phi-3-mini-4k-instruct:\n",
      "- configuration_phi3.py\n",
      ". Make sure to double-check they do not contain any added malicious code. To avoid downloading new versions of the code file, you can pin a revision.\n"
     ]
    },
    {
     "data": {
      "application/vnd.jupyter.widget-view+json": {
       "model_id": "6da9f4d4fc9b4b3da7b5dfc0492412f9",
       "version_major": 2,
       "version_minor": 0
      },
      "text/plain": [
       "modeling_phi3.py:   0%|          | 0.00/73.2k [00:00<?, ?B/s]"
      ]
     },
     "metadata": {},
     "output_type": "display_data"
    },
    {
     "name": "stderr",
     "output_type": "stream",
     "text": [
      "A new version of the following files was downloaded from https://huggingface.co/microsoft/Phi-3-mini-4k-instruct:\n",
      "- modeling_phi3.py\n",
      ". Make sure to double-check they do not contain any added malicious code. To avoid downloading new versions of the code file, you can pin a revision.\n",
      "WARNING:transformers_modules.microsoft.Phi-3-mini-4k-instruct.0a67737cc96d2554230f90338b163bc6380a2a85.modeling_phi3:`flash-attention` package not found, consider installing for better performance: No module named 'flash_attn'.\n",
      "WARNING:transformers_modules.microsoft.Phi-3-mini-4k-instruct.0a67737cc96d2554230f90338b163bc6380a2a85.modeling_phi3:Current `flash-attention` does not support `window_size`. Either upgrade or use `attn_implementation='eager'`.\n"
     ]
    },
    {
     "data": {
      "application/vnd.jupyter.widget-view+json": {
       "model_id": "62763d36c8f043ca99bed5061b6129ab",
       "version_major": 2,
       "version_minor": 0
      },
      "text/plain": [
       "model.safetensors.index.json:   0%|          | 0.00/16.5k [00:00<?, ?B/s]"
      ]
     },
     "metadata": {},
     "output_type": "display_data"
    },
    {
     "data": {
      "application/vnd.jupyter.widget-view+json": {
       "model_id": "9b31d0cbd67e4e848d8ef0d73112dde3",
       "version_major": 2,
       "version_minor": 0
      },
      "text/plain": [
       "Downloading shards:   0%|          | 0/2 [00:00<?, ?it/s]"
      ]
     },
     "metadata": {},
     "output_type": "display_data"
    },
    {
     "data": {
      "application/vnd.jupyter.widget-view+json": {
       "model_id": "6562d5f5898e4d4d80d35f48f2ee1183",
       "version_major": 2,
       "version_minor": 0
      },
      "text/plain": [
       "model-00001-of-00002.safetensors:   0%|          | 0.00/4.97G [00:00<?, ?B/s]"
      ]
     },
     "metadata": {},
     "output_type": "display_data"
    },
    {
     "data": {
      "application/vnd.jupyter.widget-view+json": {
       "model_id": "1f00bbe34b1841b7a7975bd973d94508",
       "version_major": 2,
       "version_minor": 0
      },
      "text/plain": [
       "model-00002-of-00002.safetensors:   0%|          | 0.00/2.67G [00:00<?, ?B/s]"
      ]
     },
     "metadata": {},
     "output_type": "display_data"
    },
    {
     "data": {
      "application/vnd.jupyter.widget-view+json": {
       "model_id": "53f46c703d714740b2e22b4d894b1fbf",
       "version_major": 2,
       "version_minor": 0
      },
      "text/plain": [
       "Loading checkpoint shards:   0%|          | 0/2 [00:00<?, ?it/s]"
      ]
     },
     "metadata": {},
     "output_type": "display_data"
    },
    {
     "data": {
      "application/vnd.jupyter.widget-view+json": {
       "model_id": "1d44a596a6754794b319577ea0ba2c18",
       "version_major": 2,
       "version_minor": 0
      },
      "text/plain": [
       "generation_config.json:   0%|          | 0.00/181 [00:00<?, ?B/s]"
      ]
     },
     "metadata": {},
     "output_type": "display_data"
    },
    {
     "name": "stderr",
     "output_type": "stream",
     "text": [
      "Device set to use cuda\n"
     ]
    }
   ],
   "source": [
    "from transformers import AutoModelForCausalLM, AutoTokenizer, pipeline\n",
    "\n",
    "# 모델과 토크나이저를 로드합니다.\n",
    "tokenizer = AutoTokenizer.from_pretrained(\"microsoft/Phi-3-mini-4k-instruct\")\n",
    "\n",
    "model = AutoModelForCausalLM.from_pretrained(\n",
    "    \"microsoft/Phi-3-mini-4k-instruct\",\n",
    "    device_map=\"cuda\",\n",
    "    torch_dtype=\"auto\",\n",
    "    trust_remote_code=True,\n",
    ")\n",
    "\n",
    "# Create a pipeline\n",
    "generator = pipeline(\n",
    "    \"text-generation\",\n",
    "    model=model,\n",
    "    tokenizer=tokenizer,\n",
    "    return_full_text=False,\n",
    "    max_new_tokens=50,\n",
    "    do_sample=False,\n",
    ")"
   ]
  },
  {
   "cell_type": "markdown",
   "metadata": {
    "id": "REqcz-ID_XgV"
   },
   "source": [
    "# 훈련된 트랜스포머 LLM의 입력과 출력\n"
   ]
  },
  {
   "cell_type": "code",
   "execution_count": 3,
   "metadata": {
    "colab": {
     "base_uri": "https://localhost:8080/"
    },
    "id": "17h6TPHluJ-i",
    "outputId": "8a5c2db4-34b2-480e-b92f-f1dae6b93cbc"
   },
   "outputs": [
    {
     "name": "stderr",
     "output_type": "stream",
     "text": [
      "The `seen_tokens` attribute is deprecated and will be removed in v4.41. Use the `cache_position` model input instead.\n",
      "`get_max_cache()` is deprecated for all Cache classes. Use `get_max_cache_shape()` instead. Calling `get_max_cache()` will raise error from v4.48\n",
      "WARNING:transformers_modules.microsoft.Phi-3-mini-4k-instruct.0a67737cc96d2554230f90338b163bc6380a2a85.modeling_phi3:You are not running the flash-attention implementation, expect numerical differences.\n"
     ]
    },
    {
     "name": "stdout",
     "output_type": "stream",
     "text": [
      " Mention the steps you're taking to prevent it in the future.\n",
      "\n",
      "Dear Sarah,\n",
      "\n",
      "I hope this message finds you well. I am writing to express my deepest apologies for the unfortunate incident that occurred in\n"
     ]
    }
   ],
   "source": [
    "prompt = \"Write an email apologizing to Sarah for the tragic gardening mishap. Explain how it happened.\"\n",
    "\n",
    "output = generator(prompt)\n",
    "\n",
    "print(output[0]['generated_text'])"
   ]
  },
  {
   "cell_type": "code",
   "execution_count": 4,
   "metadata": {
    "colab": {
     "base_uri": "https://localhost:8080/"
    },
    "id": "eoFkdTd6_g5o",
    "outputId": "276127da-af78-404a-976b-5e01e0f8c859"
   },
   "outputs": [
    {
     "name": "stdout",
     "output_type": "stream",
     "text": [
      "Phi3ForCausalLM(\n",
      "  (model): Phi3Model(\n",
      "    (embed_tokens): Embedding(32064, 3072, padding_idx=32000)\n",
      "    (embed_dropout): Dropout(p=0.0, inplace=False)\n",
      "    (layers): ModuleList(\n",
      "      (0-31): 32 x Phi3DecoderLayer(\n",
      "        (self_attn): Phi3Attention(\n",
      "          (o_proj): Linear(in_features=3072, out_features=3072, bias=False)\n",
      "          (qkv_proj): Linear(in_features=3072, out_features=9216, bias=False)\n",
      "          (rotary_emb): Phi3RotaryEmbedding()\n",
      "        )\n",
      "        (mlp): Phi3MLP(\n",
      "          (gate_up_proj): Linear(in_features=3072, out_features=16384, bias=False)\n",
      "          (down_proj): Linear(in_features=8192, out_features=3072, bias=False)\n",
      "          (activation_fn): SiLU()\n",
      "        )\n",
      "        (input_layernorm): Phi3RMSNorm()\n",
      "        (resid_attn_dropout): Dropout(p=0.0, inplace=False)\n",
      "        (resid_mlp_dropout): Dropout(p=0.0, inplace=False)\n",
      "        (post_attention_layernorm): Phi3RMSNorm()\n",
      "      )\n",
      "    )\n",
      "    (norm): Phi3RMSNorm()\n",
      "  )\n",
      "  (lm_head): Linear(in_features=3072, out_features=32064, bias=False)\n",
      ")\n"
     ]
    }
   ],
   "source": [
    "print(model)"
   ]
  },
  {
   "cell_type": "markdown",
   "metadata": {
    "id": "RTrwzB67BYVY"
   },
   "source": [
    "# 확률 분포로부터 하나의 토큰 선택하기(샘플링/디코딩)"
   ]
  },
  {
   "cell_type": "code",
   "execution_count": 5,
   "metadata": {
    "id": "sEcxYgJxBYbJ"
   },
   "outputs": [],
   "source": [
    "prompt = \"The capital of France is\"\n",
    "\n",
    "# 입력 프롬프트를 토큰화합니다.\n",
    "input_ids = tokenizer(prompt, return_tensors=\"pt\").input_ids\n",
    "\n",
    "# 입력 토큰을 GPU에 배치합니다.\n",
    "input_ids = input_ids.to(\"cuda\")\n",
    "\n",
    "# lm_head 앞에 있는 model의 출력을 얻습니다.\n",
    "model_output = model.model(input_ids)\n",
    "\n",
    "# lm_head의 출력을 얻습니다.\n",
    "lm_head_output = model.lm_head(model_output[0])"
   ]
  },
  {
   "cell_type": "code",
   "execution_count": 6,
   "metadata": {
    "colab": {
     "base_uri": "https://localhost:8080/",
     "height": 36
    },
    "id": "68YUSS4GBf9Q",
    "outputId": "48f0a372-2366-4156-b85a-928adc01b8a1"
   },
   "outputs": [
    {
     "data": {
      "application/vnd.google.colaboratory.intrinsic+json": {
       "type": "string"
      },
      "text/plain": [
       "'Paris'"
      ]
     },
     "execution_count": 6,
     "metadata": {},
     "output_type": "execute_result"
    }
   ],
   "source": [
    "token_id = lm_head_output[0,-1].argmax(-1)\n",
    "tokenizer.decode(token_id)"
   ]
  },
  {
   "cell_type": "code",
   "execution_count": 7,
   "metadata": {
    "colab": {
     "base_uri": "https://localhost:8080/"
    },
    "id": "cWWrfC5oBjwp",
    "outputId": "42c737d7-e713-4d45-d250-a6091de8c2ef"
   },
   "outputs": [
    {
     "data": {
      "text/plain": [
       "torch.Size([1, 5, 3072])"
      ]
     },
     "execution_count": 7,
     "metadata": {},
     "output_type": "execute_result"
    }
   ],
   "source": [
    "model_output[0].shape"
   ]
  },
  {
   "cell_type": "code",
   "execution_count": 8,
   "metadata": {
    "colab": {
     "base_uri": "https://localhost:8080/"
    },
    "id": "nC1PdOnTBnxZ",
    "outputId": "c61e8317-1af8-4b1b-cf40-b1c085416a0d"
   },
   "outputs": [
    {
     "data": {
      "text/plain": [
       "torch.Size([1, 5, 32064])"
      ]
     },
     "execution_count": 8,
     "metadata": {},
     "output_type": "execute_result"
    }
   ],
   "source": [
    "lm_head_output.shape"
   ]
  },
  {
   "cell_type": "markdown",
   "metadata": {
    "id": "Of2_rP4QBqrZ"
   },
   "source": [
    "# 키와 값을 캐싱하여 생성 속도 높이기\n"
   ]
  },
  {
   "cell_type": "code",
   "execution_count": 9,
   "metadata": {
    "id": "B0n6JhNHBrin"
   },
   "outputs": [],
   "source": [
    "prompt = \"Write a very long email apologizing to Sarah for the tragic gardening mishap. Explain how it happened.\"\n",
    "\n",
    "# 입력 프롬프트를 토큰화합니다.\n",
    "input_ids = tokenizer(prompt, return_tensors=\"pt\").input_ids\n",
    "input_ids = input_ids.to(\"cuda\")"
   ]
  },
  {
   "cell_type": "code",
   "execution_count": 10,
   "metadata": {
    "colab": {
     "base_uri": "https://localhost:8080/"
    },
    "id": "BwIvt6jSByAF",
    "outputId": "7ee71515-329e-4dec-89b4-7a3434cdcdb8"
   },
   "outputs": [
    {
     "name": "stderr",
     "output_type": "stream",
     "text": [
      "The attention mask is not set and cannot be inferred from input because pad token is same as eos token. As a consequence, you may observe unexpected behavior. Please pass your input's `attention_mask` to obtain reliable results.\n"
     ]
    },
    {
     "name": "stdout",
     "output_type": "stream",
     "text": [
      "6.01 s ± 1.66 s per loop (mean ± std. dev. of 7 runs, 1 loop each)\n"
     ]
    }
   ],
   "source": [
    "%%timeit -n 1\n",
    "# 텍스트를 생성합니다.\n",
    "generation_output = model.generate(\n",
    "  input_ids=input_ids,\n",
    "  max_new_tokens=100,\n",
    "  use_cache=True\n",
    ")"
   ]
  },
  {
   "cell_type": "code",
   "execution_count": 11,
   "metadata": {
    "colab": {
     "base_uri": "https://localhost:8080/"
    },
    "id": "dFb1dcvJByCW",
    "outputId": "45952c29-a40d-48e9-8c4f-d520b0c8543a"
   },
   "outputs": [
    {
     "name": "stdout",
     "output_type": "stream",
     "text": [
      "31.3 s ± 92.1 ms per loop (mean ± std. dev. of 7 runs, 1 loop each)\n"
     ]
    }
   ],
   "source": [
    "%%timeit -n 1\n",
    "# 텍스트를 생성합니다.\n",
    "generation_output = model.generate(\n",
    "  input_ids=input_ids,\n",
    "  max_new_tokens=100,\n",
    "  use_cache=False\n",
    ")"
   ]
  }
 ],
 "metadata": {
  "accelerator": "GPU",
  "colab": {
   "gpuType": "T4",
   "provenance": []
  },
  "kernelspec": {
   "display_name": "Python 3 (ipykernel)",
   "language": "python",
   "name": "python3"
  },
  "language_info": {
   "codemirror_mode": {
    "name": "ipython",
    "version": 3
   },
   "file_extension": ".py",
   "mimetype": "text/x-python",
   "name": "python",
   "nbconvert_exporter": "python",
   "pygments_lexer": "ipython3",
   "version": "3.11.5"
  },
  "widgets": {
   "application/vnd.jupyter.widget-state+json": {
    "state": {},
    "version_major": 2,
    "version_minor": 0
   }
  }
 },
 "nbformat": 4,
 "nbformat_minor": 4
}
