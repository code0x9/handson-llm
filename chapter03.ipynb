{
 "cells": [
  {
   "cell_type": "markdown",
   "metadata": {
    "id": "adFzzFsB-Ofl"
   },
   "source": [
    "<h1>3장 대규모 언어 모델 자세히 살펴 보기</h1>\n",
    "<i>생성 LLM을 위한 트랜스포머 아키텍처 탐험하기</i>\n",
    "\n",
    "<a href=\"https://github.com/rickiepark/handson-llm\"><img src=\"https://img.shields.io/badge/GitHub%20Repository-black?logo=github\"></a>\n",
    "[![Open In Colab](https://colab.research.google.com/assets/colab-badge.svg)](https://colab.research.google.com/github/rickiepark/handson-llm/blob/main/chapter03.ipynb)\n",
    "\n",
    "---\n",
    "\n",
    "이 노트북은 <[핸즈온 LLM](https://www.amazon.com/Hands-Large-Language-Models-Understanding/dp/1098150961)> 책 3장의 코드를 담고 있습니다.\n",
    "\n",
    "---\n",
    "\n",
    "<a href=\"https://www.amazon.com/Hands-Large-Language-Models-Understanding/dp/1098150961\">\n",
    "<img src=\"https://raw.githubusercontent.com/HandsOnLLM/Hands-On-Large-Language-Models/main/images/book_cover.png\" width=\"350\"/></a>"
   ]
  },
  {
   "cell_type": "markdown",
   "metadata": {
    "id": "h5dPfvShKZ4g"
   },
   "source": [
    "---\n",
    "\n",
    "💡 **NOTE**: 이 노트북의 코드를 실행하려면 GPU를 사용하는 것이 좋습니다. 구글 코랩에서는 **런타임 > 런타임 유형 변경 > 하드웨어 가속기 > T4 GPU**를 선택하세요.\n",
    "\n",
    "---"
   ]
  },
  {
   "cell_type": "markdown",
   "metadata": {
    "id": "W_23Z_do-faF"
   },
   "source": [
    "# LLM 로드하기"
   ]
  },
  {
   "cell_type": "code",
   "execution_count": null,
   "metadata": {
    "colab": {
     "base_uri": "https://localhost:8080/",
     "height": 631,
     "referenced_widgets": [
      "39b4877005134481b2d8594ca49f507f",
      "6613883dc35c40b68744cc031b39d210",
      "4f086b27d307486683eb6d8c0f64ddf5",
      "b43ebed055c5490e92284bd585ce44bb",
      "245ead9d7cdc4c7cb09fbfef425502b5",
      "469df07ac6e84db68b989c49f02aa0a9",
      "dacba05088064628b3c0e4f60daea926",
      "d4ce4ce3c58e4607b828d047381c6d24",
      "27de398b695841c3821d2aa5bad1e92b",
      "a30383fa4a044ae9b6869ba4de3492d3",
      "38de343ec890475bb57867ece472c512",
      "45975c96599147c69890181fca977220",
      "c61214d868ab40eb9d3212fcb375564c",
      "77288e2e8f5e4c1fa7e9e02054b0dcd8",
      "1b9f0b1ff26547fd99432aee006fdd64",
      "ceefc726dfdf46eb8d7bbf1facbd5cff",
      "cf78149e05784b97969d77e7f8a31082",
      "63388b397a57491ebe392f823a913e87",
      "467d03f6573746a29195b6e8a6f275ca",
      "f7ef5f2f51204a73a23c50ee59d72a92",
      "d10c7be99f67421cb42d48ce6ca818a2",
      "7a4cc4ec245c437db4bd763878b4154d",
      "f5d90d88957e437ea0df901c651cf4d9",
      "94251ef3a3d2411289fa882306f1ffeb",
      "13a85a7fa66e4d0f8ce4a89826e5f650",
      "09c9b91b794843e0945566eae7e488ee",
      "b91a1bcdf96e4dbe985f5363ba2f6eec",
      "1eda781932114391a61224230232d581",
      "0be3da069c6a4327afd1559811686722",
      "c727d3935e074cd5a328c8ed101ad2d3",
      "1465ec2ea1d64216ab4ac0d810c2cbe4",
      "598a28629efc420aabedf7652b928bb3",
      "022909dfd6854d9a8a1da0079c749a19",
      "0c230899e74449399e286f51f63a9d0a",
      "8e42b179bdc34fc890f88a7b5b365f03",
      "3321ec8fa6244b58a04097e5c8ea13dc",
      "08edae265bc84c6e91b7a9d1e300c1bc",
      "7384fc0266fc44628f446d1bfba53652",
      "b3abb55533004caf83b3ef2c07cc1742",
      "fc69e8365af94b3aa86294a46d7feae5",
      "995cb2e135004681a0d6131ab6d23f67",
      "1f322acb7bf54f8683acc75e94e0e16b",
      "0ab8f334a5dc4044b7fea4d306344b21",
      "a30d0fe7a7e14173808042ec5c052ce7",
      "8eb9d9038828418fa4df802c07efc5e9",
      "62dec46014fa4808910f06e3b1a7f704",
      "0818acf451954319a264d770cc8428be",
      "51da2c6a40284296b30e403a6ccd7e1f",
      "b2bd4f213b0b4abbbbabfa65ca1e5d47",
      "97878f9e13fa456db7775107f62f3ea4",
      "37b2cecf4ca14245a3a20d738a614d2e",
      "a5a2d636a19e402f8d83d4159d4a5f70",
      "5fc54c7589594a2fb26e608dd9afbb25",
      "fbb1218f87124c568f1822f90533356c",
      "99746c83fb21451e89e61d24fd307135",
      "4c9bb32bb3864b2cbb3e04d120ecb5bd",
      "c8335ec690184730b36fca9232715dd0",
      "30d2403f8d3b427a9ec97a9a2a9f1f21",
      "43da5d78b9ca466abed2055df970e031",
      "f4344d7e7fef4838a6d820ccd19eda93",
      "6dcf84ff80524af1a2c1ee02f70f2c1b",
      "e2dc991d7be445eaa7b1d7696e84d9f1",
      "9439336cea464b68b2401ae26e7215b1",
      "da1c002a550d4d128a62ef324a16a841",
      "37df5d65d42f429abab8f2544609a6f2",
      "5568569024134757b58a7bdbb725d997",
      "2297e725257e47a8a81dc2a1923b5748",
      "fdeba2d7320847f7b7ccd03fc9f445f0",
      "1491a3aeb95143f2b8c392347aef28e8",
      "b8f91e546aa24147a425b2e998c44ac8",
      "c6d8b9b586364ef1942d945a2eba98ab",
      "eecfebc14c654354b2aa22d7365bc742",
      "6c4b2b6580dd47fdafb82920dd4e6563",
      "4c086f62c93b44b88da8f98ec9b3c8be",
      "6f466aaa016049c3a47ce7ba4197f8a9",
      "cebc4deb6f324ff38df118d9d86afd63",
      "3df4f1f7c25d471b94495fbe912e925d",
      "67cb9e6a069942a5be8b40a21a2af1db",
      "40208297a8da420b972627a3867fc9c1",
      "a1e9366c776e4e2f91af2e24e5df2acc",
      "1433ab647b074d9babcc69efcab1d7b5",
      "b8f41e31125c4ce8aea384c6004ece17",
      "0c7467a114cd4ade8b96fc79a0c4d406",
      "e59cfcc408b74911aee0d728a940cc0f",
      "7009e7197ff84a978e844b600fc5fe12",
      "e0c4dddcc4af4929a4cb2e21507b6e5e",
      "b64d0eb887dd44c2b0db5c86432bce01",
      "56807a6c765f4fd3a7fbec0fe5e88d47",
      "2e578dfb4d1941ff97c8419d9ed5c2c7",
      "cef700c61dce41d5be598c8fa414758c",
      "e027287379084ad3b0c4cab17844a371",
      "fb64fd33922a4ffcb91ca551994a2d04",
      "47bf8d609efe4ad4a9a2976cb9a39cbd",
      "6c13e022e51f4cdf8bd28cbe98d77e1a",
      "cd25458a2ec4481da474f33a901ae5ba",
      "67e55baa29ff4f65893f16185bb94289",
      "16c9d98630af47cb87517619c0723fe6",
      "21e31d6f04354a28ac8499d01924d7db",
      "0a94bf9944f944c9b70dba5eae2657ce",
      "9ac975eb48ad4628a4ca6372fed865e4",
      "d9ce8afbd4154679a211ffa6211bc407",
      "53cbc0012645422f9a7110ced8fcabee",
      "b4579157befa4c3aaf75b824ae156b47",
      "0b1b2db1bd534f91a4d8b25f5ba32b60",
      "de676e47984a4c8cb16afe5424a1dfb1",
      "c4c2ce44bae54437850216c2dc08a02f",
      "5592fc4f84a7400490913e5d2c3ce92f",
      "0c2500cd049a475893698e038b99bcf5",
      "931b0ef395b64630b4f9b596f0d7b5d9",
      "b2093b05edd042fbba6424303e4bb154",
      "305c657671a4437098c42043d5fc39bd",
      "a4240b1a29824bc48940f76f781af1d6",
      "c76fdd5f8fc44f3db17061096c019b16",
      "c5f4bdbad28c4f8f9d1e3f2787bc3b61",
      "fca428cb6147489393168ee0174914dd",
      "2ad0b039f77648fda23509b583314396",
      "095cfd15ffd843f8a4b638bdd3df972b",
      "b1c6391d8aaa4f96908fdfcbe695d159",
      "6d504f90c2b74dc198bdb5369ce48102",
      "fbc612df7d374ea091904db62db7f03a",
      "d2a0d86a6b224d5286bb7604c42bf88e",
      "ed3c18308ca5479c821877e435bfd0fa",
      "53b0fbd65ddb4c1b853f76ecc0085f53",
      "4e9f840cc6b64a7981d4b5c1f5a727b8",
      "5897c2faf7ca490aa6ea764a151dc481",
      "abd1d0eb2daf4395bc6e0be77efe3152",
      "9da17e60b6d94bb8a248fa746037202c",
      "764439082bc140c09444215c7c884d42",
      "ec7c03dc26f44e3dbedcbed46af15f2a",
      "5d3a964ebdba471a96d707070419746b",
      "8b0fdf68d2e34a10b0a9489d487e893d",
      "0031c111467a43bcad6a39daf7c08997",
      "be13a0b54f76457080e78f313c435dca",
      "4ebc8592602147eda7b16081f736fc55",
      "b435303a7350400d9bf39df9fbc7283f",
      "a1bc0e10c52940b8991277f3b95f0930",
      "daf7289620ad4849a9afbf088db5157a",
      "c993e8a9e224416fb47a9fc56e335bf4",
      "cdd3703b7f264382bf171219418b9c46",
      "19ca19fdf81042c9bcdab0559fc23581",
      "ce79c2dc80ae471c99d1183435e28d48",
      "6348314159c14322b35bcc54e55a7a0b",
      "dd31aea05ee441b6910065cf397553a8",
      "06dcc2b8e431449192f373b72ca59b24",
      "c74274c79785413b991b052df87e04c0",
      "07a488abd0264f78a979a6fedb9767e4",
      "99bd7f52509c4b4d8524621b4db00999",
      "1660d7a97169414e91431064b5f952dc",
      "6cacbbee323c471d94ca0708cd842bed",
      "4eaa821a49b04f819330f1e3de34a248",
      "b60969c92c6a4b5fb2516be45b8d8af9",
      "66e7da4beec14911a3d3ef5878a04665",
      "9c13290af3cc4bbabb148102a6fba98b",
      "9f1ca05fafc1494b8656a83449a27efc"
     ]
    },
    "id": "-5RLd6dI-Ytm",
    "outputId": "e1911b6e-0f67-4dc0-fa9a-4d14ab98dec8"
   },
   "outputs": [
    {
     "data": {
      "application/vnd.jupyter.widget-view+json": {
       "model_id": "39b4877005134481b2d8594ca49f507f",
       "version_major": 2,
       "version_minor": 0
      },
      "text/plain": [
       "tokenizer_config.json:   0%|          | 0.00/3.44k [00:00<?, ?B/s]"
      ]
     },
     "metadata": {},
     "output_type": "display_data"
    },
    {
     "data": {
      "application/vnd.jupyter.widget-view+json": {
       "model_id": "45975c96599147c69890181fca977220",
       "version_major": 2,
       "version_minor": 0
      },
      "text/plain": [
       "tokenizer.model:   0%|          | 0.00/500k [00:00<?, ?B/s]"
      ]
     },
     "metadata": {},
     "output_type": "display_data"
    },
    {
     "data": {
      "application/vnd.jupyter.widget-view+json": {
       "model_id": "f5d90d88957e437ea0df901c651cf4d9",
       "version_major": 2,
       "version_minor": 0
      },
      "text/plain": [
       "tokenizer.json:   0%|          | 0.00/1.94M [00:00<?, ?B/s]"
      ]
     },
     "metadata": {},
     "output_type": "display_data"
    },
    {
     "data": {
      "application/vnd.jupyter.widget-view+json": {
       "model_id": "0c230899e74449399e286f51f63a9d0a",
       "version_major": 2,
       "version_minor": 0
      },
      "text/plain": [
       "added_tokens.json:   0%|          | 0.00/306 [00:00<?, ?B/s]"
      ]
     },
     "metadata": {},
     "output_type": "display_data"
    },
    {
     "data": {
      "application/vnd.jupyter.widget-view+json": {
       "model_id": "8eb9d9038828418fa4df802c07efc5e9",
       "version_major": 2,
       "version_minor": 0
      },
      "text/plain": [
       "special_tokens_map.json:   0%|          | 0.00/599 [00:00<?, ?B/s]"
      ]
     },
     "metadata": {},
     "output_type": "display_data"
    },
    {
     "data": {
      "application/vnd.jupyter.widget-view+json": {
       "model_id": "4c9bb32bb3864b2cbb3e04d120ecb5bd",
       "version_major": 2,
       "version_minor": 0
      },
      "text/plain": [
       "config.json:   0%|          | 0.00/967 [00:00<?, ?B/s]"
      ]
     },
     "metadata": {},
     "output_type": "display_data"
    },
    {
     "data": {
      "application/vnd.jupyter.widget-view+json": {
       "model_id": "2297e725257e47a8a81dc2a1923b5748",
       "version_major": 2,
       "version_minor": 0
      },
      "text/plain": [
       "configuration_phi3.py:   0%|          | 0.00/11.2k [00:00<?, ?B/s]"
      ]
     },
     "metadata": {},
     "output_type": "display_data"
    },
    {
     "name": "stderr",
     "output_type": "stream",
     "text": [
      "A new version of the following files was downloaded from https://huggingface.co/microsoft/Phi-3-mini-4k-instruct:\n",
      "- configuration_phi3.py\n",
      ". Make sure to double-check they do not contain any added malicious code. To avoid downloading new versions of the code file, you can pin a revision.\n"
     ]
    },
    {
     "data": {
      "application/vnd.jupyter.widget-view+json": {
       "model_id": "67cb9e6a069942a5be8b40a21a2af1db",
       "version_major": 2,
       "version_minor": 0
      },
      "text/plain": [
       "modeling_phi3.py:   0%|          | 0.00/73.2k [00:00<?, ?B/s]"
      ]
     },
     "metadata": {},
     "output_type": "display_data"
    },
    {
     "name": "stderr",
     "output_type": "stream",
     "text": [
      "A new version of the following files was downloaded from https://huggingface.co/microsoft/Phi-3-mini-4k-instruct:\n",
      "- modeling_phi3.py\n",
      ". Make sure to double-check they do not contain any added malicious code. To avoid downloading new versions of the code file, you can pin a revision.\n",
      "WARNING:transformers_modules.microsoft.Phi-3-mini-4k-instruct.0a67737cc96d2554230f90338b163bc6380a2a85.modeling_phi3:`flash-attention` package not found, consider installing for better performance: No module named 'flash_attn'.\n",
      "WARNING:transformers_modules.microsoft.Phi-3-mini-4k-instruct.0a67737cc96d2554230f90338b163bc6380a2a85.modeling_phi3:Current `flash-attention` does not support `window_size`. Either upgrade or use `attn_implementation='eager'`.\n"
     ]
    },
    {
     "data": {
      "application/vnd.jupyter.widget-view+json": {
       "model_id": "2e578dfb4d1941ff97c8419d9ed5c2c7",
       "version_major": 2,
       "version_minor": 0
      },
      "text/plain": [
       "model.safetensors.index.json:   0%|          | 0.00/16.5k [00:00<?, ?B/s]"
      ]
     },
     "metadata": {},
     "output_type": "display_data"
    },
    {
     "data": {
      "application/vnd.jupyter.widget-view+json": {
       "model_id": "9ac975eb48ad4628a4ca6372fed865e4",
       "version_major": 2,
       "version_minor": 0
      },
      "text/plain": [
       "Downloading shards:   0%|          | 0/2 [00:00<?, ?it/s]"
      ]
     },
     "metadata": {},
     "output_type": "display_data"
    },
    {
     "data": {
      "application/vnd.jupyter.widget-view+json": {
       "model_id": "305c657671a4437098c42043d5fc39bd",
       "version_major": 2,
       "version_minor": 0
      },
      "text/plain": [
       "model-00001-of-00002.safetensors:   0%|          | 0.00/4.97G [00:00<?, ?B/s]"
      ]
     },
     "metadata": {},
     "output_type": "display_data"
    },
    {
     "data": {
      "application/vnd.jupyter.widget-view+json": {
       "model_id": "ed3c18308ca5479c821877e435bfd0fa",
       "version_major": 2,
       "version_minor": 0
      },
      "text/plain": [
       "model-00002-of-00002.safetensors:   0%|          | 0.00/2.67G [00:00<?, ?B/s]"
      ]
     },
     "metadata": {},
     "output_type": "display_data"
    },
    {
     "data": {
      "application/vnd.jupyter.widget-view+json": {
       "model_id": "be13a0b54f76457080e78f313c435dca",
       "version_major": 2,
       "version_minor": 0
      },
      "text/plain": [
       "Loading checkpoint shards:   0%|          | 0/2 [00:00<?, ?it/s]"
      ]
     },
     "metadata": {},
     "output_type": "display_data"
    },
    {
     "data": {
      "application/vnd.jupyter.widget-view+json": {
       "model_id": "06dcc2b8e431449192f373b72ca59b24",
       "version_major": 2,
       "version_minor": 0
      },
      "text/plain": [
       "generation_config.json:   0%|          | 0.00/181 [00:00<?, ?B/s]"
      ]
     },
     "metadata": {},
     "output_type": "display_data"
    }
   ],
   "source": [
    "from transformers import AutoModelForCausalLM, AutoTokenizer, pipeline\n",
    "\n",
    "# 모델과 토크나이저를 로드합니다.\n",
    "tokenizer = AutoTokenizer.from_pretrained(\"microsoft/Phi-3-mini-4k-instruct\")\n",
    "\n",
    "model = AutoModelForCausalLM.from_pretrained(\n",
    "    \"microsoft/Phi-3-mini-4k-instruct\",\n",
    "    device_map=\"cuda\",\n",
    "    torch_dtype=\"auto\",\n",
    "    trust_remote_code=True,\n",
    ")\n",
    "\n",
    "# Create a pipeline\n",
    "generator = pipeline(\n",
    "    \"text-generation\",\n",
    "    model=model,\n",
    "    tokenizer=tokenizer,\n",
    "    return_full_text=False,\n",
    "    max_new_tokens=50,\n",
    "    do_sample=False,\n",
    ")"
   ]
  },
  {
   "cell_type": "markdown",
   "metadata": {
    "id": "REqcz-ID_XgV"
   },
   "source": [
    "# 훈련된 트랜스포머 LLM의 입력과 출력\n"
   ]
  },
  {
   "cell_type": "code",
   "execution_count": null,
   "metadata": {
    "colab": {
     "base_uri": "https://localhost:8080/"
    },
    "id": "17h6TPHluJ-i",
    "outputId": "879dcfe3-b9ff-47cb-deb5-a6b2ea97faf1"
   },
   "outputs": [
    {
     "name": "stderr",
     "output_type": "stream",
     "text": [
      "The `seen_tokens` attribute is deprecated and will be removed in v4.41. Use the `cache_position` model input instead.\n",
      "`get_max_cache()` is deprecated for all Cache classes. Use `get_max_cache_shape()` instead. Calling `get_max_cache()` will raise error from v4.48\n",
      "WARNING:transformers_modules.microsoft.Phi-3-mini-4k-instruct.0a67737cc96d2554230f90338b163bc6380a2a85.modeling_phi3:You are not running the flash-attention implementation, expect numerical differences.\n"
     ]
    },
    {
     "name": "stdout",
     "output_type": "stream",
     "text": [
      " Mention the steps you're taking to prevent it in the future.\n",
      "\n",
      "Dear Sarah,\n",
      "\n",
      "I hope this message finds you well. I am writing to express my deepest apologies for the unfortunate incident that occurred in\n"
     ]
    }
   ],
   "source": [
    "prompt = \"Write an email apologizing to Sarah for the tragic gardening mishap. Explain how it happened.\"\n",
    "\n",
    "output = generator(prompt)\n",
    "\n",
    "print(output[0]['generated_text'])"
   ]
  },
  {
   "cell_type": "code",
   "execution_count": null,
   "metadata": {
    "colab": {
     "base_uri": "https://localhost:8080/"
    },
    "id": "eoFkdTd6_g5o",
    "outputId": "81a5ab95-a583-45b0-fb03-2006be55faab"
   },
   "outputs": [
    {
     "name": "stdout",
     "output_type": "stream",
     "text": [
      "Phi3ForCausalLM(\n",
      "  (model): Phi3Model(\n",
      "    (embed_tokens): Embedding(32064, 3072, padding_idx=32000)\n",
      "    (embed_dropout): Dropout(p=0.0, inplace=False)\n",
      "    (layers): ModuleList(\n",
      "      (0-31): 32 x Phi3DecoderLayer(\n",
      "        (self_attn): Phi3Attention(\n",
      "          (o_proj): Linear(in_features=3072, out_features=3072, bias=False)\n",
      "          (qkv_proj): Linear(in_features=3072, out_features=9216, bias=False)\n",
      "          (rotary_emb): Phi3RotaryEmbedding()\n",
      "        )\n",
      "        (mlp): Phi3MLP(\n",
      "          (gate_up_proj): Linear(in_features=3072, out_features=16384, bias=False)\n",
      "          (down_proj): Linear(in_features=8192, out_features=3072, bias=False)\n",
      "          (activation_fn): SiLU()\n",
      "        )\n",
      "        (input_layernorm): Phi3RMSNorm()\n",
      "        (resid_attn_dropout): Dropout(p=0.0, inplace=False)\n",
      "        (resid_mlp_dropout): Dropout(p=0.0, inplace=False)\n",
      "        (post_attention_layernorm): Phi3RMSNorm()\n",
      "      )\n",
      "    )\n",
      "    (norm): Phi3RMSNorm()\n",
      "  )\n",
      "  (lm_head): Linear(in_features=3072, out_features=32064, bias=False)\n",
      ")\n"
     ]
    }
   ],
   "source": [
    "print(model)"
   ]
  },
  {
   "cell_type": "markdown",
   "metadata": {
    "id": "RTrwzB67BYVY"
   },
   "source": [
    "# 확률 분포로부터 하나의 토큰 선택하기(샘플링/디코딩)"
   ]
  },
  {
   "cell_type": "code",
   "execution_count": null,
   "metadata": {
    "id": "sEcxYgJxBYbJ"
   },
   "outputs": [],
   "source": [
    "prompt = \"The capital of France is\"\n",
    "\n",
    "# 입력 프롬프트를 토큰화합니다.\n",
    "input_ids = tokenizer(prompt, return_tensors=\"pt\").input_ids\n",
    "\n",
    "# 입력 토큰을 GPU에 배치합니다.\n",
    "input_ids = input_ids.to(\"cuda\")\n",
    "\n",
    "# lm_head 앞에 있는 model의 출력을 얻습니다.\n",
    "model_output = model.model(input_ids)\n",
    "\n",
    "# lm_head의 출력을 얻습니다.\n",
    "lm_head_output = model.lm_head(model_output[0])"
   ]
  },
  {
   "cell_type": "code",
   "execution_count": null,
   "metadata": {
    "colab": {
     "base_uri": "https://localhost:8080/",
     "height": 36
    },
    "id": "68YUSS4GBf9Q",
    "outputId": "34c21d66-5c9b-415a-863b-3c2c4167c4f1"
   },
   "outputs": [
    {
     "data": {
      "application/vnd.google.colaboratory.intrinsic+json": {
       "type": "string"
      },
      "text/plain": [
       "'Paris'"
      ]
     },
     "execution_count": 5,
     "metadata": {},
     "output_type": "execute_result"
    }
   ],
   "source": [
    "token_id = lm_head_output[0,-1].argmax(-1)\n",
    "tokenizer.decode(token_id)"
   ]
  },
  {
   "cell_type": "code",
   "execution_count": null,
   "metadata": {
    "colab": {
     "base_uri": "https://localhost:8080/"
    },
    "id": "cWWrfC5oBjwp",
    "outputId": "9caa0ef0-158c-4157-c7e7-f1fe803f7b35"
   },
   "outputs": [
    {
     "data": {
      "text/plain": [
       "torch.Size([1, 5, 3072])"
      ]
     },
     "execution_count": 6,
     "metadata": {},
     "output_type": "execute_result"
    }
   ],
   "source": [
    "model_output[0].shape"
   ]
  },
  {
   "cell_type": "code",
   "execution_count": null,
   "metadata": {
    "colab": {
     "base_uri": "https://localhost:8080/"
    },
    "id": "nC1PdOnTBnxZ",
    "outputId": "f4a39e2d-ffd8-4f19-93d9-f26955a0f507"
   },
   "outputs": [
    {
     "data": {
      "text/plain": [
       "torch.Size([1, 5, 32064])"
      ]
     },
     "execution_count": 7,
     "metadata": {},
     "output_type": "execute_result"
    }
   ],
   "source": [
    "lm_head_output.shape"
   ]
  },
  {
   "cell_type": "markdown",
   "metadata": {
    "id": "Of2_rP4QBqrZ"
   },
   "source": [
    "# 키와 값을 캐싱하여 생성 속도 높이기\n"
   ]
  },
  {
   "cell_type": "code",
   "execution_count": null,
   "metadata": {
    "id": "B0n6JhNHBrin"
   },
   "outputs": [],
   "source": [
    "prompt = \"Write a very long email apologizing to Sarah for the tragic gardening mishap. Explain how it happened.\"\n",
    "\n",
    "# 입력 프롬프트를 토큰화합니다.\n",
    "input_ids = tokenizer(prompt, return_tensors=\"pt\").input_ids\n",
    "input_ids = input_ids.to(\"cuda\")"
   ]
  },
  {
   "cell_type": "code",
   "execution_count": null,
   "metadata": {
    "colab": {
     "base_uri": "https://localhost:8080/"
    },
    "id": "BwIvt6jSByAF",
    "outputId": "c07d678e-93c9-4985-da3f-43dcb1c619d0"
   },
   "outputs": [
    {
     "name": "stderr",
     "output_type": "stream",
     "text": [
      "The attention mask is not set and cannot be inferred from input because pad token is same as eos token. As a consequence, you may observe unexpected behavior. Please pass your input's `attention_mask` to obtain reliable results.\n"
     ]
    },
    {
     "name": "stdout",
     "output_type": "stream",
     "text": [
      "4.81 s ± 363 ms per loop (mean ± std. dev. of 7 runs, 1 loop each)\n"
     ]
    }
   ],
   "source": [
    "%%timeit -n 1\n",
    "# 텍스트를 생성합니다.\n",
    "generation_output = model.generate(\n",
    "  input_ids=input_ids,\n",
    "  max_new_tokens=100,\n",
    "  use_cache=True\n",
    ")"
   ]
  },
  {
   "cell_type": "code",
   "execution_count": null,
   "metadata": {
    "colab": {
     "base_uri": "https://localhost:8080/"
    },
    "id": "dFb1dcvJByCW",
    "outputId": "8c79d91b-e618-492a-ea37-a3a1459a0c5f"
   },
   "outputs": [
    {
     "name": "stdout",
     "output_type": "stream",
     "text": [
      "33.2 s ± 166 ms per loop (mean ± std. dev. of 7 runs, 1 loop each)\n"
     ]
    }
   ],
   "source": [
    "%%timeit -n 1\n",
    "# 텍스트를 생성합니다.\n",
    "generation_output = model.generate(\n",
    "  input_ids=input_ids,\n",
    "  max_new_tokens=100,\n",
    "  use_cache=False\n",
    ")"
   ]
  }
 ],
 "metadata": {
  "accelerator": "GPU",
  "colab": {
   "gpuType": "T4",
   "provenance": []
  },
  "kernelspec": {
   "display_name": "Python 3 (ipykernel)",
   "language": "python",
   "name": "python3"
  },
  "language_info": {
   "codemirror_mode": {
    "name": "ipython",
    "version": 3
   },
   "file_extension": ".py",
   "mimetype": "text/x-python",
   "name": "python",
   "nbconvert_exporter": "python",
   "pygments_lexer": "ipython3",
   "version": "3.8.18"
  }
 },
 "nbformat": 4,
 "nbformat_minor": 1
}
